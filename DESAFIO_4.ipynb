{
 "cells": [
  {
   "cell_type": "markdown",
   "id": "invisible-detection",
   "metadata": {},
   "source": [
    "# Desafío 4 - Peliculas IMDB"
   ]
  },
  {
   "cell_type": "markdown",
   "id": "numeric-paint",
   "metadata": {},
   "source": [
    "En este desafío el objetivo es encontrar el mejor modelo de machine learning (ML) para predecir el markup (ingresos/presupuesto) para lanzamiento de peliculas nuevas. \n",
    "Inicialmente se analizarán los datasets y las posibles variables feature. Luego, con la data limpia, procederemos a utilizar clasificadores más bien débiles como KNN y Regresión Logítica para finalizar con modelos más robustos como lo son Bagging y Boosting. Todo estos modelos serán optimizados gracias a la combinación de pipeline + GridSearch. Para concluir el análisis utlizaremos diversas métricas como matirces de confusion, curva ROC y AUC.\n"
   ]
  },
  {
   "cell_type": "markdown",
   "id": "fixed-justice",
   "metadata": {},
   "source": [
    "<a id=\"section_toc\"></a> \n",
    "## Tabla de Contenidos\n",
    "\n",
    "<a href=\"#section_ii\">Introducción - Importaciones</a>\n",
    "\n",
    "<a href=\"#section_data\">Análisis de Datasets</a>\n",
    "\n",
    "<a href=\"#section_target\">Variable target</a>\n",
    "\n",
    "<a href=\"#section_features\">Variables Features</a>\n",
    "\n",
    "   - <a href=\"#section_nulos\">Cantidad de nulos por columna</a>\n",
    "   \n",
    "   - <a href=\"#section_country\">Country</a>\n",
    "\n",
    "   - <a href=\"#section_date\">Date published</a>\n",
    "\n",
    "   - <a href=\"#section_participantes\">Participantes</a>\n",
    "   \n",
    "   - <a href=\"#section_genero\">Género</a>\n",
    "\n",
    "   - <a href=\"#section_heatmap\">Heatmap</a>\n",
    "\n",
    "<a href=\"#section_target_final\">Discretización Target</a>\n",
    "\n",
    "<a href=\"#section_modelos\">Modelos de Clasificación Pipelines</a>\n",
    "\n",
    "   - <a href=\"#section_smotenc\">SMOTENC</a>\n",
    "   \n",
    "   - <a href=\"#section_knn\">KNN</a>\n",
    "\n",
    "   - <a href=\"#section_rl\">Regresión Logística</a>\n",
    "   \n",
    "   - <a href=\"#section_dt\">Decision Trees</a>\n",
    "\n",
    "   - <a href=\"#section_random_forest\">Random Forest</a>\n",
    "   \n",
    "   - <a href=\"#section_xgb\">XGBoost</a>\n",
    "   \n",
    "<a href=\"#section_rc_auc\">Roc Curve y AUC</a>\n",
    "   \n",
    "<a href=\"#section_rfe\">Recursive Feature Elimination with Cross Validation</a>\n",
    "\n",
    "<a href=\"#section_pickle\">Pickle</a>\n",
    "\n",
    "\n",
    "---"
   ]
  },
  {
   "cell_type": "markdown",
   "id": "blond-closer",
   "metadata": {},
   "source": [
    "<a id=\"section_ii\"></a>\n",
    "\n",
    "## Introducción - Importaciones\n",
    "\n",
    "[volver a TOC](#section_toc)"
   ]
  },
  {
   "cell_type": "code",
   "execution_count": 1,
   "id": "numerous-vegetable",
   "metadata": {},
   "outputs": [],
   "source": [
    "import numpy as np\n",
    "import pandas as pd\n",
    "import re\n",
    "import matplotlib.pyplot as plt\n",
    "import seaborn as sns\n",
    "import warnings\n",
    "from sklearn.model_selection import train_test_split, GridSearchCV, StratifiedKFold, RandomizedSearchCV \n",
    "from imblearn.over_sampling import SMOTENC\n",
    "from sklearn.preprocessing import StandardScaler, MinMaxScaler\n",
    "from sklearn.linear_model import LogisticRegression, LogisticRegressionCV\n",
    "from sklearn.metrics import accuracy_score,plot_confusion_matrix,roc_auc_score, classification_report, confusion_matrix, precision_recall_curve, auc\n",
    "from sklearn.neighbors import KNeighborsClassifier\n",
    "from sklearn.pipeline import Pipeline\n",
    "from sklearn.ensemble import RandomForestClassifier\n",
    "from sklearn.tree import DecisionTreeClassifier\n",
    "from xgboost import XGBClassifier\n",
    "from sklearn.metrics import roc_curve, auc\n",
    "from sklearn.feature_selection import RFECV\n",
    "from lime.lime_tabular import LimeTabularExplainer\n",
    "import pickle"
   ]
  },
  {
   "cell_type": "markdown",
   "id": "quiet-campus",
   "metadata": {},
   "source": [
    "<a id=\"section_data\"></a>\n",
    "\n",
    "## Análisis de Datasets\n",
    "\n",
    "[volver a TOC](#section_toc)"
   ]
  },
  {
   "cell_type": "code",
   "execution_count": 2,
   "id": "satellite-drove",
   "metadata": {},
   "outputs": [
    {
     "name": "stderr",
     "output_type": "stream",
     "text": [
      "C:\\Users\\santi\\anaconda3\\envs\\dhdsblend2021\\lib\\site-packages\\IPython\\core\\interactiveshell.py:3427: DtypeWarning: Columns (3) have mixed types.Specify dtype option on import or set low_memory=False.\n",
      "  exec(code_obj, self.user_global_ns, self.user_ns)\n"
     ]
    }
   ],
   "source": [
    "data_movies = pd.read_csv(\"IMDb movies.csv\")"
   ]
  },
  {
   "cell_type": "code",
   "execution_count": 3,
   "id": "narrative-drama",
   "metadata": {},
   "outputs": [
    {
     "name": "stdout",
     "output_type": "stream",
     "text": [
      "<class 'pandas.core.frame.DataFrame'>\n",
      "RangeIndex: 85855 entries, 0 to 85854\n",
      "Data columns (total 22 columns):\n",
      " #   Column                 Non-Null Count  Dtype  \n",
      "---  ------                 --------------  -----  \n",
      " 0   imdb_title_id          85855 non-null  object \n",
      " 1   title                  85855 non-null  object \n",
      " 2   original_title         85855 non-null  object \n",
      " 3   year                   85855 non-null  object \n",
      " 4   date_published         85855 non-null  object \n",
      " 5   genre                  85855 non-null  object \n",
      " 6   duration               85855 non-null  int64  \n",
      " 7   country                85791 non-null  object \n",
      " 8   language               85022 non-null  object \n",
      " 9   director               85768 non-null  object \n",
      " 10  writer                 84283 non-null  object \n",
      " 11  production_company     81400 non-null  object \n",
      " 12  actors                 85786 non-null  object \n",
      " 13  description            83740 non-null  object \n",
      " 14  avg_vote               85855 non-null  float64\n",
      " 15  votes                  85855 non-null  int64  \n",
      " 16  budget                 23710 non-null  object \n",
      " 17  usa_gross_income       15326 non-null  object \n",
      " 18  worlwide_gross_income  31016 non-null  object \n",
      " 19  metascore              13305 non-null  float64\n",
      " 20  reviews_from_users     78258 non-null  float64\n",
      " 21  reviews_from_critics   74058 non-null  float64\n",
      "dtypes: float64(4), int64(2), object(16)\n",
      "memory usage: 14.4+ MB\n"
     ]
    }
   ],
   "source": [
    "data_movies.info()"
   ]
  },
  {
   "cell_type": "code",
   "execution_count": 4,
   "id": "assigned-alignment",
   "metadata": {},
   "outputs": [
    {
     "data": {
      "text/html": [
       "<div>\n",
       "<style scoped>\n",
       "    .dataframe tbody tr th:only-of-type {\n",
       "        vertical-align: middle;\n",
       "    }\n",
       "\n",
       "    .dataframe tbody tr th {\n",
       "        vertical-align: top;\n",
       "    }\n",
       "\n",
       "    .dataframe thead th {\n",
       "        text-align: right;\n",
       "    }\n",
       "</style>\n",
       "<table border=\"1\" class=\"dataframe\">\n",
       "  <thead>\n",
       "    <tr style=\"text-align: right;\">\n",
       "      <th></th>\n",
       "      <th>imdb_title_id</th>\n",
       "      <th>title</th>\n",
       "      <th>original_title</th>\n",
       "      <th>year</th>\n",
       "      <th>date_published</th>\n",
       "      <th>genre</th>\n",
       "      <th>duration</th>\n",
       "      <th>country</th>\n",
       "      <th>language</th>\n",
       "      <th>director</th>\n",
       "      <th>...</th>\n",
       "      <th>actors</th>\n",
       "      <th>description</th>\n",
       "      <th>avg_vote</th>\n",
       "      <th>votes</th>\n",
       "      <th>budget</th>\n",
       "      <th>usa_gross_income</th>\n",
       "      <th>worlwide_gross_income</th>\n",
       "      <th>metascore</th>\n",
       "      <th>reviews_from_users</th>\n",
       "      <th>reviews_from_critics</th>\n",
       "    </tr>\n",
       "  </thead>\n",
       "  <tbody>\n",
       "    <tr>\n",
       "      <th>0</th>\n",
       "      <td>tt0000009</td>\n",
       "      <td>Miss Jerry</td>\n",
       "      <td>Miss Jerry</td>\n",
       "      <td>1894</td>\n",
       "      <td>1894-10-09</td>\n",
       "      <td>Romance</td>\n",
       "      <td>45</td>\n",
       "      <td>USA</td>\n",
       "      <td>None</td>\n",
       "      <td>Alexander Black</td>\n",
       "      <td>...</td>\n",
       "      <td>Blanche Bayliss, William Courtenay, Chauncey D...</td>\n",
       "      <td>The adventures of a female reporter in the 1890s.</td>\n",
       "      <td>5.9</td>\n",
       "      <td>154</td>\n",
       "      <td>NaN</td>\n",
       "      <td>NaN</td>\n",
       "      <td>NaN</td>\n",
       "      <td>NaN</td>\n",
       "      <td>1.0</td>\n",
       "      <td>2.0</td>\n",
       "    </tr>\n",
       "    <tr>\n",
       "      <th>1</th>\n",
       "      <td>tt0000574</td>\n",
       "      <td>The Story of the Kelly Gang</td>\n",
       "      <td>The Story of the Kelly Gang</td>\n",
       "      <td>1906</td>\n",
       "      <td>1906-12-26</td>\n",
       "      <td>Biography, Crime, Drama</td>\n",
       "      <td>70</td>\n",
       "      <td>Australia</td>\n",
       "      <td>None</td>\n",
       "      <td>Charles Tait</td>\n",
       "      <td>...</td>\n",
       "      <td>Elizabeth Tait, John Tait, Norman Campbell, Be...</td>\n",
       "      <td>True story of notorious Australian outlaw Ned ...</td>\n",
       "      <td>6.1</td>\n",
       "      <td>589</td>\n",
       "      <td>$ 2250</td>\n",
       "      <td>NaN</td>\n",
       "      <td>NaN</td>\n",
       "      <td>NaN</td>\n",
       "      <td>7.0</td>\n",
       "      <td>7.0</td>\n",
       "    </tr>\n",
       "    <tr>\n",
       "      <th>2</th>\n",
       "      <td>tt0001892</td>\n",
       "      <td>Den sorte drøm</td>\n",
       "      <td>Den sorte drøm</td>\n",
       "      <td>1911</td>\n",
       "      <td>1911-08-19</td>\n",
       "      <td>Drama</td>\n",
       "      <td>53</td>\n",
       "      <td>Germany, Denmark</td>\n",
       "      <td>NaN</td>\n",
       "      <td>Urban Gad</td>\n",
       "      <td>...</td>\n",
       "      <td>Asta Nielsen, Valdemar Psilander, Gunnar Helse...</td>\n",
       "      <td>Two men of high rank are both wooing the beaut...</td>\n",
       "      <td>5.8</td>\n",
       "      <td>188</td>\n",
       "      <td>NaN</td>\n",
       "      <td>NaN</td>\n",
       "      <td>NaN</td>\n",
       "      <td>NaN</td>\n",
       "      <td>5.0</td>\n",
       "      <td>2.0</td>\n",
       "    </tr>\n",
       "    <tr>\n",
       "      <th>3</th>\n",
       "      <td>tt0002101</td>\n",
       "      <td>Cleopatra</td>\n",
       "      <td>Cleopatra</td>\n",
       "      <td>1912</td>\n",
       "      <td>1912-11-13</td>\n",
       "      <td>Drama, History</td>\n",
       "      <td>100</td>\n",
       "      <td>USA</td>\n",
       "      <td>English</td>\n",
       "      <td>Charles L. Gaskill</td>\n",
       "      <td>...</td>\n",
       "      <td>Helen Gardner, Pearl Sindelar, Miss Fielding, ...</td>\n",
       "      <td>The fabled queen of Egypt's affair with Roman ...</td>\n",
       "      <td>5.2</td>\n",
       "      <td>446</td>\n",
       "      <td>$ 45000</td>\n",
       "      <td>NaN</td>\n",
       "      <td>NaN</td>\n",
       "      <td>NaN</td>\n",
       "      <td>25.0</td>\n",
       "      <td>3.0</td>\n",
       "    </tr>\n",
       "    <tr>\n",
       "      <th>4</th>\n",
       "      <td>tt0002130</td>\n",
       "      <td>L'Inferno</td>\n",
       "      <td>L'Inferno</td>\n",
       "      <td>1911</td>\n",
       "      <td>1911-03-06</td>\n",
       "      <td>Adventure, Drama, Fantasy</td>\n",
       "      <td>68</td>\n",
       "      <td>Italy</td>\n",
       "      <td>Italian</td>\n",
       "      <td>Francesco Bertolini, Adolfo Padovan</td>\n",
       "      <td>...</td>\n",
       "      <td>Salvatore Papa, Arturo Pirovano, Giuseppe de L...</td>\n",
       "      <td>Loosely adapted from Dante's Divine Comedy and...</td>\n",
       "      <td>7.0</td>\n",
       "      <td>2237</td>\n",
       "      <td>NaN</td>\n",
       "      <td>NaN</td>\n",
       "      <td>NaN</td>\n",
       "      <td>NaN</td>\n",
       "      <td>31.0</td>\n",
       "      <td>14.0</td>\n",
       "    </tr>\n",
       "  </tbody>\n",
       "</table>\n",
       "<p>5 rows × 22 columns</p>\n",
       "</div>"
      ],
      "text/plain": [
       "  imdb_title_id                        title               original_title  \\\n",
       "0     tt0000009                   Miss Jerry                   Miss Jerry   \n",
       "1     tt0000574  The Story of the Kelly Gang  The Story of the Kelly Gang   \n",
       "2     tt0001892               Den sorte drøm               Den sorte drøm   \n",
       "3     tt0002101                    Cleopatra                    Cleopatra   \n",
       "4     tt0002130                    L'Inferno                    L'Inferno   \n",
       "\n",
       "   year date_published                      genre  duration           country  \\\n",
       "0  1894     1894-10-09                    Romance        45               USA   \n",
       "1  1906     1906-12-26    Biography, Crime, Drama        70         Australia   \n",
       "2  1911     1911-08-19                      Drama        53  Germany, Denmark   \n",
       "3  1912     1912-11-13             Drama, History       100               USA   \n",
       "4  1911     1911-03-06  Adventure, Drama, Fantasy        68             Italy   \n",
       "\n",
       "  language                             director  ...  \\\n",
       "0     None                      Alexander Black  ...   \n",
       "1     None                         Charles Tait  ...   \n",
       "2      NaN                            Urban Gad  ...   \n",
       "3  English                   Charles L. Gaskill  ...   \n",
       "4  Italian  Francesco Bertolini, Adolfo Padovan  ...   \n",
       "\n",
       "                                              actors  \\\n",
       "0  Blanche Bayliss, William Courtenay, Chauncey D...   \n",
       "1  Elizabeth Tait, John Tait, Norman Campbell, Be...   \n",
       "2  Asta Nielsen, Valdemar Psilander, Gunnar Helse...   \n",
       "3  Helen Gardner, Pearl Sindelar, Miss Fielding, ...   \n",
       "4  Salvatore Papa, Arturo Pirovano, Giuseppe de L...   \n",
       "\n",
       "                                         description avg_vote votes   budget  \\\n",
       "0  The adventures of a female reporter in the 1890s.      5.9   154      NaN   \n",
       "1  True story of notorious Australian outlaw Ned ...      6.1   589   $ 2250   \n",
       "2  Two men of high rank are both wooing the beaut...      5.8   188      NaN   \n",
       "3  The fabled queen of Egypt's affair with Roman ...      5.2   446  $ 45000   \n",
       "4  Loosely adapted from Dante's Divine Comedy and...      7.0  2237      NaN   \n",
       "\n",
       "   usa_gross_income worlwide_gross_income metascore reviews_from_users  \\\n",
       "0               NaN                   NaN       NaN                1.0   \n",
       "1               NaN                   NaN       NaN                7.0   \n",
       "2               NaN                   NaN       NaN                5.0   \n",
       "3               NaN                   NaN       NaN               25.0   \n",
       "4               NaN                   NaN       NaN               31.0   \n",
       "\n",
       "   reviews_from_critics  \n",
       "0                   2.0  \n",
       "1                   7.0  \n",
       "2                   2.0  \n",
       "3                   3.0  \n",
       "4                  14.0  \n",
       "\n",
       "[5 rows x 22 columns]"
      ]
     },
     "execution_count": 4,
     "metadata": {},
     "output_type": "execute_result"
    }
   ],
   "source": [
    "data_movies.head(5)"
   ]
  },
  {
   "cell_type": "code",
   "execution_count": 5,
   "id": "welcome-concentration",
   "metadata": {},
   "outputs": [],
   "source": [
    "data_names = pd.read_csv(\"IMDb names.csv\")"
   ]
  },
  {
   "cell_type": "code",
   "execution_count": 6,
   "id": "expected-denmark",
   "metadata": {},
   "outputs": [
    {
     "name": "stdout",
     "output_type": "stream",
     "text": [
      "<class 'pandas.core.frame.DataFrame'>\n",
      "RangeIndex: 297705 entries, 0 to 297704\n",
      "Data columns (total 17 columns):\n",
      " #   Column                 Non-Null Count   Dtype  \n",
      "---  ------                 --------------   -----  \n",
      " 0   imdb_name_id           297705 non-null  object \n",
      " 1   name                   297705 non-null  object \n",
      " 2   birth_name             297705 non-null  object \n",
      " 3   height                 44681 non-null   float64\n",
      " 4   bio                    204698 non-null  object \n",
      " 5   birth_details          110612 non-null  object \n",
      " 6   date_of_birth          110612 non-null  object \n",
      " 7   place_of_birth         103992 non-null  object \n",
      " 8   death_details          39933 non-null   object \n",
      " 9   date_of_death          39933 non-null   object \n",
      " 10  place_of_death         37038 non-null   object \n",
      " 11  reason_of_death        22694 non-null   object \n",
      " 12  spouses_string         45352 non-null   object \n",
      " 13  spouses                297705 non-null  int64  \n",
      " 14  divorces               297705 non-null  int64  \n",
      " 15  spouses_with_children  297705 non-null  int64  \n",
      " 16  children               297705 non-null  int64  \n",
      "dtypes: float64(1), int64(4), object(12)\n",
      "memory usage: 38.6+ MB\n"
     ]
    }
   ],
   "source": [
    "data_names.info()"
   ]
  },
  {
   "cell_type": "code",
   "execution_count": 7,
   "id": "american-jonathan",
   "metadata": {},
   "outputs": [
    {
     "data": {
      "text/html": [
       "<div>\n",
       "<style scoped>\n",
       "    .dataframe tbody tr th:only-of-type {\n",
       "        vertical-align: middle;\n",
       "    }\n",
       "\n",
       "    .dataframe tbody tr th {\n",
       "        vertical-align: top;\n",
       "    }\n",
       "\n",
       "    .dataframe thead th {\n",
       "        text-align: right;\n",
       "    }\n",
       "</style>\n",
       "<table border=\"1\" class=\"dataframe\">\n",
       "  <thead>\n",
       "    <tr style=\"text-align: right;\">\n",
       "      <th></th>\n",
       "      <th>imdb_name_id</th>\n",
       "      <th>name</th>\n",
       "      <th>birth_name</th>\n",
       "      <th>height</th>\n",
       "      <th>bio</th>\n",
       "      <th>birth_details</th>\n",
       "      <th>date_of_birth</th>\n",
       "      <th>place_of_birth</th>\n",
       "      <th>death_details</th>\n",
       "      <th>date_of_death</th>\n",
       "      <th>place_of_death</th>\n",
       "      <th>reason_of_death</th>\n",
       "      <th>spouses_string</th>\n",
       "      <th>spouses</th>\n",
       "      <th>divorces</th>\n",
       "      <th>spouses_with_children</th>\n",
       "      <th>children</th>\n",
       "    </tr>\n",
       "  </thead>\n",
       "  <tbody>\n",
       "    <tr>\n",
       "      <th>0</th>\n",
       "      <td>nm0000001</td>\n",
       "      <td>Fred Astaire</td>\n",
       "      <td>Frederic Austerlitz Jr.</td>\n",
       "      <td>177.0</td>\n",
       "      <td>Fred Astaire was born in Omaha, Nebraska, to J...</td>\n",
       "      <td>May 10, 1899 in Omaha, Nebraska, USA</td>\n",
       "      <td>1899-05-10</td>\n",
       "      <td>Omaha, Nebraska, USA</td>\n",
       "      <td>June 22, 1987 in Los Angeles, California, USA ...</td>\n",
       "      <td>1987-06-22</td>\n",
       "      <td>Los Angeles, California, USA</td>\n",
       "      <td>pneumonia</td>\n",
       "      <td>Robyn Smith  (27 June 1980 - 22 June 1987) (hi...</td>\n",
       "      <td>2</td>\n",
       "      <td>0</td>\n",
       "      <td>1</td>\n",
       "      <td>2</td>\n",
       "    </tr>\n",
       "    <tr>\n",
       "      <th>1</th>\n",
       "      <td>nm0000002</td>\n",
       "      <td>Lauren Bacall</td>\n",
       "      <td>Betty Joan Perske</td>\n",
       "      <td>174.0</td>\n",
       "      <td>Lauren Bacall was born Betty Joan Perske on Se...</td>\n",
       "      <td>September 16, 1924 in The Bronx, New York City...</td>\n",
       "      <td>1924-09-16</td>\n",
       "      <td>The Bronx, New York City, New York, USA</td>\n",
       "      <td>August 12, 2014 in New York City, New York, US...</td>\n",
       "      <td>2014-08-12</td>\n",
       "      <td>New York City, New York, USA</td>\n",
       "      <td>stroke</td>\n",
       "      <td>Jason Robards  (4 July 1961 - 10 September 196...</td>\n",
       "      <td>2</td>\n",
       "      <td>1</td>\n",
       "      <td>2</td>\n",
       "      <td>3</td>\n",
       "    </tr>\n",
       "    <tr>\n",
       "      <th>2</th>\n",
       "      <td>nm0000003</td>\n",
       "      <td>Brigitte Bardot</td>\n",
       "      <td>Brigitte Bardot</td>\n",
       "      <td>166.0</td>\n",
       "      <td>Brigitte Bardot was born on September 28, 1934...</td>\n",
       "      <td>September 28, 1934 in Paris, France</td>\n",
       "      <td>1934-09-28</td>\n",
       "      <td>Paris, France</td>\n",
       "      <td>NaN</td>\n",
       "      <td>NaN</td>\n",
       "      <td>NaN</td>\n",
       "      <td>NaN</td>\n",
       "      <td>Bernard d'Ormale  (16 August 1992 - present)\\n...</td>\n",
       "      <td>4</td>\n",
       "      <td>3</td>\n",
       "      <td>1</td>\n",
       "      <td>1</td>\n",
       "    </tr>\n",
       "    <tr>\n",
       "      <th>3</th>\n",
       "      <td>nm0000004</td>\n",
       "      <td>John Belushi</td>\n",
       "      <td>John Adam Belushi</td>\n",
       "      <td>170.0</td>\n",
       "      <td>John Belushi was born in Chicago, Illinois, US...</td>\n",
       "      <td>January 24, 1949 in Chicago, Illinois, USA</td>\n",
       "      <td>1949-01-24</td>\n",
       "      <td>Chicago, Illinois, USA</td>\n",
       "      <td>March 5, 1982 in Hollywood, Los Angeles, Calif...</td>\n",
       "      <td>1982-03-05</td>\n",
       "      <td>Hollywood, Los Angeles, California, USA</td>\n",
       "      <td>acute cocaine and heroin intoxication</td>\n",
       "      <td>Judith Belushi-Pisano  (31 December 1976 - 5 M...</td>\n",
       "      <td>1</td>\n",
       "      <td>0</td>\n",
       "      <td>0</td>\n",
       "      <td>0</td>\n",
       "    </tr>\n",
       "    <tr>\n",
       "      <th>4</th>\n",
       "      <td>nm0000005</td>\n",
       "      <td>Ingmar Bergman</td>\n",
       "      <td>Ernst Ingmar Bergman</td>\n",
       "      <td>179.0</td>\n",
       "      <td>Ernst Ingmar Bergman was born July 14, 1918, t...</td>\n",
       "      <td>July 14, 1918 in Uppsala, Uppsala län, Sweden</td>\n",
       "      <td>1918-07-14</td>\n",
       "      <td>Uppsala, Uppsala län, Sweden</td>\n",
       "      <td>July 30, 2007 in Fårö, Gotlands län, Sweden  (...</td>\n",
       "      <td>2007-07-30</td>\n",
       "      <td>Fårö, Gotlands län, Sweden</td>\n",
       "      <td>natural causes</td>\n",
       "      <td>Ingrid Bergman  (11 November 1971 - 20 May 199...</td>\n",
       "      <td>5</td>\n",
       "      <td>4</td>\n",
       "      <td>5</td>\n",
       "      <td>8</td>\n",
       "    </tr>\n",
       "  </tbody>\n",
       "</table>\n",
       "</div>"
      ],
      "text/plain": [
       "  imdb_name_id             name               birth_name  height  \\\n",
       "0    nm0000001     Fred Astaire  Frederic Austerlitz Jr.   177.0   \n",
       "1    nm0000002    Lauren Bacall        Betty Joan Perske   174.0   \n",
       "2    nm0000003  Brigitte Bardot          Brigitte Bardot   166.0   \n",
       "3    nm0000004     John Belushi        John Adam Belushi   170.0   \n",
       "4    nm0000005   Ingmar Bergman     Ernst Ingmar Bergman   179.0   \n",
       "\n",
       "                                                 bio  \\\n",
       "0  Fred Astaire was born in Omaha, Nebraska, to J...   \n",
       "1  Lauren Bacall was born Betty Joan Perske on Se...   \n",
       "2  Brigitte Bardot was born on September 28, 1934...   \n",
       "3  John Belushi was born in Chicago, Illinois, US...   \n",
       "4  Ernst Ingmar Bergman was born July 14, 1918, t...   \n",
       "\n",
       "                                       birth_details date_of_birth  \\\n",
       "0               May 10, 1899 in Omaha, Nebraska, USA    1899-05-10   \n",
       "1  September 16, 1924 in The Bronx, New York City...    1924-09-16   \n",
       "2                September 28, 1934 in Paris, France    1934-09-28   \n",
       "3         January 24, 1949 in Chicago, Illinois, USA    1949-01-24   \n",
       "4      July 14, 1918 in Uppsala, Uppsala län, Sweden    1918-07-14   \n",
       "\n",
       "                            place_of_birth  \\\n",
       "0                     Omaha, Nebraska, USA   \n",
       "1  The Bronx, New York City, New York, USA   \n",
       "2                            Paris, France   \n",
       "3                   Chicago, Illinois, USA   \n",
       "4             Uppsala, Uppsala län, Sweden   \n",
       "\n",
       "                                       death_details date_of_death  \\\n",
       "0  June 22, 1987 in Los Angeles, California, USA ...    1987-06-22   \n",
       "1  August 12, 2014 in New York City, New York, US...    2014-08-12   \n",
       "2                                                NaN           NaN   \n",
       "3  March 5, 1982 in Hollywood, Los Angeles, Calif...    1982-03-05   \n",
       "4  July 30, 2007 in Fårö, Gotlands län, Sweden  (...    2007-07-30   \n",
       "\n",
       "                              place_of_death  \\\n",
       "0             Los Angeles, California, USA     \n",
       "1             New York City, New York, USA     \n",
       "2                                        NaN   \n",
       "3  Hollywood, Los Angeles, California, USA     \n",
       "4               Fårö, Gotlands län, Sweden     \n",
       "\n",
       "                         reason_of_death  \\\n",
       "0                              pneumonia   \n",
       "1                                 stroke   \n",
       "2                                    NaN   \n",
       "3  acute cocaine and heroin intoxication   \n",
       "4                         natural causes   \n",
       "\n",
       "                                      spouses_string  spouses  divorces  \\\n",
       "0  Robyn Smith  (27 June 1980 - 22 June 1987) (hi...        2         0   \n",
       "1  Jason Robards  (4 July 1961 - 10 September 196...        2         1   \n",
       "2  Bernard d'Ormale  (16 August 1992 - present)\\n...        4         3   \n",
       "3  Judith Belushi-Pisano  (31 December 1976 - 5 M...        1         0   \n",
       "4  Ingrid Bergman  (11 November 1971 - 20 May 199...        5         4   \n",
       "\n",
       "   spouses_with_children  children  \n",
       "0                      1         2  \n",
       "1                      2         3  \n",
       "2                      1         1  \n",
       "3                      0         0  \n",
       "4                      5         8  "
      ]
     },
     "execution_count": 7,
     "metadata": {},
     "output_type": "execute_result"
    }
   ],
   "source": [
    "data_names.head(5)"
   ]
  },
  {
   "cell_type": "code",
   "execution_count": 8,
   "id": "stopped-genius",
   "metadata": {},
   "outputs": [],
   "source": [
    "data_ratings = pd.read_csv(\"IMDb ratings.csv\")"
   ]
  },
  {
   "cell_type": "code",
   "execution_count": 9,
   "id": "skilled-strip",
   "metadata": {},
   "outputs": [
    {
     "name": "stdout",
     "output_type": "stream",
     "text": [
      "<class 'pandas.core.frame.DataFrame'>\n",
      "RangeIndex: 85855 entries, 0 to 85854\n",
      "Data columns (total 49 columns):\n",
      " #   Column                     Non-Null Count  Dtype  \n",
      "---  ------                     --------------  -----  \n",
      " 0   imdb_title_id              85855 non-null  object \n",
      " 1   weighted_average_vote      85855 non-null  float64\n",
      " 2   total_votes                85855 non-null  int64  \n",
      " 3   mean_vote                  85855 non-null  float64\n",
      " 4   median_vote                85855 non-null  float64\n",
      " 5   votes_10                   85855 non-null  int64  \n",
      " 6   votes_9                    85855 non-null  int64  \n",
      " 7   votes_8                    85855 non-null  int64  \n",
      " 8   votes_7                    85855 non-null  int64  \n",
      " 9   votes_6                    85855 non-null  int64  \n",
      " 10  votes_5                    85855 non-null  int64  \n",
      " 11  votes_4                    85855 non-null  int64  \n",
      " 12  votes_3                    85855 non-null  int64  \n",
      " 13  votes_2                    85855 non-null  int64  \n",
      " 14  votes_1                    85855 non-null  int64  \n",
      " 15  allgenders_0age_avg_vote   33359 non-null  float64\n",
      " 16  allgenders_0age_votes      33359 non-null  float64\n",
      " 17  allgenders_18age_avg_vote  85149 non-null  float64\n",
      " 18  allgenders_18age_votes     85149 non-null  float64\n",
      " 19  allgenders_30age_avg_vote  85845 non-null  float64\n",
      " 20  allgenders_30age_votes     85845 non-null  float64\n",
      " 21  allgenders_45age_avg_vote  85775 non-null  float64\n",
      " 22  allgenders_45age_votes     85775 non-null  float64\n",
      " 23  males_allages_avg_vote     85854 non-null  float64\n",
      " 24  males_allages_votes        85854 non-null  float64\n",
      " 25  males_0age_avg_vote        27411 non-null  float64\n",
      " 26  males_0age_votes           27411 non-null  float64\n",
      " 27  males_18age_avg_vote       84390 non-null  float64\n",
      " 28  males_18age_votes          84390 non-null  float64\n",
      " 29  males_30age_avg_vote       85843 non-null  float64\n",
      " 30  males_30age_votes          85843 non-null  float64\n",
      " 31  males_45age_avg_vote       85754 non-null  float64\n",
      " 32  males_45age_votes          85754 non-null  float64\n",
      " 33  females_allages_avg_vote   85774 non-null  float64\n",
      " 34  females_allages_votes      85774 non-null  float64\n",
      " 35  females_0age_avg_vote      22117 non-null  float64\n",
      " 36  females_0age_votes         22117 non-null  float64\n",
      " 37  females_18age_avg_vote     79334 non-null  float64\n",
      " 38  females_18age_votes        79334 non-null  float64\n",
      " 39  females_30age_avg_vote     84911 non-null  float64\n",
      " 40  females_30age_votes        84911 non-null  float64\n",
      " 41  females_45age_avg_vote     83057 non-null  float64\n",
      " 42  females_45age_votes        83057 non-null  float64\n",
      " 43  top1000_voters_rating      85176 non-null  float64\n",
      " 44  top1000_voters_votes       85176 non-null  float64\n",
      " 45  us_voters_rating           85646 non-null  float64\n",
      " 46  us_voters_votes            85646 non-null  float64\n",
      " 47  non_us_voters_rating       85854 non-null  float64\n",
      " 48  non_us_voters_votes        85854 non-null  float64\n",
      "dtypes: float64(37), int64(11), object(1)\n",
      "memory usage: 32.1+ MB\n"
     ]
    }
   ],
   "source": [
    "data_ratings.info()"
   ]
  },
  {
   "cell_type": "code",
   "execution_count": 10,
   "id": "warming-appearance",
   "metadata": {},
   "outputs": [
    {
     "data": {
      "text/html": [
       "<div>\n",
       "<style scoped>\n",
       "    .dataframe tbody tr th:only-of-type {\n",
       "        vertical-align: middle;\n",
       "    }\n",
       "\n",
       "    .dataframe tbody tr th {\n",
       "        vertical-align: top;\n",
       "    }\n",
       "\n",
       "    .dataframe thead th {\n",
       "        text-align: right;\n",
       "    }\n",
       "</style>\n",
       "<table border=\"1\" class=\"dataframe\">\n",
       "  <thead>\n",
       "    <tr style=\"text-align: right;\">\n",
       "      <th></th>\n",
       "      <th>imdb_title_id</th>\n",
       "      <th>weighted_average_vote</th>\n",
       "      <th>total_votes</th>\n",
       "      <th>mean_vote</th>\n",
       "      <th>median_vote</th>\n",
       "      <th>votes_10</th>\n",
       "      <th>votes_9</th>\n",
       "      <th>votes_8</th>\n",
       "      <th>votes_7</th>\n",
       "      <th>votes_6</th>\n",
       "      <th>...</th>\n",
       "      <th>females_30age_avg_vote</th>\n",
       "      <th>females_30age_votes</th>\n",
       "      <th>females_45age_avg_vote</th>\n",
       "      <th>females_45age_votes</th>\n",
       "      <th>top1000_voters_rating</th>\n",
       "      <th>top1000_voters_votes</th>\n",
       "      <th>us_voters_rating</th>\n",
       "      <th>us_voters_votes</th>\n",
       "      <th>non_us_voters_rating</th>\n",
       "      <th>non_us_voters_votes</th>\n",
       "    </tr>\n",
       "  </thead>\n",
       "  <tbody>\n",
       "    <tr>\n",
       "      <th>0</th>\n",
       "      <td>tt0000009</td>\n",
       "      <td>5.9</td>\n",
       "      <td>154</td>\n",
       "      <td>5.9</td>\n",
       "      <td>6.0</td>\n",
       "      <td>12</td>\n",
       "      <td>4</td>\n",
       "      <td>10</td>\n",
       "      <td>43</td>\n",
       "      <td>28</td>\n",
       "      <td>...</td>\n",
       "      <td>5.7</td>\n",
       "      <td>13.0</td>\n",
       "      <td>4.5</td>\n",
       "      <td>4.0</td>\n",
       "      <td>5.7</td>\n",
       "      <td>34.0</td>\n",
       "      <td>6.4</td>\n",
       "      <td>51.0</td>\n",
       "      <td>6.0</td>\n",
       "      <td>70.0</td>\n",
       "    </tr>\n",
       "    <tr>\n",
       "      <th>1</th>\n",
       "      <td>tt0000574</td>\n",
       "      <td>6.1</td>\n",
       "      <td>589</td>\n",
       "      <td>6.3</td>\n",
       "      <td>6.0</td>\n",
       "      <td>57</td>\n",
       "      <td>18</td>\n",
       "      <td>58</td>\n",
       "      <td>137</td>\n",
       "      <td>139</td>\n",
       "      <td>...</td>\n",
       "      <td>6.2</td>\n",
       "      <td>23.0</td>\n",
       "      <td>6.6</td>\n",
       "      <td>14.0</td>\n",
       "      <td>6.4</td>\n",
       "      <td>66.0</td>\n",
       "      <td>6.0</td>\n",
       "      <td>96.0</td>\n",
       "      <td>6.2</td>\n",
       "      <td>331.0</td>\n",
       "    </tr>\n",
       "    <tr>\n",
       "      <th>2</th>\n",
       "      <td>tt0001892</td>\n",
       "      <td>5.8</td>\n",
       "      <td>188</td>\n",
       "      <td>6.0</td>\n",
       "      <td>6.0</td>\n",
       "      <td>6</td>\n",
       "      <td>6</td>\n",
       "      <td>17</td>\n",
       "      <td>44</td>\n",
       "      <td>52</td>\n",
       "      <td>...</td>\n",
       "      <td>5.8</td>\n",
       "      <td>4.0</td>\n",
       "      <td>6.8</td>\n",
       "      <td>7.0</td>\n",
       "      <td>5.4</td>\n",
       "      <td>32.0</td>\n",
       "      <td>6.2</td>\n",
       "      <td>31.0</td>\n",
       "      <td>5.9</td>\n",
       "      <td>123.0</td>\n",
       "    </tr>\n",
       "    <tr>\n",
       "      <th>3</th>\n",
       "      <td>tt0002101</td>\n",
       "      <td>5.2</td>\n",
       "      <td>446</td>\n",
       "      <td>5.3</td>\n",
       "      <td>5.0</td>\n",
       "      <td>15</td>\n",
       "      <td>8</td>\n",
       "      <td>16</td>\n",
       "      <td>62</td>\n",
       "      <td>98</td>\n",
       "      <td>...</td>\n",
       "      <td>5.5</td>\n",
       "      <td>14.0</td>\n",
       "      <td>6.1</td>\n",
       "      <td>21.0</td>\n",
       "      <td>4.9</td>\n",
       "      <td>57.0</td>\n",
       "      <td>5.5</td>\n",
       "      <td>207.0</td>\n",
       "      <td>4.7</td>\n",
       "      <td>105.0</td>\n",
       "    </tr>\n",
       "    <tr>\n",
       "      <th>4</th>\n",
       "      <td>tt0002130</td>\n",
       "      <td>7.0</td>\n",
       "      <td>2237</td>\n",
       "      <td>6.9</td>\n",
       "      <td>7.0</td>\n",
       "      <td>210</td>\n",
       "      <td>225</td>\n",
       "      <td>436</td>\n",
       "      <td>641</td>\n",
       "      <td>344</td>\n",
       "      <td>...</td>\n",
       "      <td>7.3</td>\n",
       "      <td>82.0</td>\n",
       "      <td>7.4</td>\n",
       "      <td>77.0</td>\n",
       "      <td>6.9</td>\n",
       "      <td>139.0</td>\n",
       "      <td>7.0</td>\n",
       "      <td>488.0</td>\n",
       "      <td>7.0</td>\n",
       "      <td>1166.0</td>\n",
       "    </tr>\n",
       "  </tbody>\n",
       "</table>\n",
       "<p>5 rows × 49 columns</p>\n",
       "</div>"
      ],
      "text/plain": [
       "  imdb_title_id  weighted_average_vote  total_votes  mean_vote  median_vote  \\\n",
       "0     tt0000009                    5.9          154        5.9          6.0   \n",
       "1     tt0000574                    6.1          589        6.3          6.0   \n",
       "2     tt0001892                    5.8          188        6.0          6.0   \n",
       "3     tt0002101                    5.2          446        5.3          5.0   \n",
       "4     tt0002130                    7.0         2237        6.9          7.0   \n",
       "\n",
       "   votes_10  votes_9  votes_8  votes_7  votes_6  ...  females_30age_avg_vote  \\\n",
       "0        12        4       10       43       28  ...                     5.7   \n",
       "1        57       18       58      137      139  ...                     6.2   \n",
       "2         6        6       17       44       52  ...                     5.8   \n",
       "3        15        8       16       62       98  ...                     5.5   \n",
       "4       210      225      436      641      344  ...                     7.3   \n",
       "\n",
       "   females_30age_votes  females_45age_avg_vote  females_45age_votes  \\\n",
       "0                 13.0                     4.5                  4.0   \n",
       "1                 23.0                     6.6                 14.0   \n",
       "2                  4.0                     6.8                  7.0   \n",
       "3                 14.0                     6.1                 21.0   \n",
       "4                 82.0                     7.4                 77.0   \n",
       "\n",
       "   top1000_voters_rating  top1000_voters_votes  us_voters_rating  \\\n",
       "0                    5.7                  34.0               6.4   \n",
       "1                    6.4                  66.0               6.0   \n",
       "2                    5.4                  32.0               6.2   \n",
       "3                    4.9                  57.0               5.5   \n",
       "4                    6.9                 139.0               7.0   \n",
       "\n",
       "   us_voters_votes  non_us_voters_rating  non_us_voters_votes  \n",
       "0             51.0                   6.0                 70.0  \n",
       "1             96.0                   6.2                331.0  \n",
       "2             31.0                   5.9                123.0  \n",
       "3            207.0                   4.7                105.0  \n",
       "4            488.0                   7.0               1166.0  \n",
       "\n",
       "[5 rows x 49 columns]"
      ]
     },
     "execution_count": 10,
     "metadata": {},
     "output_type": "execute_result"
    }
   ],
   "source": [
    "data_ratings.head(5)"
   ]
  },
  {
   "cell_type": "code",
   "execution_count": 11,
   "id": "equal-seating",
   "metadata": {},
   "outputs": [],
   "source": [
    "data_title_principals = pd.read_csv(\"IMDb title_principals.csv\")"
   ]
  },
  {
   "cell_type": "code",
   "execution_count": 12,
   "id": "curious-protein",
   "metadata": {},
   "outputs": [
    {
     "name": "stdout",
     "output_type": "stream",
     "text": [
      "<class 'pandas.core.frame.DataFrame'>\n",
      "RangeIndex: 835513 entries, 0 to 835512\n",
      "Data columns (total 6 columns):\n",
      " #   Column         Non-Null Count   Dtype \n",
      "---  ------         --------------   ----- \n",
      " 0   imdb_title_id  835513 non-null  object\n",
      " 1   ordering       835513 non-null  int64 \n",
      " 2   imdb_name_id   835513 non-null  object\n",
      " 3   category       835513 non-null  object\n",
      " 4   job            212731 non-null  object\n",
      " 5   characters     340836 non-null  object\n",
      "dtypes: int64(1), object(5)\n",
      "memory usage: 38.2+ MB\n"
     ]
    }
   ],
   "source": [
    "data_title_principals.info()"
   ]
  },
  {
   "cell_type": "code",
   "execution_count": 13,
   "id": "strategic-script",
   "metadata": {},
   "outputs": [
    {
     "data": {
      "text/html": [
       "<div>\n",
       "<style scoped>\n",
       "    .dataframe tbody tr th:only-of-type {\n",
       "        vertical-align: middle;\n",
       "    }\n",
       "\n",
       "    .dataframe tbody tr th {\n",
       "        vertical-align: top;\n",
       "    }\n",
       "\n",
       "    .dataframe thead th {\n",
       "        text-align: right;\n",
       "    }\n",
       "</style>\n",
       "<table border=\"1\" class=\"dataframe\">\n",
       "  <thead>\n",
       "    <tr style=\"text-align: right;\">\n",
       "      <th></th>\n",
       "      <th>imdb_title_id</th>\n",
       "      <th>ordering</th>\n",
       "      <th>imdb_name_id</th>\n",
       "      <th>category</th>\n",
       "      <th>job</th>\n",
       "      <th>characters</th>\n",
       "    </tr>\n",
       "  </thead>\n",
       "  <tbody>\n",
       "    <tr>\n",
       "      <th>0</th>\n",
       "      <td>tt0000009</td>\n",
       "      <td>1</td>\n",
       "      <td>nm0063086</td>\n",
       "      <td>actress</td>\n",
       "      <td>NaN</td>\n",
       "      <td>[\"Miss Geraldine Holbrook (Miss Jerry)\"]</td>\n",
       "    </tr>\n",
       "    <tr>\n",
       "      <th>1</th>\n",
       "      <td>tt0000009</td>\n",
       "      <td>2</td>\n",
       "      <td>nm0183823</td>\n",
       "      <td>actor</td>\n",
       "      <td>NaN</td>\n",
       "      <td>[\"Mr. Hamilton\"]</td>\n",
       "    </tr>\n",
       "    <tr>\n",
       "      <th>2</th>\n",
       "      <td>tt0000009</td>\n",
       "      <td>3</td>\n",
       "      <td>nm1309758</td>\n",
       "      <td>actor</td>\n",
       "      <td>NaN</td>\n",
       "      <td>[\"Chauncey Depew - the Director of the New Yor...</td>\n",
       "    </tr>\n",
       "    <tr>\n",
       "      <th>3</th>\n",
       "      <td>tt0000009</td>\n",
       "      <td>4</td>\n",
       "      <td>nm0085156</td>\n",
       "      <td>director</td>\n",
       "      <td>NaN</td>\n",
       "      <td>NaN</td>\n",
       "    </tr>\n",
       "    <tr>\n",
       "      <th>4</th>\n",
       "      <td>tt0000574</td>\n",
       "      <td>1</td>\n",
       "      <td>nm0846887</td>\n",
       "      <td>actress</td>\n",
       "      <td>NaN</td>\n",
       "      <td>[\"Kate Kelly\"]</td>\n",
       "    </tr>\n",
       "  </tbody>\n",
       "</table>\n",
       "</div>"
      ],
      "text/plain": [
       "  imdb_title_id  ordering imdb_name_id  category  job  \\\n",
       "0     tt0000009         1    nm0063086   actress  NaN   \n",
       "1     tt0000009         2    nm0183823     actor  NaN   \n",
       "2     tt0000009         3    nm1309758     actor  NaN   \n",
       "3     tt0000009         4    nm0085156  director  NaN   \n",
       "4     tt0000574         1    nm0846887   actress  NaN   \n",
       "\n",
       "                                          characters  \n",
       "0           [\"Miss Geraldine Holbrook (Miss Jerry)\"]  \n",
       "1                                   [\"Mr. Hamilton\"]  \n",
       "2  [\"Chauncey Depew - the Director of the New Yor...  \n",
       "3                                                NaN  \n",
       "4                                     [\"Kate Kelly\"]  "
      ]
     },
     "execution_count": 13,
     "metadata": {},
     "output_type": "execute_result"
    }
   ],
   "source": [
    "data_title_principals.head(5)"
   ]
  },
  {
   "cell_type": "markdown",
   "id": "minus-dairy",
   "metadata": {},
   "source": [
    "#### Por lo visto en los datasets tenemos:\n",
    "- **data_movies**: es el dataset padre, que contiene el \"budget\" y el \"worlwide_gross_income\", que en conjunto conformaran la variable target **\"markup\"** y nuestras principales variables features.\n",
    "- **data_names**: contiene información sobre participantes de las peliculas, que pueden ser actores, directores, porductores, guinistas, etc.\n",
    "- **data_ratings**: nos aportas mas informacion sobre las peliculas, aperturando la votaciones en funcion de edad y sexo.\n",
    "- **data_title_principals**: es la tabla que asigna participantes a peliculas y que nos va a permitir hacer join para crear variables features en el dataset padre."
   ]
  },
  {
   "cell_type": "code",
   "execution_count": 14,
   "id": "protective-option",
   "metadata": {},
   "outputs": [
    {
     "name": "stdout",
     "output_type": "stream",
     "text": [
      "<class 'pandas.core.frame.DataFrame'>\n",
      "Int64Index: 9448 entries, 4334 to 85847\n",
      "Data columns (total 22 columns):\n",
      " #   Column                 Non-Null Count  Dtype  \n",
      "---  ------                 --------------  -----  \n",
      " 0   imdb_title_id          9448 non-null   object \n",
      " 1   title                  9448 non-null   object \n",
      " 2   original_title         9448 non-null   object \n",
      " 3   year                   9448 non-null   object \n",
      " 4   date_published         9448 non-null   object \n",
      " 5   genre                  9448 non-null   object \n",
      " 6   duration               9448 non-null   int64  \n",
      " 7   country                9447 non-null   object \n",
      " 8   language               9415 non-null   object \n",
      " 9   director               9446 non-null   object \n",
      " 10  writer                 9388 non-null   object \n",
      " 11  production_company     9325 non-null   object \n",
      " 12  actors                 9446 non-null   object \n",
      " 13  description            9290 non-null   object \n",
      " 14  avg_vote               9448 non-null   float64\n",
      " 15  votes                  9448 non-null   int64  \n",
      " 16  budget                 9448 non-null   object \n",
      " 17  usa_gross_income       5039 non-null   object \n",
      " 18  worlwide_gross_income  9448 non-null   object \n",
      " 19  metascore              4864 non-null   float64\n",
      " 20  reviews_from_users     8896 non-null   float64\n",
      " 21  reviews_from_critics   8953 non-null   float64\n",
      "dtypes: float64(4), int64(2), object(16)\n",
      "memory usage: 1.7+ MB\n"
     ]
    }
   ],
   "source": [
    "# Generamos un nuevo dataset dropeando todas las filas que no contienen datos en \"budget\"\n",
    "data = data_movies[data_movies.budget.notnull()]\n",
    "# Dropeamos todas las filas que no contienen datos en \"worlwide_gross_income\"\n",
    "data = data[data.worlwide_gross_income.notnull()]\n",
    "# Dropeamos las peliculas con año de lanzamieno menor a el 2000, asumiendo que son viejas y pueden diferir en las variables features que predicen el markup\n",
    "data = data[data['year'].values.astype(int) > 2000]\n",
    "data.info()"
   ]
  },
  {
   "cell_type": "code",
   "execution_count": 15,
   "id": "delayed-durham",
   "metadata": {},
   "outputs": [
    {
     "data": {
      "text/plain": [
       "genre\n",
       "Drama                       909\n",
       "Comedy                      649\n",
       "Comedy, Drama               460\n",
       "Comedy, Drama, Romance      344\n",
       "Comedy, Romance             321\n",
       "                           ... \n",
       "Crime, Thriller, Western      1\n",
       "Action, Thriller, War         1\n",
       "Drama, Action                 1\n",
       "Drama, Action, Thriller       1\n",
       "Action, Drama, Music          1\n",
       "Name: genre, Length: 485, dtype: int64"
      ]
     },
     "execution_count": 15,
     "metadata": {},
     "output_type": "execute_result"
    }
   ],
   "source": [
    "genre_group = data.groupby('genre').genre.count().sort_values(ascending=False)\n",
    "genre_group"
   ]
  },
  {
   "cell_type": "code",
   "execution_count": 16,
   "id": "declared-reverse",
   "metadata": {},
   "outputs": [
    {
     "data": {
      "text/plain": [
       "language\n",
       "English                             3466\n",
       "Spanish                              319\n",
       "French                               317\n",
       "English, Spanish                     305\n",
       "Russian                              182\n",
       "                                    ... \n",
       "English, Persian, German, Arabic       1\n",
       "English, Pawnee, French                1\n",
       "English, Papiamento                    1\n",
       "English, Old English                   1\n",
       "Zulu, Xhosa, Afrikaans, English        1\n",
       "Name: language, Length: 1494, dtype: int64"
      ]
     },
     "execution_count": 16,
     "metadata": {},
     "output_type": "execute_result"
    }
   ],
   "source": [
    "language_group = data.groupby('language').language.count().sort_values(ascending=False)\n",
    "language_group"
   ]
  },
  {
   "cell_type": "markdown",
   "id": "helpful-quarterly",
   "metadata": {},
   "source": [
    "<a id=\"section_target\"></a>\n",
    "\n",
    "## Variable target\n",
    "\n",
    "[volver a TOC](#section_toc)"
   ]
  },
  {
   "cell_type": "code",
   "execution_count": 17,
   "id": "charming-township",
   "metadata": {},
   "outputs": [
    {
     "data": {
      "text/plain": [
       "4334      $ 48000000\n",
       "30350     $ 22000000\n",
       "31237    $ 100000000\n",
       "31242     $ 12000000\n",
       "31244     $ 35000000\n",
       "Name: budget, dtype: object"
      ]
     },
     "execution_count": 17,
     "metadata": {},
     "output_type": "execute_result"
    }
   ],
   "source": [
    "data['budget'].head(5)"
   ]
  },
  {
   "cell_type": "code",
   "execution_count": 18,
   "id": "inappropriate-shareware",
   "metadata": {},
   "outputs": [
    {
     "data": {
      "text/html": [
       "<div>\n",
       "<style scoped>\n",
       "    .dataframe tbody tr th:only-of-type {\n",
       "        vertical-align: middle;\n",
       "    }\n",
       "\n",
       "    .dataframe tbody tr th {\n",
       "        vertical-align: top;\n",
       "    }\n",
       "\n",
       "    .dataframe thead th {\n",
       "        text-align: right;\n",
       "    }\n",
       "</style>\n",
       "<table border=\"1\" class=\"dataframe\">\n",
       "  <thead>\n",
       "    <tr style=\"text-align: right;\">\n",
       "      <th></th>\n",
       "      <th>moneda</th>\n",
       "      <th>valor</th>\n",
       "    </tr>\n",
       "  </thead>\n",
       "  <tbody>\n",
       "    <tr>\n",
       "      <th>4334</th>\n",
       "      <td>$</td>\n",
       "      <td>48000000</td>\n",
       "    </tr>\n",
       "    <tr>\n",
       "      <th>30350</th>\n",
       "      <td>$</td>\n",
       "      <td>22000000</td>\n",
       "    </tr>\n",
       "    <tr>\n",
       "      <th>31237</th>\n",
       "      <td>$</td>\n",
       "      <td>100000000</td>\n",
       "    </tr>\n",
       "    <tr>\n",
       "      <th>31242</th>\n",
       "      <td>$</td>\n",
       "      <td>12000000</td>\n",
       "    </tr>\n",
       "    <tr>\n",
       "      <th>31244</th>\n",
       "      <td>$</td>\n",
       "      <td>35000000</td>\n",
       "    </tr>\n",
       "    <tr>\n",
       "      <th>...</th>\n",
       "      <td>...</td>\n",
       "      <td>...</td>\n",
       "    </tr>\n",
       "    <tr>\n",
       "      <th>85826</th>\n",
       "      <td>INR</td>\n",
       "      <td>50000000</td>\n",
       "    </tr>\n",
       "    <tr>\n",
       "      <th>85828</th>\n",
       "      <td>INR</td>\n",
       "      <td>30000000</td>\n",
       "    </tr>\n",
       "    <tr>\n",
       "      <th>85835</th>\n",
       "      <td>MYR</td>\n",
       "      <td>20000000</td>\n",
       "    </tr>\n",
       "    <tr>\n",
       "      <th>85843</th>\n",
       "      <td>INR</td>\n",
       "      <td>240000000</td>\n",
       "    </tr>\n",
       "    <tr>\n",
       "      <th>85847</th>\n",
       "      <td>INR</td>\n",
       "      <td>4000000</td>\n",
       "    </tr>\n",
       "  </tbody>\n",
       "</table>\n",
       "<p>9448 rows × 2 columns</p>\n",
       "</div>"
      ],
      "text/plain": [
       "      moneda      valor\n",
       "4334       $   48000000\n",
       "30350      $   22000000\n",
       "31237      $  100000000\n",
       "31242      $   12000000\n",
       "31244      $   35000000\n",
       "...      ...        ...\n",
       "85826    INR   50000000\n",
       "85828    INR   30000000\n",
       "85835    MYR   20000000\n",
       "85843    INR  240000000\n",
       "85847    INR    4000000\n",
       "\n",
       "[9448 rows x 2 columns]"
      ]
     },
     "execution_count": 18,
     "metadata": {},
     "output_type": "execute_result"
    }
   ],
   "source": [
    "# Separamos la columna por el espacio para poder aperturar el valor y la moneda.\n",
    "budget_str=data.budget.str\n",
    "budget_separado = budget_str.split(' ', expand=True)\n",
    "budget_separado.rename(columns={0:'moneda', 1:'valor'},inplace=True)\n",
    "budget_separado"
   ]
  },
  {
   "cell_type": "code",
   "execution_count": 19,
   "id": "immediate-travel",
   "metadata": {},
   "outputs": [
    {
     "data": {
      "text/plain": [
       "$      0.629022\n",
       "EUR    0.191681\n",
       "INR    0.035140\n",
       "GBP    0.021486\n",
       "NOK    0.012489\n",
       "CAD    0.010267\n",
       "AUD    0.008785\n",
       "BRL    0.008679\n",
       "DKK    0.006668\n",
       "CNY    0.005504\n",
       "RUR    0.005186\n",
       "TRL    0.005186\n",
       "SEK    0.004975\n",
       "EGP    0.004340\n",
       "PLN    0.004340\n",
       "KRW    0.004022\n",
       "FRF    0.004022\n",
       "HUF    0.003810\n",
       "HKD    0.003810\n",
       "CZK    0.003387\n",
       "JPY    0.002434\n",
       "MXN    0.002434\n",
       "THB    0.002223\n",
       "SGD    0.002117\n",
       "ZAR    0.001693\n",
       "ARS    0.001588\n",
       "NZD    0.001588\n",
       "UAH    0.001482\n",
       "MYR    0.001164\n",
       "TWD    0.001164\n",
       "DEM    0.001164\n",
       "FIM    0.000953\n",
       "ISK    0.000741\n",
       "CHF    0.000635\n",
       "PKR    0.000529\n",
       "DOP    0.000423\n",
       "IRR    0.000423\n",
       "PHP    0.000423\n",
       "BGL    0.000423\n",
       "LVL    0.000423\n",
       "ESP    0.000318\n",
       "IDR    0.000318\n",
       "ITL    0.000318\n",
       "EEK    0.000318\n",
       "RON    0.000212\n",
       "CLP    0.000212\n",
       "HRK    0.000106\n",
       "BDT    0.000106\n",
       "AMD    0.000106\n",
       "ILS    0.000106\n",
       "ATS    0.000106\n",
       "NLG    0.000106\n",
       "SKK    0.000106\n",
       "COP    0.000106\n",
       "BND    0.000106\n",
       "NGN    0.000106\n",
       "LTL    0.000106\n",
       "VEB    0.000106\n",
       "YUM    0.000106\n",
       "AED    0.000106\n",
       "Name: moneda, dtype: float64"
      ]
     },
     "execution_count": 19,
     "metadata": {},
     "output_type": "execute_result"
    }
   ],
   "source": [
    "#como se puede observar más del 80% de los registros de budget se conforma con las divisa estadounidense y el euro.\n",
    "budget_separado['moneda'].value_counts(normalize=True)"
   ]
  },
  {
   "cell_type": "code",
   "execution_count": 20,
   "id": "broad-tracker",
   "metadata": {},
   "outputs": [],
   "source": [
    "#ahora procedemos a dolarizar todos los registros que estan en euros."
   ]
  },
  {
   "cell_type": "code",
   "execution_count": 21,
   "id": "hearing-montgomery",
   "metadata": {},
   "outputs": [],
   "source": [
    "data_euros=data[budget_separado['moneda']=='EUR']"
   ]
  },
  {
   "cell_type": "code",
   "execution_count": 22,
   "id": "announced-violin",
   "metadata": {},
   "outputs": [],
   "source": [
    "data_euros= data_euros[['year', 'budget']]"
   ]
  },
  {
   "cell_type": "code",
   "execution_count": 23,
   "id": "existing-developer",
   "metadata": {},
   "outputs": [
    {
     "data": {
      "text/html": [
       "<div>\n",
       "<style scoped>\n",
       "    .dataframe tbody tr th:only-of-type {\n",
       "        vertical-align: middle;\n",
       "    }\n",
       "\n",
       "    .dataframe tbody tr th {\n",
       "        vertical-align: top;\n",
       "    }\n",
       "\n",
       "    .dataframe thead th {\n",
       "        text-align: right;\n",
       "    }\n",
       "</style>\n",
       "<table border=\"1\" class=\"dataframe\">\n",
       "  <thead>\n",
       "    <tr style=\"text-align: right;\">\n",
       "      <th></th>\n",
       "      <th>year</th>\n",
       "      <th>budget</th>\n",
       "    </tr>\n",
       "  </thead>\n",
       "  <tbody>\n",
       "    <tr>\n",
       "      <th>33738</th>\n",
       "      <td>2001</td>\n",
       "      <td>EUR 7000000</td>\n",
       "    </tr>\n",
       "    <tr>\n",
       "      <th>36806</th>\n",
       "      <td>2002</td>\n",
       "      <td>EUR 9500000</td>\n",
       "    </tr>\n",
       "    <tr>\n",
       "      <th>37296</th>\n",
       "      <td>2002</td>\n",
       "      <td>EUR 11590000</td>\n",
       "    </tr>\n",
       "    <tr>\n",
       "      <th>38596</th>\n",
       "      <td>2002</td>\n",
       "      <td>EUR 40000000</td>\n",
       "    </tr>\n",
       "    <tr>\n",
       "      <th>38832</th>\n",
       "      <td>2002</td>\n",
       "      <td>EUR 6000000</td>\n",
       "    </tr>\n",
       "    <tr>\n",
       "      <th>...</th>\n",
       "      <td>...</td>\n",
       "      <td>...</td>\n",
       "    </tr>\n",
       "    <tr>\n",
       "      <th>85690</th>\n",
       "      <td>2019</td>\n",
       "      <td>EUR 2500000</td>\n",
       "    </tr>\n",
       "    <tr>\n",
       "      <th>85691</th>\n",
       "      <td>2019</td>\n",
       "      <td>EUR 9000</td>\n",
       "    </tr>\n",
       "    <tr>\n",
       "      <th>85700</th>\n",
       "      <td>2019</td>\n",
       "      <td>EUR 1</td>\n",
       "    </tr>\n",
       "    <tr>\n",
       "      <th>85741</th>\n",
       "      <td>2019</td>\n",
       "      <td>EUR 2869000</td>\n",
       "    </tr>\n",
       "    <tr>\n",
       "      <th>85802</th>\n",
       "      <td>2019</td>\n",
       "      <td>EUR 2400000</td>\n",
       "    </tr>\n",
       "  </tbody>\n",
       "</table>\n",
       "<p>1811 rows × 2 columns</p>\n",
       "</div>"
      ],
      "text/plain": [
       "       year        budget\n",
       "33738  2001   EUR 7000000\n",
       "36806  2002   EUR 9500000\n",
       "37296  2002  EUR 11590000\n",
       "38596  2002  EUR 40000000\n",
       "38832  2002   EUR 6000000\n",
       "...     ...           ...\n",
       "85690  2019   EUR 2500000\n",
       "85691  2019      EUR 9000\n",
       "85700  2019         EUR 1\n",
       "85741  2019   EUR 2869000\n",
       "85802  2019   EUR 2400000\n",
       "\n",
       "[1811 rows x 2 columns]"
      ]
     },
     "execution_count": 23,
     "metadata": {},
     "output_type": "execute_result"
    }
   ],
   "source": [
    "data_euros"
   ]
  },
  {
   "cell_type": "code",
   "execution_count": 24,
   "id": "fossil-contributor",
   "metadata": {},
   "outputs": [
    {
     "data": {
      "text/html": [
       "<div>\n",
       "<style scoped>\n",
       "    .dataframe tbody tr th:only-of-type {\n",
       "        vertical-align: middle;\n",
       "    }\n",
       "\n",
       "    .dataframe tbody tr th {\n",
       "        vertical-align: top;\n",
       "    }\n",
       "\n",
       "    .dataframe thead th {\n",
       "        text-align: right;\n",
       "    }\n",
       "</style>\n",
       "<table border=\"1\" class=\"dataframe\">\n",
       "  <thead>\n",
       "    <tr style=\"text-align: right;\">\n",
       "      <th></th>\n",
       "      <th>0</th>\n",
       "      <th>1</th>\n",
       "    </tr>\n",
       "  </thead>\n",
       "  <tbody>\n",
       "    <tr>\n",
       "      <th>33738</th>\n",
       "      <td>EUR</td>\n",
       "      <td>7000000</td>\n",
       "    </tr>\n",
       "    <tr>\n",
       "      <th>36806</th>\n",
       "      <td>EUR</td>\n",
       "      <td>9500000</td>\n",
       "    </tr>\n",
       "    <tr>\n",
       "      <th>37296</th>\n",
       "      <td>EUR</td>\n",
       "      <td>11590000</td>\n",
       "    </tr>\n",
       "    <tr>\n",
       "      <th>38596</th>\n",
       "      <td>EUR</td>\n",
       "      <td>40000000</td>\n",
       "    </tr>\n",
       "    <tr>\n",
       "      <th>38832</th>\n",
       "      <td>EUR</td>\n",
       "      <td>6000000</td>\n",
       "    </tr>\n",
       "    <tr>\n",
       "      <th>...</th>\n",
       "      <td>...</td>\n",
       "      <td>...</td>\n",
       "    </tr>\n",
       "    <tr>\n",
       "      <th>85690</th>\n",
       "      <td>EUR</td>\n",
       "      <td>2500000</td>\n",
       "    </tr>\n",
       "    <tr>\n",
       "      <th>85691</th>\n",
       "      <td>EUR</td>\n",
       "      <td>9000</td>\n",
       "    </tr>\n",
       "    <tr>\n",
       "      <th>85700</th>\n",
       "      <td>EUR</td>\n",
       "      <td>1</td>\n",
       "    </tr>\n",
       "    <tr>\n",
       "      <th>85741</th>\n",
       "      <td>EUR</td>\n",
       "      <td>2869000</td>\n",
       "    </tr>\n",
       "    <tr>\n",
       "      <th>85802</th>\n",
       "      <td>EUR</td>\n",
       "      <td>2400000</td>\n",
       "    </tr>\n",
       "  </tbody>\n",
       "</table>\n",
       "<p>1811 rows × 2 columns</p>\n",
       "</div>"
      ],
      "text/plain": [
       "         0         1\n",
       "33738  EUR   7000000\n",
       "36806  EUR   9500000\n",
       "37296  EUR  11590000\n",
       "38596  EUR  40000000\n",
       "38832  EUR   6000000\n",
       "...    ...       ...\n",
       "85690  EUR   2500000\n",
       "85691  EUR      9000\n",
       "85700  EUR         1\n",
       "85741  EUR   2869000\n",
       "85802  EUR   2400000\n",
       "\n",
       "[1811 rows x 2 columns]"
      ]
     },
     "execution_count": 24,
     "metadata": {},
     "output_type": "execute_result"
    }
   ],
   "source": [
    "# Separamos la columna por el espacio para poder aperturar el valor y la moneda.\n",
    "budget_eur_str=data_euros.budget.str\n",
    "budget_separado_eur = budget_eur_str.split(' ', expand=True)\n",
    "budget_separado_eur"
   ]
  },
  {
   "cell_type": "code",
   "execution_count": 25,
   "id": "vocational-compact",
   "metadata": {},
   "outputs": [],
   "source": [
    "#Renombramos \n",
    "budget_separado_eur.rename(columns={0:'moneda', 1:'valor'},inplace=True)"
   ]
  },
  {
   "cell_type": "code",
   "execution_count": 26,
   "id": "amber-nepal",
   "metadata": {},
   "outputs": [],
   "source": [
    "#Dropeamos los registros 'EUR' para asi quedarnos solo con el valor numérico.\n",
    "budget_eur= budget_separado_eur.drop(['moneda'], axis=1)"
   ]
  },
  {
   "cell_type": "code",
   "execution_count": 27,
   "id": "cultural-discipline",
   "metadata": {},
   "outputs": [
    {
     "data": {
      "text/html": [
       "<div>\n",
       "<style scoped>\n",
       "    .dataframe tbody tr th:only-of-type {\n",
       "        vertical-align: middle;\n",
       "    }\n",
       "\n",
       "    .dataframe tbody tr th {\n",
       "        vertical-align: top;\n",
       "    }\n",
       "\n",
       "    .dataframe thead th {\n",
       "        text-align: right;\n",
       "    }\n",
       "</style>\n",
       "<table border=\"1\" class=\"dataframe\">\n",
       "  <thead>\n",
       "    <tr style=\"text-align: right;\">\n",
       "      <th></th>\n",
       "      <th>valor</th>\n",
       "    </tr>\n",
       "  </thead>\n",
       "  <tbody>\n",
       "    <tr>\n",
       "      <th>33738</th>\n",
       "      <td>7000000</td>\n",
       "    </tr>\n",
       "    <tr>\n",
       "      <th>36806</th>\n",
       "      <td>9500000</td>\n",
       "    </tr>\n",
       "    <tr>\n",
       "      <th>37296</th>\n",
       "      <td>11590000</td>\n",
       "    </tr>\n",
       "    <tr>\n",
       "      <th>38596</th>\n",
       "      <td>40000000</td>\n",
       "    </tr>\n",
       "    <tr>\n",
       "      <th>38832</th>\n",
       "      <td>6000000</td>\n",
       "    </tr>\n",
       "    <tr>\n",
       "      <th>...</th>\n",
       "      <td>...</td>\n",
       "    </tr>\n",
       "    <tr>\n",
       "      <th>85690</th>\n",
       "      <td>2500000</td>\n",
       "    </tr>\n",
       "    <tr>\n",
       "      <th>85691</th>\n",
       "      <td>9000</td>\n",
       "    </tr>\n",
       "    <tr>\n",
       "      <th>85700</th>\n",
       "      <td>1</td>\n",
       "    </tr>\n",
       "    <tr>\n",
       "      <th>85741</th>\n",
       "      <td>2869000</td>\n",
       "    </tr>\n",
       "    <tr>\n",
       "      <th>85802</th>\n",
       "      <td>2400000</td>\n",
       "    </tr>\n",
       "  </tbody>\n",
       "</table>\n",
       "<p>1811 rows × 1 columns</p>\n",
       "</div>"
      ],
      "text/plain": [
       "          valor\n",
       "33738   7000000\n",
       "36806   9500000\n",
       "37296  11590000\n",
       "38596  40000000\n",
       "38832   6000000\n",
       "...         ...\n",
       "85690   2500000\n",
       "85691      9000\n",
       "85700         1\n",
       "85741   2869000\n",
       "85802   2400000\n",
       "\n",
       "[1811 rows x 1 columns]"
      ]
     },
     "execution_count": 27,
     "metadata": {},
     "output_type": "execute_result"
    }
   ],
   "source": [
    "budget_eur"
   ]
  },
  {
   "cell_type": "code",
   "execution_count": 28,
   "id": "binary-separation",
   "metadata": {},
   "outputs": [],
   "source": [
    "data_euros= data_euros.drop('budget', axis=1)"
   ]
  },
  {
   "cell_type": "code",
   "execution_count": 29,
   "id": "russian-swiss",
   "metadata": {},
   "outputs": [],
   "source": [
    "#Creamos un dataframe que contenga el año y los valores en euro de budget.\n",
    "data_euros=pd.concat([data_euros, budget_eur], axis=1)"
   ]
  },
  {
   "cell_type": "code",
   "execution_count": 30,
   "id": "disabled-optimum",
   "metadata": {},
   "outputs": [],
   "source": [
    "data8=data_euros.astype(int)"
   ]
  },
  {
   "cell_type": "code",
   "execution_count": 31,
   "id": "diverse-tongue",
   "metadata": {},
   "outputs": [
    {
     "data": {
      "text/html": [
       "<div>\n",
       "<style scoped>\n",
       "    .dataframe tbody tr th:only-of-type {\n",
       "        vertical-align: middle;\n",
       "    }\n",
       "\n",
       "    .dataframe tbody tr th {\n",
       "        vertical-align: top;\n",
       "    }\n",
       "\n",
       "    .dataframe thead th {\n",
       "        text-align: right;\n",
       "    }\n",
       "</style>\n",
       "<table border=\"1\" class=\"dataframe\">\n",
       "  <thead>\n",
       "    <tr style=\"text-align: right;\">\n",
       "      <th></th>\n",
       "      <th>year</th>\n",
       "      <th>valor</th>\n",
       "    </tr>\n",
       "  </thead>\n",
       "  <tbody>\n",
       "    <tr>\n",
       "      <th>33738</th>\n",
       "      <td>2001</td>\n",
       "      <td>7000000</td>\n",
       "    </tr>\n",
       "    <tr>\n",
       "      <th>36806</th>\n",
       "      <td>2002</td>\n",
       "      <td>9500000</td>\n",
       "    </tr>\n",
       "    <tr>\n",
       "      <th>37296</th>\n",
       "      <td>2002</td>\n",
       "      <td>11590000</td>\n",
       "    </tr>\n",
       "    <tr>\n",
       "      <th>38596</th>\n",
       "      <td>2002</td>\n",
       "      <td>40000000</td>\n",
       "    </tr>\n",
       "    <tr>\n",
       "      <th>38832</th>\n",
       "      <td>2002</td>\n",
       "      <td>6000000</td>\n",
       "    </tr>\n",
       "    <tr>\n",
       "      <th>...</th>\n",
       "      <td>...</td>\n",
       "      <td>...</td>\n",
       "    </tr>\n",
       "    <tr>\n",
       "      <th>85690</th>\n",
       "      <td>2019</td>\n",
       "      <td>2500000</td>\n",
       "    </tr>\n",
       "    <tr>\n",
       "      <th>85691</th>\n",
       "      <td>2019</td>\n",
       "      <td>9000</td>\n",
       "    </tr>\n",
       "    <tr>\n",
       "      <th>85700</th>\n",
       "      <td>2019</td>\n",
       "      <td>1</td>\n",
       "    </tr>\n",
       "    <tr>\n",
       "      <th>85741</th>\n",
       "      <td>2019</td>\n",
       "      <td>2869000</td>\n",
       "    </tr>\n",
       "    <tr>\n",
       "      <th>85802</th>\n",
       "      <td>2019</td>\n",
       "      <td>2400000</td>\n",
       "    </tr>\n",
       "  </tbody>\n",
       "</table>\n",
       "<p>1811 rows × 2 columns</p>\n",
       "</div>"
      ],
      "text/plain": [
       "       year     valor\n",
       "33738  2001   7000000\n",
       "36806  2002   9500000\n",
       "37296  2002  11590000\n",
       "38596  2002  40000000\n",
       "38832  2002   6000000\n",
       "...     ...       ...\n",
       "85690  2019   2500000\n",
       "85691  2019      9000\n",
       "85700  2019         1\n",
       "85741  2019   2869000\n",
       "85802  2019   2400000\n",
       "\n",
       "[1811 rows x 2 columns]"
      ]
     },
     "execution_count": 31,
     "metadata": {},
     "output_type": "execute_result"
    }
   ],
   "source": [
    "data8"
   ]
  },
  {
   "cell_type": "code",
   "execution_count": 32,
   "id": "suspected-grocery",
   "metadata": {},
   "outputs": [
    {
     "data": {
      "text/plain": [
       "0"
      ]
     },
     "execution_count": 32,
     "metadata": {},
     "output_type": "execute_result"
    }
   ],
   "source": [
    "#En las siguientes líneas de código comprobamos que hayan 1811 registros. Los hay, ok.\n",
    "data_2000= data8[data8['year'].values==2000]\n",
    "len(data_2000)"
   ]
  },
  {
   "cell_type": "code",
   "execution_count": 33,
   "id": "refined-upper",
   "metadata": {},
   "outputs": [
    {
     "data": {
      "text/plain": [
       "11"
      ]
     },
     "execution_count": 33,
     "metadata": {},
     "output_type": "execute_result"
    }
   ],
   "source": [
    "data_2001= data8[data8['year'].values==2001]\n",
    "len(data_2001)"
   ]
  },
  {
   "cell_type": "code",
   "execution_count": 34,
   "id": "enclosed-saudi",
   "metadata": {},
   "outputs": [
    {
     "data": {
      "text/plain": [
       "32"
      ]
     },
     "execution_count": 34,
     "metadata": {},
     "output_type": "execute_result"
    }
   ],
   "source": [
    "data_2002= data8[data8['year'].values==2002]\n",
    "len(data_2002)"
   ]
  },
  {
   "cell_type": "code",
   "execution_count": 35,
   "id": "objective-signal",
   "metadata": {},
   "outputs": [
    {
     "data": {
      "text/plain": [
       "52"
      ]
     },
     "execution_count": 35,
     "metadata": {},
     "output_type": "execute_result"
    }
   ],
   "source": [
    "data_2003= data8[data8['year'].values==2003]\n",
    "len(data_2003)"
   ]
  },
  {
   "cell_type": "code",
   "execution_count": 36,
   "id": "bibliographic-machinery",
   "metadata": {},
   "outputs": [
    {
     "data": {
      "text/plain": [
       "78"
      ]
     },
     "execution_count": 36,
     "metadata": {},
     "output_type": "execute_result"
    }
   ],
   "source": [
    "data_2004= data8[data8['year'].values==2004]\n",
    "len(data_2004)\n"
   ]
  },
  {
   "cell_type": "code",
   "execution_count": 37,
   "id": "incorrect-portable",
   "metadata": {},
   "outputs": [
    {
     "data": {
      "text/plain": [
       "73"
      ]
     },
     "execution_count": 37,
     "metadata": {},
     "output_type": "execute_result"
    }
   ],
   "source": [
    "data_2005= data8[data8['year'].values==2005]\n",
    "len(data_2005)"
   ]
  },
  {
   "cell_type": "code",
   "execution_count": 38,
   "id": "charitable-kelly",
   "metadata": {},
   "outputs": [
    {
     "data": {
      "text/plain": [
       "103"
      ]
     },
     "execution_count": 38,
     "metadata": {},
     "output_type": "execute_result"
    }
   ],
   "source": [
    "data_2006= data8[data8['year'].values==2006]\n",
    "len(data_2006)"
   ]
  },
  {
   "cell_type": "code",
   "execution_count": 39,
   "id": "manual-jewelry",
   "metadata": {},
   "outputs": [
    {
     "data": {
      "text/plain": [
       "112"
      ]
     },
     "execution_count": 39,
     "metadata": {},
     "output_type": "execute_result"
    }
   ],
   "source": [
    "data_2007= data8[data8['year'].values==2007]\n",
    "len(data_2007)"
   ]
  },
  {
   "cell_type": "code",
   "execution_count": 40,
   "id": "increased-things",
   "metadata": {},
   "outputs": [
    {
     "data": {
      "text/plain": [
       "128"
      ]
     },
     "execution_count": 40,
     "metadata": {},
     "output_type": "execute_result"
    }
   ],
   "source": [
    "data_2008 = data8[data8['year'].values==2008]\n",
    "len(data_2008)"
   ]
  },
  {
   "cell_type": "code",
   "execution_count": 41,
   "id": "retired-queen",
   "metadata": {},
   "outputs": [
    {
     "data": {
      "text/plain": [
       "104"
      ]
     },
     "execution_count": 41,
     "metadata": {},
     "output_type": "execute_result"
    }
   ],
   "source": [
    "data_2009= data8[data8['year'].values==2009]\n",
    "len(data_2009)"
   ]
  },
  {
   "cell_type": "code",
   "execution_count": 42,
   "id": "charged-chick",
   "metadata": {},
   "outputs": [
    {
     "data": {
      "text/plain": [
       "116"
      ]
     },
     "execution_count": 42,
     "metadata": {},
     "output_type": "execute_result"
    }
   ],
   "source": [
    "data_2010= data8[data8['year'].values==2010]\n",
    "len(data_2010)"
   ]
  },
  {
   "cell_type": "code",
   "execution_count": 43,
   "id": "fundamental-jumping",
   "metadata": {},
   "outputs": [
    {
     "data": {
      "text/plain": [
       "127"
      ]
     },
     "execution_count": 43,
     "metadata": {},
     "output_type": "execute_result"
    }
   ],
   "source": [
    "data_2011= data8[data8['year'].values==2011]\n",
    "len(data_2011)"
   ]
  },
  {
   "cell_type": "code",
   "execution_count": 44,
   "id": "middle-helicopter",
   "metadata": {},
   "outputs": [
    {
     "data": {
      "text/plain": [
       "116"
      ]
     },
     "execution_count": 44,
     "metadata": {},
     "output_type": "execute_result"
    }
   ],
   "source": [
    "data_2012= data8[data8['year'].values==2012]\n",
    "len(data_2012)"
   ]
  },
  {
   "cell_type": "code",
   "execution_count": 45,
   "id": "typical-cradle",
   "metadata": {},
   "outputs": [
    {
     "data": {
      "text/plain": [
       "102"
      ]
     },
     "execution_count": 45,
     "metadata": {},
     "output_type": "execute_result"
    }
   ],
   "source": [
    "data_2013= data8[data8['year'].values==2013]\n",
    "len(data_2013)"
   ]
  },
  {
   "cell_type": "code",
   "execution_count": 46,
   "id": "norwegian-mailman",
   "metadata": {},
   "outputs": [
    {
     "data": {
      "text/plain": [
       "102"
      ]
     },
     "execution_count": 46,
     "metadata": {},
     "output_type": "execute_result"
    }
   ],
   "source": [
    "data_2014= data8[data8['year'].values==2014]\n",
    "len(data_2014)"
   ]
  },
  {
   "cell_type": "code",
   "execution_count": 47,
   "id": "loving-rendering",
   "metadata": {},
   "outputs": [
    {
     "data": {
      "text/plain": [
       "125"
      ]
     },
     "execution_count": 47,
     "metadata": {},
     "output_type": "execute_result"
    }
   ],
   "source": [
    "data_2015= data8[data8['year'].values==2015]\n",
    "len(data_2015)"
   ]
  },
  {
   "cell_type": "code",
   "execution_count": 48,
   "id": "sensitive-scientist",
   "metadata": {},
   "outputs": [
    {
     "data": {
      "text/plain": [
       "127"
      ]
     },
     "execution_count": 48,
     "metadata": {},
     "output_type": "execute_result"
    }
   ],
   "source": [
    "data_2016= data8[data8['year'].values==2016]\n",
    "len(data_2016)"
   ]
  },
  {
   "cell_type": "code",
   "execution_count": 49,
   "id": "designing-bradford",
   "metadata": {},
   "outputs": [
    {
     "data": {
      "text/plain": [
       "116"
      ]
     },
     "execution_count": 49,
     "metadata": {},
     "output_type": "execute_result"
    }
   ],
   "source": [
    "data_2017= data8[data8['year'].values==2017]\n",
    "len(data_2017)"
   ]
  },
  {
   "cell_type": "code",
   "execution_count": 50,
   "id": "patient-position",
   "metadata": {},
   "outputs": [
    {
     "data": {
      "text/plain": [
       "99"
      ]
     },
     "execution_count": 50,
     "metadata": {},
     "output_type": "execute_result"
    }
   ],
   "source": [
    "data_2018= data8[data8['year'].values==2018]\n",
    "len(data_2018)"
   ]
  },
  {
   "cell_type": "code",
   "execution_count": 51,
   "id": "indie-disease",
   "metadata": {},
   "outputs": [
    {
     "data": {
      "text/plain": [
       "77"
      ]
     },
     "execution_count": 51,
     "metadata": {},
     "output_type": "execute_result"
    }
   ],
   "source": [
    "data_2019= data8[data8['year'].values==2019]\n",
    "len(data_2019)"
   ]
  },
  {
   "cell_type": "code",
   "execution_count": 52,
   "id": "polar-federal",
   "metadata": {},
   "outputs": [
    {
     "data": {
      "text/plain": [
       "11"
      ]
     },
     "execution_count": 52,
     "metadata": {},
     "output_type": "execute_result"
    }
   ],
   "source": [
    "data_2020= data8[data8['year'].values==2020]\n",
    "len(data_2020)"
   ]
  },
  {
   "cell_type": "code",
   "execution_count": 53,
   "id": "expensive-services",
   "metadata": {},
   "outputs": [
    {
     "data": {
      "text/plain": [
       "0"
      ]
     },
     "execution_count": 53,
     "metadata": {},
     "output_type": "execute_result"
    }
   ],
   "source": [
    "data_2021= data8[data8['year'].values==2021]\n",
    "len(data_2021)"
   ]
  },
  {
   "cell_type": "code",
   "execution_count": 54,
   "id": "second-saint",
   "metadata": {},
   "outputs": [],
   "source": [
    "warnings.filterwarnings('ignore')"
   ]
  },
  {
   "cell_type": "code",
   "execution_count": 55,
   "id": "rough-importance",
   "metadata": {},
   "outputs": [],
   "source": [
    "#Ahora en las siguientes líneas de código transformamos de euro a dolar según el tipo de cambio \n",
    "#correspondiente al año de la película. \n",
    "data_2001['valor'] = data_2001['valor'].apply(lambda x: x*0.90)"
   ]
  },
  {
   "cell_type": "code",
   "execution_count": 56,
   "id": "proof-update",
   "metadata": {},
   "outputs": [],
   "source": [
    "data_2002['valor']= data_2002['valor'].apply(lambda x: x*0.95)"
   ]
  },
  {
   "cell_type": "code",
   "execution_count": 57,
   "id": "heard-recording",
   "metadata": {},
   "outputs": [],
   "source": [
    "data_2003['valor']= data_2003['valor'].apply(lambda x: x*1.13)"
   ]
  },
  {
   "cell_type": "code",
   "execution_count": 58,
   "id": "reduced-mount",
   "metadata": {},
   "outputs": [],
   "source": [
    "data_2004['valor']= data_2004['valor'].apply(lambda x: x*1.24)"
   ]
  },
  {
   "cell_type": "code",
   "execution_count": 59,
   "id": "taken-protein",
   "metadata": {},
   "outputs": [],
   "source": [
    "data_2005['valor']= data_2005['valor'].apply(lambda x: x*1.24)"
   ]
  },
  {
   "cell_type": "code",
   "execution_count": 60,
   "id": "desperate-drilling",
   "metadata": {},
   "outputs": [],
   "source": [
    "data_2006['valor']= data_2006['valor'].apply(lambda x: x*1.26)"
   ]
  },
  {
   "cell_type": "code",
   "execution_count": 61,
   "id": "motivated-recording",
   "metadata": {},
   "outputs": [],
   "source": [
    "data_2007['valor']= data_2007['valor'].apply(lambda x: x*1.37)"
   ]
  },
  {
   "cell_type": "code",
   "execution_count": 62,
   "id": "underlying-blackjack",
   "metadata": {},
   "outputs": [],
   "source": [
    "data_2008['valor']= data_2008['valor'].apply(lambda x: x*1.47)"
   ]
  },
  {
   "cell_type": "code",
   "execution_count": 63,
   "id": "structural-modification",
   "metadata": {},
   "outputs": [],
   "source": [
    "data_2009['valor']= data_2009['valor'].apply(lambda x: x*1.39)"
   ]
  },
  {
   "cell_type": "code",
   "execution_count": 64,
   "id": "psychological-buyer",
   "metadata": {},
   "outputs": [],
   "source": [
    "data_2010['valor']= data_2010['valor'].apply(lambda x: x*1.33)"
   ]
  },
  {
   "cell_type": "code",
   "execution_count": 65,
   "id": "broke-blank",
   "metadata": {},
   "outputs": [],
   "source": [
    "data_2011['valor']= data_2011['valor'].apply(lambda x: x*1.39)"
   ]
  },
  {
   "cell_type": "code",
   "execution_count": 66,
   "id": "interim-character",
   "metadata": {},
   "outputs": [],
   "source": [
    "data_2012['valor']= data_2012['valor'].apply(lambda x: x*1.29)"
   ]
  },
  {
   "cell_type": "code",
   "execution_count": 67,
   "id": "tired-diagnosis",
   "metadata": {},
   "outputs": [],
   "source": [
    "data_2013['valor']= data_2013['valor'].apply(lambda x: x*1.33)"
   ]
  },
  {
   "cell_type": "code",
   "execution_count": 68,
   "id": "engaged-penetration",
   "metadata": {},
   "outputs": [],
   "source": [
    "data_2014['valor']= data_2014['valor'].apply(lambda x: x*1.33)"
   ]
  },
  {
   "cell_type": "code",
   "execution_count": 69,
   "id": "accompanied-employer",
   "metadata": {},
   "outputs": [],
   "source": [
    "data_2015['valor']= data_2015['valor'].apply(lambda x: x*1.11)"
   ]
  },
  {
   "cell_type": "code",
   "execution_count": 70,
   "id": "social-background",
   "metadata": {},
   "outputs": [],
   "source": [
    "data_2016['valor']= data_2016['valor'].apply(lambda x: x*1.11)"
   ]
  },
  {
   "cell_type": "code",
   "execution_count": 71,
   "id": "agricultural-sierra",
   "metadata": {},
   "outputs": [],
   "source": [
    "data_2017['valor']= data_2017['valor'].apply(lambda x: x*1.13)"
   ]
  },
  {
   "cell_type": "code",
   "execution_count": 72,
   "id": "absent-inspection",
   "metadata": {},
   "outputs": [],
   "source": [
    "data_2018['valor']= data_2018['valor'].apply(lambda x: x*1.18)"
   ]
  },
  {
   "cell_type": "code",
   "execution_count": 73,
   "id": "functioning-stake",
   "metadata": {},
   "outputs": [],
   "source": [
    "data_2019['valor']= data_2019['valor'].apply(lambda x: x*1.12)"
   ]
  },
  {
   "cell_type": "code",
   "execution_count": 74,
   "id": "threatened-approval",
   "metadata": {},
   "outputs": [],
   "source": [
    "data_2020['valor']= data_2020['valor'].apply(lambda x: x*1.14)"
   ]
  },
  {
   "cell_type": "code",
   "execution_count": 75,
   "id": "matched-travel",
   "metadata": {},
   "outputs": [],
   "source": [
    "dolarized_eur_budget=pd.concat([data_2001, data_2002, data_2003, data_2004, data_2005, data_2006, data_2007, data_2008,\n",
    "                               data_2009, data_2010, data_2011, data_2012, data_2013, data_2014, data_2015, data_2016,\n",
    "                               data_2017, data_2018, data_2019, data_2020])"
   ]
  },
  {
   "cell_type": "code",
   "execution_count": 76,
   "id": "another-departure",
   "metadata": {},
   "outputs": [
    {
     "data": {
      "text/html": [
       "<div>\n",
       "<style scoped>\n",
       "    .dataframe tbody tr th:only-of-type {\n",
       "        vertical-align: middle;\n",
       "    }\n",
       "\n",
       "    .dataframe tbody tr th {\n",
       "        vertical-align: top;\n",
       "    }\n",
       "\n",
       "    .dataframe thead th {\n",
       "        text-align: right;\n",
       "    }\n",
       "</style>\n",
       "<table border=\"1\" class=\"dataframe\">\n",
       "  <thead>\n",
       "    <tr style=\"text-align: right;\">\n",
       "      <th></th>\n",
       "      <th>year</th>\n",
       "      <th>valor</th>\n",
       "    </tr>\n",
       "  </thead>\n",
       "  <tbody>\n",
       "    <tr>\n",
       "      <th>33738</th>\n",
       "      <td>2001</td>\n",
       "      <td>6300000.0</td>\n",
       "    </tr>\n",
       "    <tr>\n",
       "      <th>38843</th>\n",
       "      <td>2001</td>\n",
       "      <td>2475000.0</td>\n",
       "    </tr>\n",
       "    <tr>\n",
       "      <th>39032</th>\n",
       "      <td>2001</td>\n",
       "      <td>3780000.0</td>\n",
       "    </tr>\n",
       "    <tr>\n",
       "      <th>39264</th>\n",
       "      <td>2001</td>\n",
       "      <td>1863000.0</td>\n",
       "    </tr>\n",
       "    <tr>\n",
       "      <th>39337</th>\n",
       "      <td>2001</td>\n",
       "      <td>4320000.0</td>\n",
       "    </tr>\n",
       "    <tr>\n",
       "      <th>...</th>\n",
       "      <td>...</td>\n",
       "      <td>...</td>\n",
       "    </tr>\n",
       "    <tr>\n",
       "      <th>54208</th>\n",
       "      <td>2020</td>\n",
       "      <td>2280000.0</td>\n",
       "    </tr>\n",
       "    <tr>\n",
       "      <th>54663</th>\n",
       "      <td>2020</td>\n",
       "      <td>228000.0</td>\n",
       "    </tr>\n",
       "    <tr>\n",
       "      <th>81263</th>\n",
       "      <td>2020</td>\n",
       "      <td>2850000.0</td>\n",
       "    </tr>\n",
       "    <tr>\n",
       "      <th>85008</th>\n",
       "      <td>2020</td>\n",
       "      <td>11400000.0</td>\n",
       "    </tr>\n",
       "    <tr>\n",
       "      <th>85435</th>\n",
       "      <td>2020</td>\n",
       "      <td>9120000.0</td>\n",
       "    </tr>\n",
       "  </tbody>\n",
       "</table>\n",
       "<p>1811 rows × 2 columns</p>\n",
       "</div>"
      ],
      "text/plain": [
       "       year       valor\n",
       "33738  2001   6300000.0\n",
       "38843  2001   2475000.0\n",
       "39032  2001   3780000.0\n",
       "39264  2001   1863000.0\n",
       "39337  2001   4320000.0\n",
       "...     ...         ...\n",
       "54208  2020   2280000.0\n",
       "54663  2020    228000.0\n",
       "81263  2020   2850000.0\n",
       "85008  2020  11400000.0\n",
       "85435  2020   9120000.0\n",
       "\n",
       "[1811 rows x 2 columns]"
      ]
     },
     "execution_count": 76,
     "metadata": {},
     "output_type": "execute_result"
    }
   ],
   "source": [
    "#Ya tenemos los registros dolarizados.\n",
    "dolarized_eur_budget"
   ]
  },
  {
   "cell_type": "code",
   "execution_count": 77,
   "id": "received-jerusalem",
   "metadata": {},
   "outputs": [],
   "source": [
    "df_solo_dolar=data[budget_separado['moneda']=='$']"
   ]
  },
  {
   "cell_type": "code",
   "execution_count": 78,
   "id": "polish-memory",
   "metadata": {},
   "outputs": [],
   "source": [
    "budget_solo_dolar= df_solo_dolar[['budget']]"
   ]
  },
  {
   "cell_type": "code",
   "execution_count": 79,
   "id": "broke-shoot",
   "metadata": {},
   "outputs": [
    {
     "data": {
      "text/html": [
       "<div>\n",
       "<style scoped>\n",
       "    .dataframe tbody tr th:only-of-type {\n",
       "        vertical-align: middle;\n",
       "    }\n",
       "\n",
       "    .dataframe tbody tr th {\n",
       "        vertical-align: top;\n",
       "    }\n",
       "\n",
       "    .dataframe thead th {\n",
       "        text-align: right;\n",
       "    }\n",
       "</style>\n",
       "<table border=\"1\" class=\"dataframe\">\n",
       "  <thead>\n",
       "    <tr style=\"text-align: right;\">\n",
       "      <th></th>\n",
       "      <th>budget</th>\n",
       "    </tr>\n",
       "  </thead>\n",
       "  <tbody>\n",
       "    <tr>\n",
       "      <th>4334</th>\n",
       "      <td>$ 48000000</td>\n",
       "    </tr>\n",
       "    <tr>\n",
       "      <th>30350</th>\n",
       "      <td>$ 22000000</td>\n",
       "    </tr>\n",
       "    <tr>\n",
       "      <th>31237</th>\n",
       "      <td>$ 100000000</td>\n",
       "    </tr>\n",
       "    <tr>\n",
       "      <th>31242</th>\n",
       "      <td>$ 12000000</td>\n",
       "    </tr>\n",
       "    <tr>\n",
       "      <th>31244</th>\n",
       "      <td>$ 35000000</td>\n",
       "    </tr>\n",
       "    <tr>\n",
       "      <th>...</th>\n",
       "      <td>...</td>\n",
       "    </tr>\n",
       "    <tr>\n",
       "      <th>85477</th>\n",
       "      <td>$ 200000</td>\n",
       "    </tr>\n",
       "    <tr>\n",
       "      <th>85530</th>\n",
       "      <td>$ 950000</td>\n",
       "    </tr>\n",
       "    <tr>\n",
       "      <th>85592</th>\n",
       "      <td>$ 500000</td>\n",
       "    </tr>\n",
       "    <tr>\n",
       "      <th>85740</th>\n",
       "      <td>$ 12000000</td>\n",
       "    </tr>\n",
       "    <tr>\n",
       "      <th>85756</th>\n",
       "      <td>$ 1200000</td>\n",
       "    </tr>\n",
       "  </tbody>\n",
       "</table>\n",
       "<p>5943 rows × 1 columns</p>\n",
       "</div>"
      ],
      "text/plain": [
       "            budget\n",
       "4334    $ 48000000\n",
       "30350   $ 22000000\n",
       "31237  $ 100000000\n",
       "31242   $ 12000000\n",
       "31244   $ 35000000\n",
       "...            ...\n",
       "85477     $ 200000\n",
       "85530     $ 950000\n",
       "85592     $ 500000\n",
       "85740   $ 12000000\n",
       "85756    $ 1200000\n",
       "\n",
       "[5943 rows x 1 columns]"
      ]
     },
     "execution_count": 79,
     "metadata": {},
     "output_type": "execute_result"
    }
   ],
   "source": [
    "budget_solo_dolar"
   ]
  },
  {
   "cell_type": "code",
   "execution_count": 80,
   "id": "hidden-belgium",
   "metadata": {},
   "outputs": [
    {
     "data": {
      "text/html": [
       "<div>\n",
       "<style scoped>\n",
       "    .dataframe tbody tr th:only-of-type {\n",
       "        vertical-align: middle;\n",
       "    }\n",
       "\n",
       "    .dataframe tbody tr th {\n",
       "        vertical-align: top;\n",
       "    }\n",
       "\n",
       "    .dataframe thead th {\n",
       "        text-align: right;\n",
       "    }\n",
       "</style>\n",
       "<table border=\"1\" class=\"dataframe\">\n",
       "  <thead>\n",
       "    <tr style=\"text-align: right;\">\n",
       "      <th></th>\n",
       "      <th>moneda</th>\n",
       "      <th>valor</th>\n",
       "    </tr>\n",
       "  </thead>\n",
       "  <tbody>\n",
       "    <tr>\n",
       "      <th>4334</th>\n",
       "      <td>$</td>\n",
       "      <td>48000000</td>\n",
       "    </tr>\n",
       "    <tr>\n",
       "      <th>30350</th>\n",
       "      <td>$</td>\n",
       "      <td>22000000</td>\n",
       "    </tr>\n",
       "    <tr>\n",
       "      <th>31237</th>\n",
       "      <td>$</td>\n",
       "      <td>100000000</td>\n",
       "    </tr>\n",
       "    <tr>\n",
       "      <th>31242</th>\n",
       "      <td>$</td>\n",
       "      <td>12000000</td>\n",
       "    </tr>\n",
       "    <tr>\n",
       "      <th>31244</th>\n",
       "      <td>$</td>\n",
       "      <td>35000000</td>\n",
       "    </tr>\n",
       "    <tr>\n",
       "      <th>...</th>\n",
       "      <td>...</td>\n",
       "      <td>...</td>\n",
       "    </tr>\n",
       "    <tr>\n",
       "      <th>85477</th>\n",
       "      <td>$</td>\n",
       "      <td>200000</td>\n",
       "    </tr>\n",
       "    <tr>\n",
       "      <th>85530</th>\n",
       "      <td>$</td>\n",
       "      <td>950000</td>\n",
       "    </tr>\n",
       "    <tr>\n",
       "      <th>85592</th>\n",
       "      <td>$</td>\n",
       "      <td>500000</td>\n",
       "    </tr>\n",
       "    <tr>\n",
       "      <th>85740</th>\n",
       "      <td>$</td>\n",
       "      <td>12000000</td>\n",
       "    </tr>\n",
       "    <tr>\n",
       "      <th>85756</th>\n",
       "      <td>$</td>\n",
       "      <td>1200000</td>\n",
       "    </tr>\n",
       "  </tbody>\n",
       "</table>\n",
       "<p>5943 rows × 2 columns</p>\n",
       "</div>"
      ],
      "text/plain": [
       "      moneda      valor\n",
       "4334       $   48000000\n",
       "30350      $   22000000\n",
       "31237      $  100000000\n",
       "31242      $   12000000\n",
       "31244      $   35000000\n",
       "...      ...        ...\n",
       "85477      $     200000\n",
       "85530      $     950000\n",
       "85592      $     500000\n",
       "85740      $   12000000\n",
       "85756      $    1200000\n",
       "\n",
       "[5943 rows x 2 columns]"
      ]
     },
     "execution_count": 80,
     "metadata": {},
     "output_type": "execute_result"
    }
   ],
   "source": [
    "# Separamos la columna por el espacio para poder aperturar el valor y la moneda.\n",
    "budget_dol_str=budget_solo_dolar.budget.str\n",
    "budget_separado_dol = budget_dol_str.split(' ', expand=True)\n",
    "budget_separado_dol.rename(columns={0:'moneda', 1:'valor'},inplace=True)\n",
    "budget_separado_dol"
   ]
  },
  {
   "cell_type": "code",
   "execution_count": 81,
   "id": "blond-conference",
   "metadata": {},
   "outputs": [
    {
     "data": {
      "text/html": [
       "<div>\n",
       "<style scoped>\n",
       "    .dataframe tbody tr th:only-of-type {\n",
       "        vertical-align: middle;\n",
       "    }\n",
       "\n",
       "    .dataframe tbody tr th {\n",
       "        vertical-align: top;\n",
       "    }\n",
       "\n",
       "    .dataframe thead th {\n",
       "        text-align: right;\n",
       "    }\n",
       "</style>\n",
       "<table border=\"1\" class=\"dataframe\">\n",
       "  <thead>\n",
       "    <tr style=\"text-align: right;\">\n",
       "      <th></th>\n",
       "      <th>valor</th>\n",
       "    </tr>\n",
       "  </thead>\n",
       "  <tbody>\n",
       "    <tr>\n",
       "      <th>85477</th>\n",
       "      <td>200000</td>\n",
       "    </tr>\n",
       "    <tr>\n",
       "      <th>85530</th>\n",
       "      <td>950000</td>\n",
       "    </tr>\n",
       "    <tr>\n",
       "      <th>85592</th>\n",
       "      <td>500000</td>\n",
       "    </tr>\n",
       "    <tr>\n",
       "      <th>85740</th>\n",
       "      <td>12000000</td>\n",
       "    </tr>\n",
       "    <tr>\n",
       "      <th>85756</th>\n",
       "      <td>1200000</td>\n",
       "    </tr>\n",
       "  </tbody>\n",
       "</table>\n",
       "</div>"
      ],
      "text/plain": [
       "          valor\n",
       "85477    200000\n",
       "85530    950000\n",
       "85592    500000\n",
       "85740  12000000\n",
       "85756   1200000"
      ]
     },
     "execution_count": 81,
     "metadata": {},
     "output_type": "execute_result"
    }
   ],
   "source": [
    "# Nos quedamos solo con los valores en dolares\n",
    "budget_dolar_inicial= budget_separado_dol[['valor']]\n",
    "budget_dolar_inicial.tail()"
   ]
  },
  {
   "cell_type": "code",
   "execution_count": 82,
   "id": "innocent-virus",
   "metadata": {},
   "outputs": [],
   "source": [
    "# Nos quedamos con los valores del budget que estaban en euro y fueron dolarizados\n",
    "dolarized_eur_budget= dolarized_eur_budget[['valor']]"
   ]
  },
  {
   "cell_type": "code",
   "execution_count": 83,
   "id": "convinced-movie",
   "metadata": {},
   "outputs": [],
   "source": [
    "# Budget ya esta solo en valor de la moneda estadounidense.\n",
    "budget_final= pd.concat([budget_dolar_inicial, dolarized_eur_budget], axis=0).sort_index(ascending=True)"
   ]
  },
  {
   "cell_type": "code",
   "execution_count": 84,
   "id": "welsh-associate",
   "metadata": {},
   "outputs": [],
   "source": [
    "data= pd.concat([data, budget_final], axis=1)"
   ]
  },
  {
   "cell_type": "code",
   "execution_count": 85,
   "id": "suburban-plymouth",
   "metadata": {},
   "outputs": [],
   "source": [
    "# Dejamos la columna \"budget_$ y dropeamos \"valor\"\n",
    "data['budget_$']= data.valor\n",
    "data= data.drop(['valor'], axis=1)"
   ]
  },
  {
   "cell_type": "code",
   "execution_count": 86,
   "id": "shared-jordan",
   "metadata": {},
   "outputs": [
    {
     "data": {
      "text/html": [
       "<div>\n",
       "<style scoped>\n",
       "    .dataframe tbody tr th:only-of-type {\n",
       "        vertical-align: middle;\n",
       "    }\n",
       "\n",
       "    .dataframe tbody tr th {\n",
       "        vertical-align: top;\n",
       "    }\n",
       "\n",
       "    .dataframe thead th {\n",
       "        text-align: right;\n",
       "    }\n",
       "</style>\n",
       "<table border=\"1\" class=\"dataframe\">\n",
       "  <thead>\n",
       "    <tr style=\"text-align: right;\">\n",
       "      <th></th>\n",
       "      <th>moneda</th>\n",
       "      <th>valor</th>\n",
       "    </tr>\n",
       "  </thead>\n",
       "  <tbody>\n",
       "    <tr>\n",
       "      <th>4334</th>\n",
       "      <td>$</td>\n",
       "      <td>76019048</td>\n",
       "    </tr>\n",
       "    <tr>\n",
       "      <th>30350</th>\n",
       "      <td>$</td>\n",
       "      <td>5271666</td>\n",
       "    </tr>\n",
       "    <tr>\n",
       "      <th>31237</th>\n",
       "      <td>$</td>\n",
       "      <td>333535934</td>\n",
       "    </tr>\n",
       "    <tr>\n",
       "      <th>31242</th>\n",
       "      <td>$</td>\n",
       "      <td>56298474</td>\n",
       "    </tr>\n",
       "    <tr>\n",
       "      <th>31244</th>\n",
       "      <td>$</td>\n",
       "      <td>74558115</td>\n",
       "    </tr>\n",
       "    <tr>\n",
       "      <th>...</th>\n",
       "      <td>...</td>\n",
       "      <td>...</td>\n",
       "    </tr>\n",
       "    <tr>\n",
       "      <th>85826</th>\n",
       "      <td>$</td>\n",
       "      <td>9306</td>\n",
       "    </tr>\n",
       "    <tr>\n",
       "      <th>85828</th>\n",
       "      <td>$</td>\n",
       "      <td>2568</td>\n",
       "    </tr>\n",
       "    <tr>\n",
       "      <th>85835</th>\n",
       "      <td>$</td>\n",
       "      <td>83857</td>\n",
       "    </tr>\n",
       "    <tr>\n",
       "      <th>85843</th>\n",
       "      <td>$</td>\n",
       "      <td>524061</td>\n",
       "    </tr>\n",
       "    <tr>\n",
       "      <th>85847</th>\n",
       "      <td>$</td>\n",
       "      <td>4791</td>\n",
       "    </tr>\n",
       "  </tbody>\n",
       "</table>\n",
       "<p>9448 rows × 2 columns</p>\n",
       "</div>"
      ],
      "text/plain": [
       "      moneda      valor\n",
       "4334       $   76019048\n",
       "30350      $    5271666\n",
       "31237      $  333535934\n",
       "31242      $   56298474\n",
       "31244      $   74558115\n",
       "...      ...        ...\n",
       "85826      $       9306\n",
       "85828      $       2568\n",
       "85835      $      83857\n",
       "85843      $     524061\n",
       "85847      $       4791\n",
       "\n",
       "[9448 rows x 2 columns]"
      ]
     },
     "execution_count": 86,
     "metadata": {},
     "output_type": "execute_result"
    }
   ],
   "source": [
    "wwgi_str=data.worlwide_gross_income.str\n",
    "wwgi_separado = wwgi_str.split(' ', expand=True)\n",
    "wwgi_separado.rename(columns={0:'moneda', 1:'valor'},inplace=True)\n",
    "wwgi_separado"
   ]
  },
  {
   "cell_type": "code",
   "execution_count": 87,
   "id": "rational-guest",
   "metadata": {},
   "outputs": [],
   "source": [
    "worldwide_list= data['worlwide_gross_income'].tolist()"
   ]
  },
  {
   "cell_type": "code",
   "execution_count": 88,
   "id": "homeless-poultry",
   "metadata": {},
   "outputs": [
    {
     "data": {
      "text/plain": [
       "9448"
      ]
     },
     "execution_count": 88,
     "metadata": {},
     "output_type": "execute_result"
    }
   ],
   "source": [
    "# Observamos que todos los registros del ingreso mundial esta dolarizado\n",
    "pattern= re.compile(r\"\\$\")\n",
    "len(re.findall(pattern, str(worldwide_list)))"
   ]
  },
  {
   "cell_type": "code",
   "execution_count": 89,
   "id": "confused-passion",
   "metadata": {},
   "outputs": [
    {
     "data": {
      "text/plain": [
       "0"
      ]
     },
     "execution_count": 89,
     "metadata": {},
     "output_type": "execute_result"
    }
   ],
   "source": [
    "pattern_2= re.compile(r\"EUR\")\n",
    "len(re.findall(pattern_2, str(worldwide_list)))"
   ]
  },
  {
   "cell_type": "code",
   "execution_count": 90,
   "id": "dangerous-cloud",
   "metadata": {},
   "outputs": [],
   "source": [
    "data= pd.concat([data, wwgi_separado['valor']], axis=1)\n",
    "data.rename(columns={'valor':'wwgi_$'},inplace=True)\n",
    "# Dropeamo los budget que no estan en dolares\n",
    "data = data[data['budget_$'].notnull()]\n",
    "data = data.astype({\"budget_$\": float,\"wwgi_$\": float})"
   ]
  },
  {
   "cell_type": "markdown",
   "id": "median-douglas",
   "metadata": {},
   "source": [
    "Finalmente nos quedamos con worldwide que asumimos tien todos valores en dolares y con los valores en dolares de budget para poder conformar nuestra variable target \"markup\"."
   ]
  },
  {
   "cell_type": "code",
   "execution_count": 91,
   "id": "consolidated-domain",
   "metadata": {},
   "outputs": [
    {
     "data": {
      "text/html": [
       "<div>\n",
       "<style scoped>\n",
       "    .dataframe tbody tr th:only-of-type {\n",
       "        vertical-align: middle;\n",
       "    }\n",
       "\n",
       "    .dataframe tbody tr th {\n",
       "        vertical-align: top;\n",
       "    }\n",
       "\n",
       "    .dataframe thead th {\n",
       "        text-align: right;\n",
       "    }\n",
       "</style>\n",
       "<table border=\"1\" class=\"dataframe\">\n",
       "  <thead>\n",
       "    <tr style=\"text-align: right;\">\n",
       "      <th></th>\n",
       "      <th>imdb_title_id</th>\n",
       "      <th>title</th>\n",
       "      <th>original_title</th>\n",
       "      <th>year</th>\n",
       "      <th>date_published</th>\n",
       "      <th>genre</th>\n",
       "      <th>duration</th>\n",
       "      <th>country</th>\n",
       "      <th>language</th>\n",
       "      <th>director</th>\n",
       "      <th>...</th>\n",
       "      <th>votes</th>\n",
       "      <th>budget</th>\n",
       "      <th>usa_gross_income</th>\n",
       "      <th>worlwide_gross_income</th>\n",
       "      <th>metascore</th>\n",
       "      <th>reviews_from_users</th>\n",
       "      <th>reviews_from_critics</th>\n",
       "      <th>budget_$</th>\n",
       "      <th>wwgi_$</th>\n",
       "      <th>markup</th>\n",
       "    </tr>\n",
       "  </thead>\n",
       "  <tbody>\n",
       "    <tr>\n",
       "      <th>4334</th>\n",
       "      <td>tt0035423</td>\n",
       "      <td>Kate &amp; Leopold</td>\n",
       "      <td>Kate &amp; Leopold</td>\n",
       "      <td>2001</td>\n",
       "      <td>2002-03-01</td>\n",
       "      <td>Comedy, Fantasy, Romance</td>\n",
       "      <td>118</td>\n",
       "      <td>USA</td>\n",
       "      <td>English, French</td>\n",
       "      <td>James Mangold</td>\n",
       "      <td>...</td>\n",
       "      <td>77852</td>\n",
       "      <td>$ 48000000</td>\n",
       "      <td>$ 47121859</td>\n",
       "      <td>$ 76019048</td>\n",
       "      <td>44.0</td>\n",
       "      <td>341.0</td>\n",
       "      <td>115.0</td>\n",
       "      <td>48000000.0</td>\n",
       "      <td>76019048.0</td>\n",
       "      <td>1.583730</td>\n",
       "    </tr>\n",
       "    <tr>\n",
       "      <th>30350</th>\n",
       "      <td>tt0118589</td>\n",
       "      <td>Glitter</td>\n",
       "      <td>Glitter</td>\n",
       "      <td>2001</td>\n",
       "      <td>2001-11-30</td>\n",
       "      <td>Drama, Music, Romance</td>\n",
       "      <td>104</td>\n",
       "      <td>USA</td>\n",
       "      <td>English</td>\n",
       "      <td>Vondie Curtis-Hall</td>\n",
       "      <td>...</td>\n",
       "      <td>21298</td>\n",
       "      <td>$ 22000000</td>\n",
       "      <td>$ 4274407</td>\n",
       "      <td>$ 5271666</td>\n",
       "      <td>14.0</td>\n",
       "      <td>319.0</td>\n",
       "      <td>75.0</td>\n",
       "      <td>22000000.0</td>\n",
       "      <td>5271666.0</td>\n",
       "      <td>0.239621</td>\n",
       "    </tr>\n",
       "    <tr>\n",
       "      <th>31237</th>\n",
       "      <td>tt0120667</td>\n",
       "      <td>I Fantastici 4</td>\n",
       "      <td>Fantastic Four</td>\n",
       "      <td>2005</td>\n",
       "      <td>2005-09-16</td>\n",
       "      <td>Action, Adventure, Fantasy</td>\n",
       "      <td>106</td>\n",
       "      <td>USA, Germany</td>\n",
       "      <td>English</td>\n",
       "      <td>Tim Story</td>\n",
       "      <td>...</td>\n",
       "      <td>307944</td>\n",
       "      <td>$ 100000000</td>\n",
       "      <td>$ 154696080</td>\n",
       "      <td>$ 333535934</td>\n",
       "      <td>40.0</td>\n",
       "      <td>1029.0</td>\n",
       "      <td>112.0</td>\n",
       "      <td>100000000.0</td>\n",
       "      <td>333535934.0</td>\n",
       "      <td>3.335359</td>\n",
       "    </tr>\n",
       "    <tr>\n",
       "      <th>31242</th>\n",
       "      <td>tt0120679</td>\n",
       "      <td>Frida</td>\n",
       "      <td>Frida</td>\n",
       "      <td>2002</td>\n",
       "      <td>2003-01-17</td>\n",
       "      <td>Biography, Drama, Romance</td>\n",
       "      <td>123</td>\n",
       "      <td>Mexico, USA, Canada</td>\n",
       "      <td>English, French, Russian</td>\n",
       "      <td>Julie Taymor</td>\n",
       "      <td>...</td>\n",
       "      <td>79690</td>\n",
       "      <td>$ 12000000</td>\n",
       "      <td>$ 25885000</td>\n",
       "      <td>$ 56298474</td>\n",
       "      <td>61.0</td>\n",
       "      <td>297.0</td>\n",
       "      <td>130.0</td>\n",
       "      <td>12000000.0</td>\n",
       "      <td>56298474.0</td>\n",
       "      <td>4.691540</td>\n",
       "    </tr>\n",
       "    <tr>\n",
       "      <th>31244</th>\n",
       "      <td>tt0120681</td>\n",
       "      <td>La vera storia di Jack lo Squartatore</td>\n",
       "      <td>From Hell</td>\n",
       "      <td>2001</td>\n",
       "      <td>2001-12-21</td>\n",
       "      <td>Horror, Mystery, Thriller</td>\n",
       "      <td>122</td>\n",
       "      <td>USA, Czech Republic, UK</td>\n",
       "      <td>English</td>\n",
       "      <td>Albert Hughes, Allen Hughes</td>\n",
       "      <td>...</td>\n",
       "      <td>144714</td>\n",
       "      <td>$ 35000000</td>\n",
       "      <td>$ 31602566</td>\n",
       "      <td>$ 74558115</td>\n",
       "      <td>54.0</td>\n",
       "      <td>556.0</td>\n",
       "      <td>181.0</td>\n",
       "      <td>35000000.0</td>\n",
       "      <td>74558115.0</td>\n",
       "      <td>2.130232</td>\n",
       "    </tr>\n",
       "  </tbody>\n",
       "</table>\n",
       "<p>5 rows × 25 columns</p>\n",
       "</div>"
      ],
      "text/plain": [
       "      imdb_title_id                                  title  original_title  \\\n",
       "4334      tt0035423                         Kate & Leopold  Kate & Leopold   \n",
       "30350     tt0118589                                Glitter         Glitter   \n",
       "31237     tt0120667                         I Fantastici 4  Fantastic Four   \n",
       "31242     tt0120679                                  Frida           Frida   \n",
       "31244     tt0120681  La vera storia di Jack lo Squartatore       From Hell   \n",
       "\n",
       "       year date_published                       genre  duration  \\\n",
       "4334   2001     2002-03-01    Comedy, Fantasy, Romance       118   \n",
       "30350  2001     2001-11-30       Drama, Music, Romance       104   \n",
       "31237  2005     2005-09-16  Action, Adventure, Fantasy       106   \n",
       "31242  2002     2003-01-17   Biography, Drama, Romance       123   \n",
       "31244  2001     2001-12-21   Horror, Mystery, Thriller       122   \n",
       "\n",
       "                       country                  language  \\\n",
       "4334                       USA           English, French   \n",
       "30350                      USA                   English   \n",
       "31237             USA, Germany                   English   \n",
       "31242      Mexico, USA, Canada  English, French, Russian   \n",
       "31244  USA, Czech Republic, UK                   English   \n",
       "\n",
       "                          director  ...   votes       budget usa_gross_income  \\\n",
       "4334                 James Mangold  ...   77852   $ 48000000       $ 47121859   \n",
       "30350           Vondie Curtis-Hall  ...   21298   $ 22000000        $ 4274407   \n",
       "31237                    Tim Story  ...  307944  $ 100000000      $ 154696080   \n",
       "31242                 Julie Taymor  ...   79690   $ 12000000       $ 25885000   \n",
       "31244  Albert Hughes, Allen Hughes  ...  144714   $ 35000000       $ 31602566   \n",
       "\n",
       "      worlwide_gross_income  metascore  reviews_from_users  \\\n",
       "4334             $ 76019048       44.0               341.0   \n",
       "30350             $ 5271666       14.0               319.0   \n",
       "31237           $ 333535934       40.0              1029.0   \n",
       "31242            $ 56298474       61.0               297.0   \n",
       "31244            $ 74558115       54.0               556.0   \n",
       "\n",
       "      reviews_from_critics     budget_$       wwgi_$    markup  \n",
       "4334                 115.0   48000000.0   76019048.0  1.583730  \n",
       "30350                 75.0   22000000.0    5271666.0  0.239621  \n",
       "31237                112.0  100000000.0  333535934.0  3.335359  \n",
       "31242                130.0   12000000.0   56298474.0  4.691540  \n",
       "31244                181.0   35000000.0   74558115.0  2.130232  \n",
       "\n",
       "[5 rows x 25 columns]"
      ]
     },
     "execution_count": 91,
     "metadata": {},
     "output_type": "execute_result"
    }
   ],
   "source": [
    "data['markup'] = data['wwgi_$']/data['budget_$']\n",
    "data.head(5)"
   ]
  },
  {
   "cell_type": "code",
   "execution_count": 92,
   "id": "formal-conducting",
   "metadata": {},
   "outputs": [],
   "source": [
    "#Hay 2 registros de budget que son 0, generando outliers de valor infinito.\n",
    "#Procedemos a quedarnos con los budgets mayores a 1000usd (aca tenemos que ver que numero es el indicado)\n",
    "data = data[data['markup'].values.astype(int) < 50]\n",
    "data = data[data['budget_$'].values.astype(int) > 1000]"
   ]
  },
  {
   "cell_type": "code",
   "execution_count": 93,
   "id": "suited-distinction",
   "metadata": {},
   "outputs": [
    {
     "data": {
      "text/plain": [
       "count    7704.000000\n",
       "mean        1.901574\n",
       "std         3.508385\n",
       "min         0.000014\n",
       "25%         0.118400\n",
       "50%         0.712943\n",
       "75%         2.300040\n",
       "max        49.795259\n",
       "Name: markup, dtype: float64"
      ]
     },
     "execution_count": 93,
     "metadata": {},
     "output_type": "execute_result"
    }
   ],
   "source": [
    "data.markup.describe()"
   ]
  },
  {
   "cell_type": "markdown",
   "id": "through-maple",
   "metadata": {},
   "source": [
    "<a id=\"section_features\"></a>\n",
    "\n",
    "## Variables Features\n",
    "\n",
    "[volver a TOC](#section_toc)"
   ]
  },
  {
   "cell_type": "markdown",
   "id": "quick-witch",
   "metadata": {},
   "source": [
    "<a id=\"section_nulos\"></a>\n",
    "### Cantidad de nulos por columna"
   ]
  },
  {
   "cell_type": "code",
   "execution_count": 94,
   "id": "still-islam",
   "metadata": {},
   "outputs": [
    {
     "data": {
      "text/html": [
       "<div>\n",
       "<style scoped>\n",
       "    .dataframe tbody tr th:only-of-type {\n",
       "        vertical-align: middle;\n",
       "    }\n",
       "\n",
       "    .dataframe tbody tr th {\n",
       "        vertical-align: top;\n",
       "    }\n",
       "\n",
       "    .dataframe thead th {\n",
       "        text-align: right;\n",
       "    }\n",
       "</style>\n",
       "<table border=\"1\" class=\"dataframe\">\n",
       "  <thead>\n",
       "    <tr style=\"text-align: right;\">\n",
       "      <th></th>\n",
       "      <th>total</th>\n",
       "      <th>proporcion</th>\n",
       "    </tr>\n",
       "  </thead>\n",
       "  <tbody>\n",
       "    <tr>\n",
       "      <th>metascore</th>\n",
       "      <td>3139</td>\n",
       "      <td>0.407451</td>\n",
       "    </tr>\n",
       "    <tr>\n",
       "      <th>usa_gross_income</th>\n",
       "      <td>3057</td>\n",
       "      <td>0.396807</td>\n",
       "    </tr>\n",
       "    <tr>\n",
       "      <th>reviews_from_users</th>\n",
       "      <td>366</td>\n",
       "      <td>0.047508</td>\n",
       "    </tr>\n",
       "    <tr>\n",
       "      <th>reviews_from_critics</th>\n",
       "      <td>272</td>\n",
       "      <td>0.035306</td>\n",
       "    </tr>\n",
       "    <tr>\n",
       "      <th>description</th>\n",
       "      <td>108</td>\n",
       "      <td>0.014019</td>\n",
       "    </tr>\n",
       "    <tr>\n",
       "      <th>production_company</th>\n",
       "      <td>70</td>\n",
       "      <td>0.009086</td>\n",
       "    </tr>\n",
       "    <tr>\n",
       "      <th>language</th>\n",
       "      <td>31</td>\n",
       "      <td>0.004024</td>\n",
       "    </tr>\n",
       "    <tr>\n",
       "      <th>writer</th>\n",
       "      <td>20</td>\n",
       "      <td>0.002596</td>\n",
       "    </tr>\n",
       "    <tr>\n",
       "      <th>actors</th>\n",
       "      <td>2</td>\n",
       "      <td>0.000260</td>\n",
       "    </tr>\n",
       "    <tr>\n",
       "      <th>country</th>\n",
       "      <td>1</td>\n",
       "      <td>0.000130</td>\n",
       "    </tr>\n",
       "    <tr>\n",
       "      <th>director</th>\n",
       "      <td>1</td>\n",
       "      <td>0.000130</td>\n",
       "    </tr>\n",
       "  </tbody>\n",
       "</table>\n",
       "</div>"
      ],
      "text/plain": [
       "                      total  proporcion\n",
       "metascore              3139    0.407451\n",
       "usa_gross_income       3057    0.396807\n",
       "reviews_from_users      366    0.047508\n",
       "reviews_from_critics    272    0.035306\n",
       "description             108    0.014019\n",
       "production_company       70    0.009086\n",
       "language                 31    0.004024\n",
       "writer                   20    0.002596\n",
       "actors                    2    0.000260\n",
       "country                   1    0.000130\n",
       "director                  1    0.000130"
      ]
     },
     "execution_count": 94,
     "metadata": {},
     "output_type": "execute_result"
    }
   ],
   "source": [
    "def freq_na(df, zeros=False):\n",
    "    miss      = df.isnull().sum(axis=0)\n",
    "    miss_prop = miss / len(df)\n",
    "    freq = pd.concat([miss, miss_prop], axis=1)\n",
    "    freq.columns = ['total', 'proporcion']\n",
    "    return freq if zeros else freq[freq['total'] > 0].sort_values(by='proporcion',ascending=False)\n",
    "\n",
    "freq_na(data)"
   ]
  },
  {
   "cell_type": "code",
   "execution_count": 95,
   "id": "threatened-dollar",
   "metadata": {},
   "outputs": [
    {
     "data": {
      "image/png": "[encoded data removed]",
      "text/plain": [
       "<Figure size 432x288 with 1 Axes>"
      ]
     },
     "metadata": {},
     "output_type": "display_data"
    }
   ],
   "source": [
    "# Graficamos la presencia de nulos para variables de nuestro dataset\n",
    "def mostrar_nulos(df):\n",
    "    \n",
    "    nulos = df.isnull().sum() / len(df)\n",
    "    nulos = nulos[nulos > 0]\n",
    "    nulos.sort_values(inplace=True)\n",
    "    \n",
    "    nulos = nulos.to_frame()\n",
    "    nulos.columns = ['total']\n",
    "    nulos.index.names = ['variable']\n",
    "    nulos['variable'] = nulos.index\n",
    "    # ploteo\n",
    "    sns.set(style=\"whitegrid\", color_codes=True)\n",
    "    sns.barplot(x='variable', y='total', data=nulos)\n",
    "    plt.xticks(rotation = 90)\n",
    "    plt.show()\n",
    "mostrar_nulos(data)"
   ]
  },
  {
   "cell_type": "code",
   "execution_count": 96,
   "id": "robust-simon",
   "metadata": {},
   "outputs": [],
   "source": [
    "# Dropeamos metascores y usa_gross_income que contienen mas del 40% de los registros sin datos\n",
    "data= data.drop(['metascore', 'usa_gross_income'], axis=1)"
   ]
  },
  {
   "cell_type": "code",
   "execution_count": 97,
   "id": "verified-adoption",
   "metadata": {},
   "outputs": [
    {
     "data": {
      "image/png": "[encoded data removed]",
      "text/plain": [
       "<Figure size 432x288 with 1 Axes>"
      ]
     },
     "metadata": {},
     "output_type": "display_data"
    }
   ],
   "source": [
    "# Graficamos la presencia de nulos para variables de nuestro dataset nuevamente\n",
    "def mostrar_nulos(df):\n",
    "    \n",
    "    nulos = df.isnull().sum() / len(df)\n",
    "    nulos = nulos[nulos > 0]\n",
    "    nulos.sort_values(inplace=True)\n",
    "    \n",
    "    nulos = nulos.to_frame()\n",
    "    nulos.columns = ['total']\n",
    "    nulos.index.names = ['variable']\n",
    "    nulos['variable'] = nulos.index\n",
    "    # ploteo\n",
    "    sns.set(style=\"whitegrid\", color_codes=True)\n",
    "    sns.barplot(x='variable', y='total', data=nulos)\n",
    "    plt.xticks(rotation = 90)\n",
    "    plt.show()\n",
    "mostrar_nulos(data)"
   ]
  },
  {
   "cell_type": "markdown",
   "id": "cutting-grill",
   "metadata": {},
   "source": [
    "<a id=\"section_country\"></a>\n",
    "\n",
    "### Country\n",
    "\n",
    "[volver a TOC](#section_toc)"
   ]
  },
  {
   "cell_type": "code",
   "execution_count": 98,
   "id": "exposed-certificate",
   "metadata": {},
   "outputs": [
    {
     "data": {
      "text/html": [
       "<div>\n",
       "<style scoped>\n",
       "    .dataframe tbody tr th:only-of-type {\n",
       "        vertical-align: middle;\n",
       "    }\n",
       "\n",
       "    .dataframe tbody tr th {\n",
       "        vertical-align: top;\n",
       "    }\n",
       "\n",
       "    .dataframe thead th {\n",
       "        text-align: right;\n",
       "    }\n",
       "</style>\n",
       "<table border=\"1\" class=\"dataframe\">\n",
       "  <thead>\n",
       "    <tr style=\"text-align: right;\">\n",
       "      <th></th>\n",
       "      <th>0</th>\n",
       "      <th>1</th>\n",
       "      <th>2</th>\n",
       "      <th>3</th>\n",
       "      <th>4</th>\n",
       "      <th>5</th>\n",
       "      <th>6</th>\n",
       "      <th>7</th>\n",
       "      <th>8</th>\n",
       "      <th>9</th>\n",
       "      <th>10</th>\n",
       "    </tr>\n",
       "  </thead>\n",
       "  <tbody>\n",
       "    <tr>\n",
       "      <th>4334</th>\n",
       "      <td>USA</td>\n",
       "      <td>None</td>\n",
       "      <td>None</td>\n",
       "      <td>None</td>\n",
       "      <td>None</td>\n",
       "      <td>None</td>\n",
       "      <td>None</td>\n",
       "      <td>None</td>\n",
       "      <td>None</td>\n",
       "      <td>None</td>\n",
       "      <td>None</td>\n",
       "    </tr>\n",
       "    <tr>\n",
       "      <th>30350</th>\n",
       "      <td>USA</td>\n",
       "      <td>None</td>\n",
       "      <td>None</td>\n",
       "      <td>None</td>\n",
       "      <td>None</td>\n",
       "      <td>None</td>\n",
       "      <td>None</td>\n",
       "      <td>None</td>\n",
       "      <td>None</td>\n",
       "      <td>None</td>\n",
       "      <td>None</td>\n",
       "    </tr>\n",
       "    <tr>\n",
       "      <th>31237</th>\n",
       "      <td>USA</td>\n",
       "      <td>Germany</td>\n",
       "      <td>None</td>\n",
       "      <td>None</td>\n",
       "      <td>None</td>\n",
       "      <td>None</td>\n",
       "      <td>None</td>\n",
       "      <td>None</td>\n",
       "      <td>None</td>\n",
       "      <td>None</td>\n",
       "      <td>None</td>\n",
       "    </tr>\n",
       "    <tr>\n",
       "      <th>31242</th>\n",
       "      <td>Mexico</td>\n",
       "      <td>USA</td>\n",
       "      <td>Canada</td>\n",
       "      <td>None</td>\n",
       "      <td>None</td>\n",
       "      <td>None</td>\n",
       "      <td>None</td>\n",
       "      <td>None</td>\n",
       "      <td>None</td>\n",
       "      <td>None</td>\n",
       "      <td>None</td>\n",
       "    </tr>\n",
       "    <tr>\n",
       "      <th>31244</th>\n",
       "      <td>USA</td>\n",
       "      <td>Czech Republic</td>\n",
       "      <td>UK</td>\n",
       "      <td>None</td>\n",
       "      <td>None</td>\n",
       "      <td>None</td>\n",
       "      <td>None</td>\n",
       "      <td>None</td>\n",
       "      <td>None</td>\n",
       "      <td>None</td>\n",
       "      <td>None</td>\n",
       "    </tr>\n",
       "    <tr>\n",
       "      <th>...</th>\n",
       "      <td>...</td>\n",
       "      <td>...</td>\n",
       "      <td>...</td>\n",
       "      <td>...</td>\n",
       "      <td>...</td>\n",
       "      <td>...</td>\n",
       "      <td>...</td>\n",
       "      <td>...</td>\n",
       "      <td>...</td>\n",
       "      <td>...</td>\n",
       "      <td>...</td>\n",
       "    </tr>\n",
       "    <tr>\n",
       "      <th>85691</th>\n",
       "      <td>Germany</td>\n",
       "      <td>None</td>\n",
       "      <td>None</td>\n",
       "      <td>None</td>\n",
       "      <td>None</td>\n",
       "      <td>None</td>\n",
       "      <td>None</td>\n",
       "      <td>None</td>\n",
       "      <td>None</td>\n",
       "      <td>None</td>\n",
       "      <td>None</td>\n",
       "    </tr>\n",
       "    <tr>\n",
       "      <th>85740</th>\n",
       "      <td>USA</td>\n",
       "      <td>None</td>\n",
       "      <td>None</td>\n",
       "      <td>None</td>\n",
       "      <td>None</td>\n",
       "      <td>None</td>\n",
       "      <td>None</td>\n",
       "      <td>None</td>\n",
       "      <td>None</td>\n",
       "      <td>None</td>\n",
       "      <td>None</td>\n",
       "    </tr>\n",
       "    <tr>\n",
       "      <th>85741</th>\n",
       "      <td>Finland</td>\n",
       "      <td>China</td>\n",
       "      <td>None</td>\n",
       "      <td>None</td>\n",
       "      <td>None</td>\n",
       "      <td>None</td>\n",
       "      <td>None</td>\n",
       "      <td>None</td>\n",
       "      <td>None</td>\n",
       "      <td>None</td>\n",
       "      <td>None</td>\n",
       "    </tr>\n",
       "    <tr>\n",
       "      <th>85756</th>\n",
       "      <td>Thailand</td>\n",
       "      <td>None</td>\n",
       "      <td>None</td>\n",
       "      <td>None</td>\n",
       "      <td>None</td>\n",
       "      <td>None</td>\n",
       "      <td>None</td>\n",
       "      <td>None</td>\n",
       "      <td>None</td>\n",
       "      <td>None</td>\n",
       "      <td>None</td>\n",
       "    </tr>\n",
       "    <tr>\n",
       "      <th>85802</th>\n",
       "      <td>France</td>\n",
       "      <td>Luxembourg</td>\n",
       "      <td>Belgium</td>\n",
       "      <td>None</td>\n",
       "      <td>None</td>\n",
       "      <td>None</td>\n",
       "      <td>None</td>\n",
       "      <td>None</td>\n",
       "      <td>None</td>\n",
       "      <td>None</td>\n",
       "      <td>None</td>\n",
       "    </tr>\n",
       "  </tbody>\n",
       "</table>\n",
       "<p>7704 rows × 11 columns</p>\n",
       "</div>"
      ],
      "text/plain": [
       "             0                1         2     3     4     5     6     7   \\\n",
       "4334        USA             None      None  None  None  None  None  None   \n",
       "30350       USA             None      None  None  None  None  None  None   \n",
       "31237       USA          Germany      None  None  None  None  None  None   \n",
       "31242    Mexico              USA    Canada  None  None  None  None  None   \n",
       "31244       USA   Czech Republic        UK  None  None  None  None  None   \n",
       "...         ...              ...       ...   ...   ...   ...   ...   ...   \n",
       "85691   Germany             None      None  None  None  None  None  None   \n",
       "85740       USA             None      None  None  None  None  None  None   \n",
       "85741   Finland            China      None  None  None  None  None  None   \n",
       "85756  Thailand             None      None  None  None  None  None  None   \n",
       "85802    France       Luxembourg   Belgium  None  None  None  None  None   \n",
       "\n",
       "         8     9     10  \n",
       "4334   None  None  None  \n",
       "30350  None  None  None  \n",
       "31237  None  None  None  \n",
       "31242  None  None  None  \n",
       "31244  None  None  None  \n",
       "...     ...   ...   ...  \n",
       "85691  None  None  None  \n",
       "85740  None  None  None  \n",
       "85741  None  None  None  \n",
       "85756  None  None  None  \n",
       "85802  None  None  None  \n",
       "\n",
       "[7704 rows x 11 columns]"
      ]
     },
     "execution_count": 98,
     "metadata": {},
     "output_type": "execute_result"
    }
   ],
   "source": [
    "#Separamos la columna por la ',' para poder aperturarlo.\n",
    "country_str=data.country.str\n",
    "country_separado = country_str.split(',', expand=True)\n",
    "country_separado"
   ]
  },
  {
   "cell_type": "code",
   "execution_count": 99,
   "id": "virgin-england",
   "metadata": {},
   "outputs": [],
   "source": [
    "#Para simplificar decidimos quedarnos con el primer pais\n",
    "country_separado.rename(columns={0:'first_country'},inplace=True)"
   ]
  },
  {
   "cell_type": "code",
   "execution_count": 100,
   "id": "olympic-tracker",
   "metadata": {},
   "outputs": [
    {
     "data": {
      "text/plain": [
       "first_country       1\n",
       "1                4609\n",
       "2                6375\n",
       "3                7208\n",
       "4                7503\n",
       "5                7621\n",
       "6                7673\n",
       "7                7690\n",
       "8                7699\n",
       "9                7702\n",
       "10               7703\n",
       "dtype: int64"
      ]
     },
     "execution_count": 100,
     "metadata": {},
     "output_type": "execute_result"
    }
   ],
   "source": [
    "country_separado.isnull().sum()"
   ]
  },
  {
   "cell_type": "code",
   "execution_count": 101,
   "id": "dirty-providence",
   "metadata": {},
   "outputs": [],
   "source": [
    "first_country= country_separado.first_country"
   ]
  },
  {
   "cell_type": "code",
   "execution_count": 102,
   "id": "enhanced-running",
   "metadata": {},
   "outputs": [],
   "source": [
    "first_country= pd.DataFrame(first_country)"
   ]
  },
  {
   "cell_type": "code",
   "execution_count": 103,
   "id": "assisted-archive",
   "metadata": {},
   "outputs": [
    {
     "data": {
      "text/html": [
       "<div>\n",
       "<style scoped>\n",
       "    .dataframe tbody tr th:only-of-type {\n",
       "        vertical-align: middle;\n",
       "    }\n",
       "\n",
       "    .dataframe tbody tr th {\n",
       "        vertical-align: top;\n",
       "    }\n",
       "\n",
       "    .dataframe thead th {\n",
       "        text-align: right;\n",
       "    }\n",
       "</style>\n",
       "<table border=\"1\" class=\"dataframe\">\n",
       "  <thead>\n",
       "    <tr style=\"text-align: right;\">\n",
       "      <th></th>\n",
       "      <th>first_country</th>\n",
       "    </tr>\n",
       "  </thead>\n",
       "  <tbody>\n",
       "    <tr>\n",
       "      <th>4334</th>\n",
       "      <td>USA</td>\n",
       "    </tr>\n",
       "    <tr>\n",
       "      <th>30350</th>\n",
       "      <td>USA</td>\n",
       "    </tr>\n",
       "    <tr>\n",
       "      <th>31237</th>\n",
       "      <td>USA</td>\n",
       "    </tr>\n",
       "    <tr>\n",
       "      <th>31242</th>\n",
       "      <td>Mexico</td>\n",
       "    </tr>\n",
       "    <tr>\n",
       "      <th>31244</th>\n",
       "      <td>USA</td>\n",
       "    </tr>\n",
       "    <tr>\n",
       "      <th>...</th>\n",
       "      <td>...</td>\n",
       "    </tr>\n",
       "    <tr>\n",
       "      <th>85691</th>\n",
       "      <td>Germany</td>\n",
       "    </tr>\n",
       "    <tr>\n",
       "      <th>85740</th>\n",
       "      <td>USA</td>\n",
       "    </tr>\n",
       "    <tr>\n",
       "      <th>85741</th>\n",
       "      <td>Finland</td>\n",
       "    </tr>\n",
       "    <tr>\n",
       "      <th>85756</th>\n",
       "      <td>Thailand</td>\n",
       "    </tr>\n",
       "    <tr>\n",
       "      <th>85802</th>\n",
       "      <td>France</td>\n",
       "    </tr>\n",
       "  </tbody>\n",
       "</table>\n",
       "<p>7704 rows × 1 columns</p>\n",
       "</div>"
      ],
      "text/plain": [
       "      first_country\n",
       "4334            USA\n",
       "30350           USA\n",
       "31237           USA\n",
       "31242        Mexico\n",
       "31244           USA\n",
       "...             ...\n",
       "85691       Germany\n",
       "85740           USA\n",
       "85741       Finland\n",
       "85756      Thailand\n",
       "85802        France\n",
       "\n",
       "[7704 rows x 1 columns]"
      ]
     },
     "execution_count": 103,
     "metadata": {},
     "output_type": "execute_result"
    }
   ],
   "source": [
    "first_country"
   ]
  },
  {
   "cell_type": "code",
   "execution_count": 104,
   "id": "fitted-presentation",
   "metadata": {},
   "outputs": [],
   "source": [
    "# Agregamos el primer pais al dataframe\n",
    "data=pd.concat([data, first_country], axis=1)"
   ]
  },
  {
   "cell_type": "code",
   "execution_count": 105,
   "id": "radical-rhythm",
   "metadata": {},
   "outputs": [],
   "source": [
    "# Dropeamos la columna que contien todos los paises\n",
    "data= data.drop('country', axis=1)"
   ]
  },
  {
   "cell_type": "code",
   "execution_count": 106,
   "id": "welcome-receipt",
   "metadata": {},
   "outputs": [],
   "source": [
    "#Ahora vamos a trabajar sobre la columna first_country\n",
    "#Vamos a dividir los paises en 3 features: USA, Europa y Others "
   ]
  },
  {
   "cell_type": "code",
   "execution_count": 107,
   "id": "interstate-charge",
   "metadata": {},
   "outputs": [],
   "source": [
    "cs= data[['first_country']].rename(columns={'first_country':'fc'})"
   ]
  },
  {
   "cell_type": "code",
   "execution_count": 108,
   "id": "hollywood-buyer",
   "metadata": {},
   "outputs": [],
   "source": [
    "#Hacemos las dummies\n",
    "cs= pd.get_dummies(cs)"
   ]
  },
  {
   "cell_type": "code",
   "execution_count": 109,
   "id": "portuguese-milton",
   "metadata": {},
   "outputs": [],
   "source": [
    "#pd.options.display.max_columns=1000"
   ]
  },
  {
   "cell_type": "code",
   "execution_count": 110,
   "id": "communist-service",
   "metadata": {},
   "outputs": [],
   "source": [
    "#Creo una nueva columna que sea la suma de los paises que no sean parte de Europa ni de USA\n",
    "cs['other_countries']= (cs['fc_Russia']+cs['fc_Canada']+cs['fc_China']+cs['fc_Turkey']\n",
    "                          +cs['fc_South Korea']+cs['fc_Japan']+cs['fc_Mexico']+cs['fc_India']\n",
    "                          +cs['fc_Hong Kong']+cs['fc_Argentina']+cs['fc_Australia']+cs['fc_Brazil']\n",
    "                          +cs['fc_South Africa']+cs['fc_New Zealand']+cs['fc_Chile']+cs['fc_Israel']\n",
    "                          +cs['fc_Thailand']+cs['fc_Peru']+cs['fc_Taiwan']+cs['fc_Colombia']+cs['fc_Lebanon']\n",
    "                          +cs['fc_Indonesia']+cs['fc_United Arab Emirates']+cs['fc_Uruguay']+cs['fc_Philippines']\n",
    "                          +cs['fc_Kazakhstan']+cs['fc_Egypt']+cs['fc_Vietnam']+cs['fc_Venezuela']+cs['fc_Pakistan']\n",
    "                          +cs['fc_Malaysia']+cs['fc_Palestine']+cs['fc_Georgia']+cs['fc_Iran']+cs['fc_Nigeria']\n",
    "                          +cs['fc_Panama']+cs['fc_Republic of North Macedonia']+cs['fc_Tunisia']+cs['fc_Iraq']\n",
    "                          +cs['fc_Puerto Rico']+cs['fc_Singapore']+cs['fc_Aruba']+cs['fc_Bolivia']+cs['fc_Algeria']\n",
    "                          +cs['fc_Bhutan']+cs['fc_Belarus']+cs['fc_Bangladesh']+cs['fc_Bahamas']+cs['fc_Yemen']\n",
    "                          +cs['fc_Dominican Republic']+cs['fc_Greenland']+cs['fc_Jordan']+cs['fc_Kenya']+cs['fc_Mali']\n",
    "                          +cs['fc_Mauritius']+cs['fc_Mongolia']+cs['fc_Montenegro']+cs['fc_Morocco']+cs['fc_Paraguay']\n",
    "                          +cs['fc_Qatar']+cs['fc_Sri Lanka'])"
   ]
  },
  {
   "cell_type": "code",
   "execution_count": 111,
   "id": "rural-inspector",
   "metadata": {},
   "outputs": [
    {
     "data": {
      "text/plain": [
       "1385"
      ]
     },
     "execution_count": 111,
     "metadata": {},
     "output_type": "execute_result"
    }
   ],
   "source": [
    "cs['other_countries'].sum()"
   ]
  },
  {
   "cell_type": "code",
   "execution_count": 112,
   "id": "junior-bolivia",
   "metadata": {},
   "outputs": [],
   "source": [
    "\n",
    "cs['USA']= cs['fc_USA']"
   ]
  },
  {
   "cell_type": "code",
   "execution_count": 113,
   "id": "informal-penny",
   "metadata": {},
   "outputs": [],
   "source": [
    "#creo la columna que contenga las dummies de los paises europeos\n",
    "cs['Europe']= (cs['fc_France']+cs['fc_UK']+cs['fc_Germany']+cs['fc_Spain']+cs['fc_Finland']+cs['fc_Italy']+cs['fc_Netherlands']+cs['fc_Belgium']+cs['fc_Romania']+cs['fc_Ireland']\n",
    "               +cs['fc_Hungary']+cs['fc_Portugal']+cs['fc_Austria']+cs['fc_Denmark']+cs['fc_Sweden']+cs['fc_Poland']+cs['fc_Czech Republic']+cs['fc_Bulgaria']+cs['fc_Norway']\n",
    "              +cs['fc_Iceland']+cs['fc_Serbia']+cs['fc_Ukraine']+cs['fc_Lithuania']+cs['fc_Greece']+cs['fc_Switzerland']+cs['fc_Estonia']+cs['fc_Slovenia']+cs['fc_Lebanon']\n",
    "               +cs['fc_Luxembourg']+cs['fc_Latvia']+cs['fc_Slovakia']+cs['fc_Bosnia and Herzegovina']+cs['fc_Croatia']+cs['fc_Malta']\n",
    "              )"
   ]
  },
  {
   "cell_type": "code",
   "execution_count": 114,
   "id": "variable-tongue",
   "metadata": {},
   "outputs": [],
   "source": [
    "countries= cs[['USA', 'Europe', 'other_countries']]"
   ]
  },
  {
   "cell_type": "code",
   "execution_count": 115,
   "id": "productive-vinyl",
   "metadata": {},
   "outputs": [],
   "source": [
    "#dropeo una de las 3 columnas para no generar problemas de multicolinealidad y ahorrar costo cumputacional\n",
    "countries=countries.drop('other_countries', axis=1)"
   ]
  },
  {
   "cell_type": "code",
   "execution_count": 116,
   "id": "spare-talent",
   "metadata": {},
   "outputs": [],
   "source": [
    "#Uno a al dataframe\n",
    "data=pd.concat([data, countries], axis=1)"
   ]
  },
  {
   "cell_type": "code",
   "execution_count": 117,
   "id": "involved-season",
   "metadata": {},
   "outputs": [],
   "source": [
    "data= data.drop('first_country', axis=1)"
   ]
  },
  {
   "cell_type": "markdown",
   "id": "informational-bowling",
   "metadata": {},
   "source": [
    "<a id=\"section_date\"></a>\n",
    "\n",
    "### Date published\n",
    "\n",
    "[volver a TOC](#section_toc)"
   ]
  },
  {
   "cell_type": "code",
   "execution_count": 118,
   "id": "portuguese-sleep",
   "metadata": {},
   "outputs": [
    {
     "data": {
      "text/plain": [
       "7659"
      ]
     },
     "execution_count": 118,
     "metadata": {},
     "output_type": "execute_result"
    }
   ],
   "source": [
    "# Vamos a trabajar sobre la columna date published con el objejtivo de determinar en que mes se estrenó\n",
    "# Observaremos si influye o no en el exito de la pelicula\n",
    "date_published_list= data['date_published'].tolist()\n",
    "pattern = re.compile(r\"\\d\\d\\d\\d[-/]\\d\\d[-/]\\d\\d\")\n",
    "len(re.findall(pattern, str(date_published_list)))\n"
   ]
  },
  {
   "cell_type": "code",
   "execution_count": 119,
   "id": "thousand-dollar",
   "metadata": {},
   "outputs": [
    {
     "data": {
      "text/html": [
       "<div>\n",
       "<style scoped>\n",
       "    .dataframe tbody tr th:only-of-type {\n",
       "        vertical-align: middle;\n",
       "    }\n",
       "\n",
       "    .dataframe tbody tr th {\n",
       "        vertical-align: top;\n",
       "    }\n",
       "\n",
       "    .dataframe thead th {\n",
       "        text-align: right;\n",
       "    }\n",
       "</style>\n",
       "<table border=\"1\" class=\"dataframe\">\n",
       "  <thead>\n",
       "    <tr style=\"text-align: right;\">\n",
       "      <th></th>\n",
       "      <th>0</th>\n",
       "      <th>1</th>\n",
       "      <th>2</th>\n",
       "    </tr>\n",
       "  </thead>\n",
       "  <tbody>\n",
       "    <tr>\n",
       "      <th>4334</th>\n",
       "      <td>2002</td>\n",
       "      <td>03</td>\n",
       "      <td>01</td>\n",
       "    </tr>\n",
       "    <tr>\n",
       "      <th>30350</th>\n",
       "      <td>2001</td>\n",
       "      <td>11</td>\n",
       "      <td>30</td>\n",
       "    </tr>\n",
       "    <tr>\n",
       "      <th>31237</th>\n",
       "      <td>2005</td>\n",
       "      <td>09</td>\n",
       "      <td>16</td>\n",
       "    </tr>\n",
       "    <tr>\n",
       "      <th>31242</th>\n",
       "      <td>2003</td>\n",
       "      <td>01</td>\n",
       "      <td>17</td>\n",
       "    </tr>\n",
       "    <tr>\n",
       "      <th>31244</th>\n",
       "      <td>2001</td>\n",
       "      <td>12</td>\n",
       "      <td>21</td>\n",
       "    </tr>\n",
       "    <tr>\n",
       "      <th>...</th>\n",
       "      <td>...</td>\n",
       "      <td>...</td>\n",
       "      <td>...</td>\n",
       "    </tr>\n",
       "    <tr>\n",
       "      <th>85691</th>\n",
       "      <td>2020</td>\n",
       "      <td>07</td>\n",
       "      <td>23</td>\n",
       "    </tr>\n",
       "    <tr>\n",
       "      <th>85740</th>\n",
       "      <td>2020</td>\n",
       "      <td>03</td>\n",
       "      <td>19</td>\n",
       "    </tr>\n",
       "    <tr>\n",
       "      <th>85741</th>\n",
       "      <td>2019</td>\n",
       "      <td>09</td>\n",
       "      <td>27</td>\n",
       "    </tr>\n",
       "    <tr>\n",
       "      <th>85756</th>\n",
       "      <td>2019</td>\n",
       "      <td>03</td>\n",
       "      <td>14</td>\n",
       "    </tr>\n",
       "    <tr>\n",
       "      <th>85802</th>\n",
       "      <td>2020</td>\n",
       "      <td>02</td>\n",
       "      <td>12</td>\n",
       "    </tr>\n",
       "  </tbody>\n",
       "</table>\n",
       "<p>7704 rows × 3 columns</p>\n",
       "</div>"
      ],
      "text/plain": [
       "          0   1   2\n",
       "4334   2002  03  01\n",
       "30350  2001  11  30\n",
       "31237  2005  09  16\n",
       "31242  2003  01  17\n",
       "31244  2001  12  21\n",
       "...     ...  ..  ..\n",
       "85691  2020  07  23\n",
       "85740  2020  03  19\n",
       "85741  2019  09  27\n",
       "85756  2019  03  14\n",
       "85802  2020  02  12\n",
       "\n",
       "[7704 rows x 3 columns]"
      ]
     },
     "execution_count": 119,
     "metadata": {},
     "output_type": "execute_result"
    }
   ],
   "source": [
    "# De otra manera\n",
    "date_published_str=data.date_published.str\n",
    "date_published_separado = date_published_str.split('-', expand=True)\n",
    "date_published_separado.rename(columns={0:'año', 1:'mes', 2:'día'})\n",
    "date_published_separado"
   ]
  },
  {
   "cell_type": "code",
   "execution_count": 120,
   "id": "photographic-arena",
   "metadata": {},
   "outputs": [],
   "source": [
    "# Buscamos hacer que los registros que vayan de 1-3(winter),4-6(spring),7-9(summer),10-12(autumn) \n",
    "df = pd.Series(data['date_published'])\n",
    "df = pd.to_datetime(df)\n",
    "\n",
    "season = (df.dt.month - 1) // 3"
   ]
  },
  {
   "cell_type": "code",
   "execution_count": 121,
   "id": "increased-manhattan",
   "metadata": {},
   "outputs": [],
   "source": [
    "season += (df.dt.month == 3)&(df.dt.day>=20)\n",
    "season += (df.dt.month == 6)&(df.dt.day>=21)\n",
    "season += (df.dt.month == 9)&(df.dt.day>=23)\n",
    "season -= 3*((df.dt.month == 12)&(df.dt.day>=21)).astype(int)"
   ]
  },
  {
   "cell_type": "code",
   "execution_count": 122,
   "id": "velvet-lying",
   "metadata": {},
   "outputs": [
    {
     "data": {
      "text/plain": [
       "4334    2002-03-01\n",
       "30350   2001-11-30\n",
       "31237   2005-09-16\n",
       "31242   2003-01-17\n",
       "31244   2001-12-21\n",
       "           ...    \n",
       "85691   2020-07-23\n",
       "85740   2020-03-19\n",
       "85741   2019-09-27\n",
       "85756   2019-03-14\n",
       "85802   2020-02-12\n",
       "Name: date_published, Length: 7704, dtype: datetime64[ns]"
      ]
     },
     "execution_count": 122,
     "metadata": {},
     "output_type": "execute_result"
    }
   ],
   "source": [
    "df"
   ]
  },
  {
   "cell_type": "code",
   "execution_count": 123,
   "id": "earned-territory",
   "metadata": {},
   "outputs": [],
   "source": [
    "# Dropeamos date_published\n",
    "data=data.drop('date_published', axis=1)"
   ]
  },
  {
   "cell_type": "code",
   "execution_count": 124,
   "id": "regular-objective",
   "metadata": {},
   "outputs": [
    {
     "data": {
      "text/html": [
       "<div>\n",
       "<style scoped>\n",
       "    .dataframe tbody tr th:only-of-type {\n",
       "        vertical-align: middle;\n",
       "    }\n",
       "\n",
       "    .dataframe tbody tr th {\n",
       "        vertical-align: top;\n",
       "    }\n",
       "\n",
       "    .dataframe thead th {\n",
       "        text-align: right;\n",
       "    }\n",
       "</style>\n",
       "<table border=\"1\" class=\"dataframe\">\n",
       "  <thead>\n",
       "    <tr style=\"text-align: right;\">\n",
       "      <th></th>\n",
       "      <th>imdb_title_id</th>\n",
       "      <th>title</th>\n",
       "      <th>original_title</th>\n",
       "      <th>year</th>\n",
       "      <th>genre</th>\n",
       "      <th>duration</th>\n",
       "      <th>language</th>\n",
       "      <th>director</th>\n",
       "      <th>writer</th>\n",
       "      <th>production_company</th>\n",
       "      <th>...</th>\n",
       "      <th>budget</th>\n",
       "      <th>worlwide_gross_income</th>\n",
       "      <th>reviews_from_users</th>\n",
       "      <th>reviews_from_critics</th>\n",
       "      <th>budget_$</th>\n",
       "      <th>wwgi_$</th>\n",
       "      <th>markup</th>\n",
       "      <th>USA</th>\n",
       "      <th>Europe</th>\n",
       "      <th>date_published</th>\n",
       "    </tr>\n",
       "  </thead>\n",
       "  <tbody>\n",
       "    <tr>\n",
       "      <th>4334</th>\n",
       "      <td>tt0035423</td>\n",
       "      <td>Kate &amp; Leopold</td>\n",
       "      <td>Kate &amp; Leopold</td>\n",
       "      <td>2001</td>\n",
       "      <td>Comedy, Fantasy, Romance</td>\n",
       "      <td>118</td>\n",
       "      <td>English, French</td>\n",
       "      <td>James Mangold</td>\n",
       "      <td>Steven Rogers, James Mangold</td>\n",
       "      <td>Konrad Pictures</td>\n",
       "      <td>...</td>\n",
       "      <td>$ 48000000</td>\n",
       "      <td>$ 76019048</td>\n",
       "      <td>341.0</td>\n",
       "      <td>115.0</td>\n",
       "      <td>48000000.0</td>\n",
       "      <td>76019048.0</td>\n",
       "      <td>1.583730</td>\n",
       "      <td>1</td>\n",
       "      <td>0</td>\n",
       "      <td>0.0</td>\n",
       "    </tr>\n",
       "    <tr>\n",
       "      <th>30350</th>\n",
       "      <td>tt0118589</td>\n",
       "      <td>Glitter</td>\n",
       "      <td>Glitter</td>\n",
       "      <td>2001</td>\n",
       "      <td>Drama, Music, Romance</td>\n",
       "      <td>104</td>\n",
       "      <td>English</td>\n",
       "      <td>Vondie Curtis-Hall</td>\n",
       "      <td>Cheryl L. West, Kate Lanier</td>\n",
       "      <td>Twentieth Century Fox</td>\n",
       "      <td>...</td>\n",
       "      <td>$ 22000000</td>\n",
       "      <td>$ 5271666</td>\n",
       "      <td>319.0</td>\n",
       "      <td>75.0</td>\n",
       "      <td>22000000.0</td>\n",
       "      <td>5271666.0</td>\n",
       "      <td>0.239621</td>\n",
       "      <td>1</td>\n",
       "      <td>0</td>\n",
       "      <td>3.0</td>\n",
       "    </tr>\n",
       "    <tr>\n",
       "      <th>31237</th>\n",
       "      <td>tt0120667</td>\n",
       "      <td>I Fantastici 4</td>\n",
       "      <td>Fantastic Four</td>\n",
       "      <td>2005</td>\n",
       "      <td>Action, Adventure, Fantasy</td>\n",
       "      <td>106</td>\n",
       "      <td>English</td>\n",
       "      <td>Tim Story</td>\n",
       "      <td>Mark Frost, Michael France</td>\n",
       "      <td>Twentieth Century Fox</td>\n",
       "      <td>...</td>\n",
       "      <td>$ 100000000</td>\n",
       "      <td>$ 333535934</td>\n",
       "      <td>1029.0</td>\n",
       "      <td>112.0</td>\n",
       "      <td>100000000.0</td>\n",
       "      <td>333535934.0</td>\n",
       "      <td>3.335359</td>\n",
       "      <td>1</td>\n",
       "      <td>0</td>\n",
       "      <td>2.0</td>\n",
       "    </tr>\n",
       "    <tr>\n",
       "      <th>31242</th>\n",
       "      <td>tt0120679</td>\n",
       "      <td>Frida</td>\n",
       "      <td>Frida</td>\n",
       "      <td>2002</td>\n",
       "      <td>Biography, Drama, Romance</td>\n",
       "      <td>123</td>\n",
       "      <td>English, French, Russian</td>\n",
       "      <td>Julie Taymor</td>\n",
       "      <td>Hayden Herrera, Clancy Sigal</td>\n",
       "      <td>Handprint Entertainment</td>\n",
       "      <td>...</td>\n",
       "      <td>$ 12000000</td>\n",
       "      <td>$ 56298474</td>\n",
       "      <td>297.0</td>\n",
       "      <td>130.0</td>\n",
       "      <td>12000000.0</td>\n",
       "      <td>56298474.0</td>\n",
       "      <td>4.691540</td>\n",
       "      <td>0</td>\n",
       "      <td>0</td>\n",
       "      <td>0.0</td>\n",
       "    </tr>\n",
       "    <tr>\n",
       "      <th>31244</th>\n",
       "      <td>tt0120681</td>\n",
       "      <td>La vera storia di Jack lo Squartatore</td>\n",
       "      <td>From Hell</td>\n",
       "      <td>2001</td>\n",
       "      <td>Horror, Mystery, Thriller</td>\n",
       "      <td>122</td>\n",
       "      <td>English</td>\n",
       "      <td>Albert Hughes, Allen Hughes</td>\n",
       "      <td>Alan Moore, Eddie Campbell</td>\n",
       "      <td>Twentieth Century Fox</td>\n",
       "      <td>...</td>\n",
       "      <td>$ 35000000</td>\n",
       "      <td>$ 74558115</td>\n",
       "      <td>556.0</td>\n",
       "      <td>181.0</td>\n",
       "      <td>35000000.0</td>\n",
       "      <td>74558115.0</td>\n",
       "      <td>2.130232</td>\n",
       "      <td>1</td>\n",
       "      <td>0</td>\n",
       "      <td>0.0</td>\n",
       "    </tr>\n",
       "  </tbody>\n",
       "</table>\n",
       "<p>5 rows × 24 columns</p>\n",
       "</div>"
      ],
      "text/plain": [
       "      imdb_title_id                                  title  original_title  \\\n",
       "4334      tt0035423                         Kate & Leopold  Kate & Leopold   \n",
       "30350     tt0118589                                Glitter         Glitter   \n",
       "31237     tt0120667                         I Fantastici 4  Fantastic Four   \n",
       "31242     tt0120679                                  Frida           Frida   \n",
       "31244     tt0120681  La vera storia di Jack lo Squartatore       From Hell   \n",
       "\n",
       "       year                       genre  duration                  language  \\\n",
       "4334   2001    Comedy, Fantasy, Romance       118           English, French   \n",
       "30350  2001       Drama, Music, Romance       104                   English   \n",
       "31237  2005  Action, Adventure, Fantasy       106                   English   \n",
       "31242  2002   Biography, Drama, Romance       123  English, French, Russian   \n",
       "31244  2001   Horror, Mystery, Thriller       122                   English   \n",
       "\n",
       "                          director                        writer  \\\n",
       "4334                 James Mangold  Steven Rogers, James Mangold   \n",
       "30350           Vondie Curtis-Hall   Cheryl L. West, Kate Lanier   \n",
       "31237                    Tim Story    Mark Frost, Michael France   \n",
       "31242                 Julie Taymor  Hayden Herrera, Clancy Sigal   \n",
       "31244  Albert Hughes, Allen Hughes    Alan Moore, Eddie Campbell   \n",
       "\n",
       "            production_company  ...       budget worlwide_gross_income  \\\n",
       "4334           Konrad Pictures  ...   $ 48000000            $ 76019048   \n",
       "30350    Twentieth Century Fox  ...   $ 22000000             $ 5271666   \n",
       "31237    Twentieth Century Fox  ...  $ 100000000           $ 333535934   \n",
       "31242  Handprint Entertainment  ...   $ 12000000            $ 56298474   \n",
       "31244    Twentieth Century Fox  ...   $ 35000000            $ 74558115   \n",
       "\n",
       "       reviews_from_users  reviews_from_critics     budget_$       wwgi_$  \\\n",
       "4334                341.0                 115.0   48000000.0   76019048.0   \n",
       "30350               319.0                  75.0   22000000.0    5271666.0   \n",
       "31237              1029.0                 112.0  100000000.0  333535934.0   \n",
       "31242               297.0                 130.0   12000000.0   56298474.0   \n",
       "31244               556.0                 181.0   35000000.0   74558115.0   \n",
       "\n",
       "         markup  USA  Europe  date_published  \n",
       "4334   1.583730    1       0             0.0  \n",
       "30350  0.239621    1       0             3.0  \n",
       "31237  3.335359    1       0             2.0  \n",
       "31242  4.691540    0       0             0.0  \n",
       "31244  2.130232    1       0             0.0  \n",
       "\n",
       "[5 rows x 24 columns]"
      ]
     },
     "execution_count": 124,
     "metadata": {},
     "output_type": "execute_result"
    }
   ],
   "source": [
    "data=pd.concat([data, season], axis=1)\n",
    "data.head()"
   ]
  },
  {
   "cell_type": "code",
   "execution_count": 125,
   "id": "structural-lawyer",
   "metadata": {},
   "outputs": [],
   "source": [
    "#Generamos variables dummies a raiz de season.\n",
    "season_dummies=pd.get_dummies(data['date_published'], drop_first=True)"
   ]
  },
  {
   "cell_type": "code",
   "execution_count": 126,
   "id": "decent-ecology",
   "metadata": {},
   "outputs": [],
   "source": [
    "season_dummies=season_dummies.rename(columns={1:'spring', 2:'summer', 3:'autumn'})"
   ]
  },
  {
   "cell_type": "code",
   "execution_count": 127,
   "id": "transsexual-frost",
   "metadata": {},
   "outputs": [],
   "source": [
    "data=pd.concat([data, season_dummies], axis=1)"
   ]
  },
  {
   "cell_type": "code",
   "execution_count": 128,
   "id": "understood-killing",
   "metadata": {},
   "outputs": [],
   "source": [
    "data= data.drop('date_published', axis=1)"
   ]
  },
  {
   "cell_type": "code",
   "execution_count": 129,
   "id": "worldwide-arabic",
   "metadata": {},
   "outputs": [
    {
     "data": {
      "text/html": [
       "<div>\n",
       "<style scoped>\n",
       "    .dataframe tbody tr th:only-of-type {\n",
       "        vertical-align: middle;\n",
       "    }\n",
       "\n",
       "    .dataframe tbody tr th {\n",
       "        vertical-align: top;\n",
       "    }\n",
       "\n",
       "    .dataframe thead th {\n",
       "        text-align: right;\n",
       "    }\n",
       "</style>\n",
       "<table border=\"1\" class=\"dataframe\">\n",
       "  <thead>\n",
       "    <tr style=\"text-align: right;\">\n",
       "      <th></th>\n",
       "      <th>imdb_title_id</th>\n",
       "      <th>title</th>\n",
       "      <th>original_title</th>\n",
       "      <th>year</th>\n",
       "      <th>genre</th>\n",
       "      <th>duration</th>\n",
       "      <th>language</th>\n",
       "      <th>director</th>\n",
       "      <th>writer</th>\n",
       "      <th>production_company</th>\n",
       "      <th>...</th>\n",
       "      <th>reviews_from_users</th>\n",
       "      <th>reviews_from_critics</th>\n",
       "      <th>budget_$</th>\n",
       "      <th>wwgi_$</th>\n",
       "      <th>markup</th>\n",
       "      <th>USA</th>\n",
       "      <th>Europe</th>\n",
       "      <th>spring</th>\n",
       "      <th>summer</th>\n",
       "      <th>autumn</th>\n",
       "    </tr>\n",
       "  </thead>\n",
       "  <tbody>\n",
       "    <tr>\n",
       "      <th>4334</th>\n",
       "      <td>tt0035423</td>\n",
       "      <td>Kate &amp; Leopold</td>\n",
       "      <td>Kate &amp; Leopold</td>\n",
       "      <td>2001</td>\n",
       "      <td>Comedy, Fantasy, Romance</td>\n",
       "      <td>118</td>\n",
       "      <td>English, French</td>\n",
       "      <td>James Mangold</td>\n",
       "      <td>Steven Rogers, James Mangold</td>\n",
       "      <td>Konrad Pictures</td>\n",
       "      <td>...</td>\n",
       "      <td>341.0</td>\n",
       "      <td>115.0</td>\n",
       "      <td>48000000.0</td>\n",
       "      <td>76019048.0</td>\n",
       "      <td>1.583730</td>\n",
       "      <td>1</td>\n",
       "      <td>0</td>\n",
       "      <td>0</td>\n",
       "      <td>0</td>\n",
       "      <td>0</td>\n",
       "    </tr>\n",
       "    <tr>\n",
       "      <th>30350</th>\n",
       "      <td>tt0118589</td>\n",
       "      <td>Glitter</td>\n",
       "      <td>Glitter</td>\n",
       "      <td>2001</td>\n",
       "      <td>Drama, Music, Romance</td>\n",
       "      <td>104</td>\n",
       "      <td>English</td>\n",
       "      <td>Vondie Curtis-Hall</td>\n",
       "      <td>Cheryl L. West, Kate Lanier</td>\n",
       "      <td>Twentieth Century Fox</td>\n",
       "      <td>...</td>\n",
       "      <td>319.0</td>\n",
       "      <td>75.0</td>\n",
       "      <td>22000000.0</td>\n",
       "      <td>5271666.0</td>\n",
       "      <td>0.239621</td>\n",
       "      <td>1</td>\n",
       "      <td>0</td>\n",
       "      <td>0</td>\n",
       "      <td>0</td>\n",
       "      <td>1</td>\n",
       "    </tr>\n",
       "    <tr>\n",
       "      <th>31237</th>\n",
       "      <td>tt0120667</td>\n",
       "      <td>I Fantastici 4</td>\n",
       "      <td>Fantastic Four</td>\n",
       "      <td>2005</td>\n",
       "      <td>Action, Adventure, Fantasy</td>\n",
       "      <td>106</td>\n",
       "      <td>English</td>\n",
       "      <td>Tim Story</td>\n",
       "      <td>Mark Frost, Michael France</td>\n",
       "      <td>Twentieth Century Fox</td>\n",
       "      <td>...</td>\n",
       "      <td>1029.0</td>\n",
       "      <td>112.0</td>\n",
       "      <td>100000000.0</td>\n",
       "      <td>333535934.0</td>\n",
       "      <td>3.335359</td>\n",
       "      <td>1</td>\n",
       "      <td>0</td>\n",
       "      <td>0</td>\n",
       "      <td>1</td>\n",
       "      <td>0</td>\n",
       "    </tr>\n",
       "    <tr>\n",
       "      <th>31242</th>\n",
       "      <td>tt0120679</td>\n",
       "      <td>Frida</td>\n",
       "      <td>Frida</td>\n",
       "      <td>2002</td>\n",
       "      <td>Biography, Drama, Romance</td>\n",
       "      <td>123</td>\n",
       "      <td>English, French, Russian</td>\n",
       "      <td>Julie Taymor</td>\n",
       "      <td>Hayden Herrera, Clancy Sigal</td>\n",
       "      <td>Handprint Entertainment</td>\n",
       "      <td>...</td>\n",
       "      <td>297.0</td>\n",
       "      <td>130.0</td>\n",
       "      <td>12000000.0</td>\n",
       "      <td>56298474.0</td>\n",
       "      <td>4.691540</td>\n",
       "      <td>0</td>\n",
       "      <td>0</td>\n",
       "      <td>0</td>\n",
       "      <td>0</td>\n",
       "      <td>0</td>\n",
       "    </tr>\n",
       "    <tr>\n",
       "      <th>31244</th>\n",
       "      <td>tt0120681</td>\n",
       "      <td>La vera storia di Jack lo Squartatore</td>\n",
       "      <td>From Hell</td>\n",
       "      <td>2001</td>\n",
       "      <td>Horror, Mystery, Thriller</td>\n",
       "      <td>122</td>\n",
       "      <td>English</td>\n",
       "      <td>Albert Hughes, Allen Hughes</td>\n",
       "      <td>Alan Moore, Eddie Campbell</td>\n",
       "      <td>Twentieth Century Fox</td>\n",
       "      <td>...</td>\n",
       "      <td>556.0</td>\n",
       "      <td>181.0</td>\n",
       "      <td>35000000.0</td>\n",
       "      <td>74558115.0</td>\n",
       "      <td>2.130232</td>\n",
       "      <td>1</td>\n",
       "      <td>0</td>\n",
       "      <td>0</td>\n",
       "      <td>0</td>\n",
       "      <td>0</td>\n",
       "    </tr>\n",
       "  </tbody>\n",
       "</table>\n",
       "<p>5 rows × 26 columns</p>\n",
       "</div>"
      ],
      "text/plain": [
       "      imdb_title_id                                  title  original_title  \\\n",
       "4334      tt0035423                         Kate & Leopold  Kate & Leopold   \n",
       "30350     tt0118589                                Glitter         Glitter   \n",
       "31237     tt0120667                         I Fantastici 4  Fantastic Four   \n",
       "31242     tt0120679                                  Frida           Frida   \n",
       "31244     tt0120681  La vera storia di Jack lo Squartatore       From Hell   \n",
       "\n",
       "       year                       genre  duration                  language  \\\n",
       "4334   2001    Comedy, Fantasy, Romance       118           English, French   \n",
       "30350  2001       Drama, Music, Romance       104                   English   \n",
       "31237  2005  Action, Adventure, Fantasy       106                   English   \n",
       "31242  2002   Biography, Drama, Romance       123  English, French, Russian   \n",
       "31244  2001   Horror, Mystery, Thriller       122                   English   \n",
       "\n",
       "                          director                        writer  \\\n",
       "4334                 James Mangold  Steven Rogers, James Mangold   \n",
       "30350           Vondie Curtis-Hall   Cheryl L. West, Kate Lanier   \n",
       "31237                    Tim Story    Mark Frost, Michael France   \n",
       "31242                 Julie Taymor  Hayden Herrera, Clancy Sigal   \n",
       "31244  Albert Hughes, Allen Hughes    Alan Moore, Eddie Campbell   \n",
       "\n",
       "            production_company  ... reviews_from_users reviews_from_critics  \\\n",
       "4334           Konrad Pictures  ...              341.0                115.0   \n",
       "30350    Twentieth Century Fox  ...              319.0                 75.0   \n",
       "31237    Twentieth Century Fox  ...             1029.0                112.0   \n",
       "31242  Handprint Entertainment  ...              297.0                130.0   \n",
       "31244    Twentieth Century Fox  ...              556.0                181.0   \n",
       "\n",
       "          budget_$       wwgi_$    markup USA  Europe  spring  summer  autumn  \n",
       "4334    48000000.0   76019048.0  1.583730   1       0       0       0       0  \n",
       "30350   22000000.0    5271666.0  0.239621   1       0       0       0       1  \n",
       "31237  100000000.0  333535934.0  3.335359   1       0       0       1       0  \n",
       "31242   12000000.0   56298474.0  4.691540   0       0       0       0       0  \n",
       "31244   35000000.0   74558115.0  2.130232   1       0       0       0       0  \n",
       "\n",
       "[5 rows x 26 columns]"
      ]
     },
     "execution_count": 129,
     "metadata": {},
     "output_type": "execute_result"
    }
   ],
   "source": [
    "data.head()"
   ]
  },
  {
   "cell_type": "markdown",
   "id": "introductory-modem",
   "metadata": {},
   "source": [
    "<a id=\"section_participantes\"></a>\n",
    "\n",
    "### Participantes\n",
    "\n",
    "[volver a TOC](#section_toc)"
   ]
  },
  {
   "cell_type": "code",
   "execution_count": 130,
   "id": "formal-costume",
   "metadata": {},
   "outputs": [
    {
     "data": {
      "text/html": [
       "<div>\n",
       "<style scoped>\n",
       "    .dataframe tbody tr th:only-of-type {\n",
       "        vertical-align: middle;\n",
       "    }\n",
       "\n",
       "    .dataframe tbody tr th {\n",
       "        vertical-align: top;\n",
       "    }\n",
       "\n",
       "    .dataframe thead th {\n",
       "        text-align: right;\n",
       "    }\n",
       "</style>\n",
       "<table border=\"1\" class=\"dataframe\">\n",
       "  <thead>\n",
       "    <tr style=\"text-align: right;\">\n",
       "      <th></th>\n",
       "      <th>imdb_title_id</th>\n",
       "      <th>ordering</th>\n",
       "      <th>imdb_name_id</th>\n",
       "      <th>category</th>\n",
       "      <th>year</th>\n",
       "      <th>avg_vote</th>\n",
       "      <th>votes</th>\n",
       "    </tr>\n",
       "  </thead>\n",
       "  <tbody>\n",
       "    <tr>\n",
       "      <th>0</th>\n",
       "      <td>tt0000009</td>\n",
       "      <td>1</td>\n",
       "      <td>nm0063086</td>\n",
       "      <td>actress</td>\n",
       "      <td>1894</td>\n",
       "      <td>5.9</td>\n",
       "      <td>154.0</td>\n",
       "    </tr>\n",
       "    <tr>\n",
       "      <th>1</th>\n",
       "      <td>tt0000009</td>\n",
       "      <td>2</td>\n",
       "      <td>nm0183823</td>\n",
       "      <td>actor</td>\n",
       "      <td>1894</td>\n",
       "      <td>5.9</td>\n",
       "      <td>154.0</td>\n",
       "    </tr>\n",
       "    <tr>\n",
       "      <th>2</th>\n",
       "      <td>tt0000009</td>\n",
       "      <td>3</td>\n",
       "      <td>nm1309758</td>\n",
       "      <td>actor</td>\n",
       "      <td>1894</td>\n",
       "      <td>5.9</td>\n",
       "      <td>154.0</td>\n",
       "    </tr>\n",
       "    <tr>\n",
       "      <th>3</th>\n",
       "      <td>tt0000009</td>\n",
       "      <td>4</td>\n",
       "      <td>nm0085156</td>\n",
       "      <td>director</td>\n",
       "      <td>1894</td>\n",
       "      <td>5.9</td>\n",
       "      <td>154.0</td>\n",
       "    </tr>\n",
       "    <tr>\n",
       "      <th>4</th>\n",
       "      <td>tt0000574</td>\n",
       "      <td>1</td>\n",
       "      <td>nm0846887</td>\n",
       "      <td>actress</td>\n",
       "      <td>1906</td>\n",
       "      <td>6.1</td>\n",
       "      <td>589.0</td>\n",
       "    </tr>\n",
       "  </tbody>\n",
       "</table>\n",
       "</div>"
      ],
      "text/plain": [
       "  imdb_title_id  ordering imdb_name_id  category  year  avg_vote  votes\n",
       "0     tt0000009         1    nm0063086   actress  1894       5.9  154.0\n",
       "1     tt0000009         2    nm0183823     actor  1894       5.9  154.0\n",
       "2     tt0000009         3    nm1309758     actor  1894       5.9  154.0\n",
       "3     tt0000009         4    nm0085156  director  1894       5.9  154.0\n",
       "4     tt0000574         1    nm0846887   actress  1906       6.1  589.0"
      ]
     },
     "execution_count": 130,
     "metadata": {},
     "output_type": "execute_result"
    }
   ],
   "source": [
    "# Generamos dataframe enlace entre pelicula y sus participantes\n",
    "data_join = pd.merge(data_title_principals, data_movies, on=\"imdb_title_id\",how='left')\n",
    "data_join = data_join.drop(['job','characters','title','original_title','date_published','genre','duration','country','language','director','writer','production_company','actors',\n",
    "                             'description','budget','usa_gross_income','worlwide_gross_income','metascore','reviews_from_users','reviews_from_critics'], axis=1)\n",
    "data_join.head(5)"
   ]
  },
  {
   "cell_type": "code",
   "execution_count": 131,
   "id": "explicit-tuning",
   "metadata": {},
   "outputs": [
    {
     "name": "stdout",
     "output_type": "stream",
     "text": [
      "<class 'pandas.core.frame.DataFrame'>\n",
      "Int64Index: 835513 entries, 0 to 835512\n",
      "Data columns (total 7 columns):\n",
      " #   Column         Non-Null Count   Dtype  \n",
      "---  ------         --------------   -----  \n",
      " 0   imdb_title_id  835513 non-null  object \n",
      " 1   ordering       835513 non-null  int64  \n",
      " 2   imdb_name_id   835513 non-null  object \n",
      " 3   category       835513 non-null  object \n",
      " 4   year           835494 non-null  object \n",
      " 5   avg_vote       835494 non-null  float64\n",
      " 6   votes          835494 non-null  float64\n",
      "dtypes: float64(2), int64(1), object(4)\n",
      "memory usage: 51.0+ MB\n"
     ]
    }
   ],
   "source": [
    "data_join.info(10)"
   ]
  },
  {
   "cell_type": "code",
   "execution_count": 132,
   "id": "innovative-bridges",
   "metadata": {},
   "outputs": [],
   "source": [
    "# Dropeamos las filas con registros vacios\n",
    "data_join = data_join.dropna(axis = 0)"
   ]
  },
  {
   "cell_type": "code",
   "execution_count": 133,
   "id": "champion-radical",
   "metadata": {},
   "outputs": [
    {
     "data": {
      "text/html": [
       "<div>\n",
       "<style scoped>\n",
       "    .dataframe tbody tr th:only-of-type {\n",
       "        vertical-align: middle;\n",
       "    }\n",
       "\n",
       "    .dataframe tbody tr th {\n",
       "        vertical-align: top;\n",
       "    }\n",
       "\n",
       "    .dataframe thead th {\n",
       "        text-align: right;\n",
       "    }\n",
       "</style>\n",
       "<table border=\"1\" class=\"dataframe\">\n",
       "  <thead>\n",
       "    <tr style=\"text-align: right;\">\n",
       "      <th></th>\n",
       "      <th>imdb_title_id</th>\n",
       "      <th>ordering</th>\n",
       "      <th>imdb_name_id</th>\n",
       "      <th>category</th>\n",
       "      <th>year</th>\n",
       "      <th>avg_vote</th>\n",
       "      <th>votes</th>\n",
       "      <th>sum_votes</th>\n",
       "    </tr>\n",
       "  </thead>\n",
       "  <tbody>\n",
       "    <tr>\n",
       "      <th>0</th>\n",
       "      <td>tt0000009</td>\n",
       "      <td>1</td>\n",
       "      <td>nm0063086</td>\n",
       "      <td>actress</td>\n",
       "      <td>1894</td>\n",
       "      <td>5.9</td>\n",
       "      <td>154.0</td>\n",
       "      <td>908.6</td>\n",
       "    </tr>\n",
       "    <tr>\n",
       "      <th>1</th>\n",
       "      <td>tt0000009</td>\n",
       "      <td>2</td>\n",
       "      <td>nm0183823</td>\n",
       "      <td>actor</td>\n",
       "      <td>1894</td>\n",
       "      <td>5.9</td>\n",
       "      <td>154.0</td>\n",
       "      <td>908.6</td>\n",
       "    </tr>\n",
       "    <tr>\n",
       "      <th>2</th>\n",
       "      <td>tt0000009</td>\n",
       "      <td>3</td>\n",
       "      <td>nm1309758</td>\n",
       "      <td>actor</td>\n",
       "      <td>1894</td>\n",
       "      <td>5.9</td>\n",
       "      <td>154.0</td>\n",
       "      <td>908.6</td>\n",
       "    </tr>\n",
       "    <tr>\n",
       "      <th>3</th>\n",
       "      <td>tt0000009</td>\n",
       "      <td>4</td>\n",
       "      <td>nm0085156</td>\n",
       "      <td>director</td>\n",
       "      <td>1894</td>\n",
       "      <td>5.9</td>\n",
       "      <td>154.0</td>\n",
       "      <td>908.6</td>\n",
       "    </tr>\n",
       "    <tr>\n",
       "      <th>4</th>\n",
       "      <td>tt0000574</td>\n",
       "      <td>1</td>\n",
       "      <td>nm0846887</td>\n",
       "      <td>actress</td>\n",
       "      <td>1906</td>\n",
       "      <td>6.1</td>\n",
       "      <td>589.0</td>\n",
       "      <td>3592.9</td>\n",
       "    </tr>\n",
       "  </tbody>\n",
       "</table>\n",
       "</div>"
      ],
      "text/plain": [
       "  imdb_title_id  ordering imdb_name_id  category  year  avg_vote  votes  \\\n",
       "0     tt0000009         1    nm0063086   actress  1894       5.9  154.0   \n",
       "1     tt0000009         2    nm0183823     actor  1894       5.9  154.0   \n",
       "2     tt0000009         3    nm1309758     actor  1894       5.9  154.0   \n",
       "3     tt0000009         4    nm0085156  director  1894       5.9  154.0   \n",
       "4     tt0000574         1    nm0846887   actress  1906       6.1  589.0   \n",
       "\n",
       "   sum_votes  \n",
       "0      908.6  \n",
       "1      908.6  \n",
       "2      908.6  \n",
       "3      908.6  \n",
       "4     3592.9  "
      ]
     },
     "execution_count": 133,
     "metadata": {},
     "output_type": "execute_result"
    }
   ],
   "source": [
    "# Generamos columna con la sumaroria de votos\n",
    "data_join[\"sum_votes\"] = data_join[\"avg_vote\"]*data_join[\"votes\"]\n",
    "data_join.head(5)"
   ]
  },
  {
   "cell_type": "code",
   "execution_count": 134,
   "id": "involved-soldier",
   "metadata": {},
   "outputs": [
    {
     "data": {
      "text/html": [
       "<div>\n",
       "<style scoped>\n",
       "    .dataframe tbody tr th:only-of-type {\n",
       "        vertical-align: middle;\n",
       "    }\n",
       "\n",
       "    .dataframe tbody tr th {\n",
       "        vertical-align: top;\n",
       "    }\n",
       "\n",
       "    .dataframe thead th {\n",
       "        text-align: right;\n",
       "    }\n",
       "</style>\n",
       "<table border=\"1\" class=\"dataframe\">\n",
       "  <thead>\n",
       "    <tr style=\"text-align: right;\">\n",
       "      <th></th>\n",
       "      <th>imdb_title_id</th>\n",
       "      <th>ordering</th>\n",
       "      <th>imdb_name_id</th>\n",
       "      <th>category</th>\n",
       "      <th>year</th>\n",
       "      <th>avg_vote</th>\n",
       "      <th>votes</th>\n",
       "      <th>sum_votes</th>\n",
       "    </tr>\n",
       "  </thead>\n",
       "  <tbody>\n",
       "    <tr>\n",
       "      <th>0</th>\n",
       "      <td>tt0035423</td>\n",
       "      <td>1</td>\n",
       "      <td>nm0000212</td>\n",
       "      <td>actress</td>\n",
       "      <td>2001</td>\n",
       "      <td>6.4</td>\n",
       "      <td>77852.0</td>\n",
       "      <td>498252.8</td>\n",
       "    </tr>\n",
       "    <tr>\n",
       "      <th>1</th>\n",
       "      <td>tt0035423</td>\n",
       "      <td>2</td>\n",
       "      <td>nm0413168</td>\n",
       "      <td>actor</td>\n",
       "      <td>2001</td>\n",
       "      <td>6.4</td>\n",
       "      <td>77852.0</td>\n",
       "      <td>498252.8</td>\n",
       "    </tr>\n",
       "    <tr>\n",
       "      <th>2</th>\n",
       "      <td>tt0035423</td>\n",
       "      <td>3</td>\n",
       "      <td>nm0000630</td>\n",
       "      <td>actor</td>\n",
       "      <td>2001</td>\n",
       "      <td>6.4</td>\n",
       "      <td>77852.0</td>\n",
       "      <td>498252.8</td>\n",
       "    </tr>\n",
       "    <tr>\n",
       "      <th>3</th>\n",
       "      <td>tt0035423</td>\n",
       "      <td>4</td>\n",
       "      <td>nm0005227</td>\n",
       "      <td>actor</td>\n",
       "      <td>2001</td>\n",
       "      <td>6.4</td>\n",
       "      <td>77852.0</td>\n",
       "      <td>498252.8</td>\n",
       "    </tr>\n",
       "    <tr>\n",
       "      <th>4</th>\n",
       "      <td>tt0035423</td>\n",
       "      <td>5</td>\n",
       "      <td>nm0003506</td>\n",
       "      <td>director</td>\n",
       "      <td>2001</td>\n",
       "      <td>6.4</td>\n",
       "      <td>77852.0</td>\n",
       "      <td>498252.8</td>\n",
       "    </tr>\n",
       "  </tbody>\n",
       "</table>\n",
       "</div>"
      ],
      "text/plain": [
       "  imdb_title_id  ordering imdb_name_id  category  year  avg_vote    votes  \\\n",
       "0     tt0035423         1    nm0000212   actress  2001       6.4  77852.0   \n",
       "1     tt0035423         2    nm0413168     actor  2001       6.4  77852.0   \n",
       "2     tt0035423         3    nm0000630     actor  2001       6.4  77852.0   \n",
       "3     tt0035423         4    nm0005227     actor  2001       6.4  77852.0   \n",
       "4     tt0035423         5    nm0003506  director  2001       6.4  77852.0   \n",
       "\n",
       "   sum_votes  \n",
       "0   498252.8  \n",
       "1   498252.8  \n",
       "2   498252.8  \n",
       "3   498252.8  \n",
       "4   498252.8  "
      ]
     },
     "execution_count": 134,
     "metadata": {},
     "output_type": "execute_result"
    }
   ],
   "source": [
    "# Generamos dataframe enlace entre pelicula de data y sus participantes\n",
    "data_join_peliculas = pd.merge(data_join, data['imdb_title_id'], on=\"imdb_title_id\",how='right')\n",
    "data_join_peliculas.head(5)"
   ]
  },
  {
   "cell_type": "code",
   "execution_count": 135,
   "id": "detected-compatibility",
   "metadata": {},
   "outputs": [
    {
     "name": "stdout",
     "output_type": "stream",
     "text": [
      "<class 'pandas.core.frame.DataFrame'>\n",
      "Int64Index: 76311 entries, 0 to 76310\n",
      "Data columns (total 8 columns):\n",
      " #   Column         Non-Null Count  Dtype  \n",
      "---  ------         --------------  -----  \n",
      " 0   imdb_title_id  76311 non-null  object \n",
      " 1   ordering       76311 non-null  int64  \n",
      " 2   imdb_name_id   76311 non-null  object \n",
      " 3   category       76311 non-null  object \n",
      " 4   year           76311 non-null  object \n",
      " 5   avg_vote       76311 non-null  float64\n",
      " 6   votes          76311 non-null  float64\n",
      " 7   sum_votes      76311 non-null  float64\n",
      "dtypes: float64(3), int64(1), object(4)\n",
      "memory usage: 5.2+ MB\n"
     ]
    }
   ],
   "source": [
    "data_join_peliculas.info()"
   ]
  },
  {
   "cell_type": "code",
   "execution_count": 136,
   "id": "british-portsmouth",
   "metadata": {},
   "outputs": [
    {
     "name": "stdout",
     "output_type": "stream",
     "text": [
      "<class 'pandas.core.frame.DataFrame'>\n",
      "Int64Index: 40052 entries, 0 to 76310\n",
      "Data columns (total 8 columns):\n",
      " #   Column         Non-Null Count  Dtype  \n",
      "---  ------         --------------  -----  \n",
      " 0   imdb_title_id  40052 non-null  object \n",
      " 1   ordering       40052 non-null  int64  \n",
      " 2   imdb_name_id   40052 non-null  object \n",
      " 3   category       40052 non-null  object \n",
      " 4   year           40052 non-null  object \n",
      " 5   avg_vote       40052 non-null  float64\n",
      " 6   votes          40052 non-null  float64\n",
      " 7   sum_votes      40052 non-null  float64\n",
      "dtypes: float64(3), int64(1), object(4)\n",
      "memory usage: 2.8+ MB\n"
     ]
    }
   ],
   "source": [
    "# Obtenemos los participantes sin repeticiones\n",
    "data_participantes = data_join_peliculas\n",
    "data_participantes = data_participantes.drop_duplicates(subset=[\"imdb_name_id\"], keep=\"first\")\n",
    "data_participantes.info()"
   ]
  },
  {
   "cell_type": "code",
   "execution_count": 137,
   "id": "accomplished-packing",
   "metadata": {},
   "outputs": [
    {
     "name": "stdout",
     "output_type": "stream",
     "text": [
      "<class 'pandas.core.frame.DataFrame'>\n",
      "Int64Index: 239008 entries, 0 to 239007\n",
      "Data columns (total 8 columns):\n",
      " #   Column         Non-Null Count   Dtype  \n",
      "---  ------         --------------   -----  \n",
      " 0   imdb_title_id  239008 non-null  object \n",
      " 1   ordering       239008 non-null  int64  \n",
      " 2   imdb_name_id   239008 non-null  object \n",
      " 3   category       239008 non-null  object \n",
      " 4   year           239008 non-null  object \n",
      " 5   avg_vote       239008 non-null  float64\n",
      " 6   votes          239008 non-null  float64\n",
      " 7   sum_votes      239008 non-null  float64\n",
      "dtypes: float64(3), int64(1), object(4)\n",
      "memory usage: 16.4+ MB\n"
     ]
    }
   ],
   "source": [
    "# Generamos dataframe enlace con las participaciones de los participantes de las peliculas que selccionamos\n",
    "data_join_participantes = pd.merge(data_join, data_participantes['imdb_name_id'], on=\"imdb_name_id\",how='right')\n",
    "data_join_participantes.info()"
   ]
  },
  {
   "cell_type": "code",
   "execution_count": 138,
   "id": "defensive-austria",
   "metadata": {},
   "outputs": [
    {
     "data": {
      "text/html": [
       "<div>\n",
       "<style scoped>\n",
       "    .dataframe tbody tr th:only-of-type {\n",
       "        vertical-align: middle;\n",
       "    }\n",
       "\n",
       "    .dataframe tbody tr th {\n",
       "        vertical-align: top;\n",
       "    }\n",
       "\n",
       "    .dataframe thead th {\n",
       "        text-align: right;\n",
       "    }\n",
       "</style>\n",
       "<table border=\"1\" class=\"dataframe\">\n",
       "  <thead>\n",
       "    <tr style=\"text-align: right;\">\n",
       "      <th>year</th>\n",
       "      <th>2000</th>\n",
       "      <th>2001</th>\n",
       "      <th>2002</th>\n",
       "      <th>2003</th>\n",
       "      <th>2004</th>\n",
       "      <th>2005</th>\n",
       "      <th>2006</th>\n",
       "      <th>2007</th>\n",
       "      <th>2008</th>\n",
       "      <th>2009</th>\n",
       "      <th>...</th>\n",
       "      <th>2011</th>\n",
       "      <th>2012</th>\n",
       "      <th>2013</th>\n",
       "      <th>2014</th>\n",
       "      <th>2015</th>\n",
       "      <th>2016</th>\n",
       "      <th>2017</th>\n",
       "      <th>2018</th>\n",
       "      <th>2019</th>\n",
       "      <th>2020</th>\n",
       "    </tr>\n",
       "    <tr>\n",
       "      <th>imdb_name_id</th>\n",
       "      <th></th>\n",
       "      <th></th>\n",
       "      <th></th>\n",
       "      <th></th>\n",
       "      <th></th>\n",
       "      <th></th>\n",
       "      <th></th>\n",
       "      <th></th>\n",
       "      <th></th>\n",
       "      <th></th>\n",
       "      <th></th>\n",
       "      <th></th>\n",
       "      <th></th>\n",
       "      <th></th>\n",
       "      <th></th>\n",
       "      <th></th>\n",
       "      <th></th>\n",
       "      <th></th>\n",
       "      <th></th>\n",
       "      <th></th>\n",
       "      <th></th>\n",
       "    </tr>\n",
       "  </thead>\n",
       "  <tbody>\n",
       "    <tr>\n",
       "      <th>nm0000002</th>\n",
       "      <td>0.0</td>\n",
       "      <td>0.0</td>\n",
       "      <td>0.0</td>\n",
       "      <td>134971.0</td>\n",
       "      <td>34274.0</td>\n",
       "      <td>0.0</td>\n",
       "      <td>0.0</td>\n",
       "      <td>5171.0</td>\n",
       "      <td>0.0</td>\n",
       "      <td>0.0</td>\n",
       "      <td>...</td>\n",
       "      <td>0.0</td>\n",
       "      <td>4411.0</td>\n",
       "      <td>0.0</td>\n",
       "      <td>0.0</td>\n",
       "      <td>0.0</td>\n",
       "      <td>0.0</td>\n",
       "      <td>0.0</td>\n",
       "      <td>0.0</td>\n",
       "      <td>0.0</td>\n",
       "      <td>0.0</td>\n",
       "    </tr>\n",
       "    <tr>\n",
       "      <th>nm0000008</th>\n",
       "      <td>0.0</td>\n",
       "      <td>119173.0</td>\n",
       "      <td>0.0</td>\n",
       "      <td>0.0</td>\n",
       "      <td>0.0</td>\n",
       "      <td>0.0</td>\n",
       "      <td>0.0</td>\n",
       "      <td>0.0</td>\n",
       "      <td>0.0</td>\n",
       "      <td>0.0</td>\n",
       "      <td>...</td>\n",
       "      <td>0.0</td>\n",
       "      <td>0.0</td>\n",
       "      <td>0.0</td>\n",
       "      <td>0.0</td>\n",
       "      <td>0.0</td>\n",
       "      <td>0.0</td>\n",
       "      <td>0.0</td>\n",
       "      <td>0.0</td>\n",
       "      <td>0.0</td>\n",
       "      <td>0.0</td>\n",
       "    </tr>\n",
       "    <tr>\n",
       "      <th>nm0000025</th>\n",
       "      <td>121916.0</td>\n",
       "      <td>144777.0</td>\n",
       "      <td>174104.0</td>\n",
       "      <td>0.0</td>\n",
       "      <td>0.0</td>\n",
       "      <td>0.0</td>\n",
       "      <td>0.0</td>\n",
       "      <td>0.0</td>\n",
       "      <td>0.0</td>\n",
       "      <td>0.0</td>\n",
       "      <td>...</td>\n",
       "      <td>0.0</td>\n",
       "      <td>0.0</td>\n",
       "      <td>0.0</td>\n",
       "      <td>0.0</td>\n",
       "      <td>0.0</td>\n",
       "      <td>0.0</td>\n",
       "      <td>0.0</td>\n",
       "      <td>0.0</td>\n",
       "      <td>0.0</td>\n",
       "      <td>0.0</td>\n",
       "    </tr>\n",
       "    <tr>\n",
       "      <th>nm0000032</th>\n",
       "      <td>0.0</td>\n",
       "      <td>7731.0</td>\n",
       "      <td>0.0</td>\n",
       "      <td>200.0</td>\n",
       "      <td>0.0</td>\n",
       "      <td>0.0</td>\n",
       "      <td>0.0</td>\n",
       "      <td>0.0</td>\n",
       "      <td>0.0</td>\n",
       "      <td>0.0</td>\n",
       "      <td>...</td>\n",
       "      <td>0.0</td>\n",
       "      <td>0.0</td>\n",
       "      <td>0.0</td>\n",
       "      <td>0.0</td>\n",
       "      <td>0.0</td>\n",
       "      <td>0.0</td>\n",
       "      <td>0.0</td>\n",
       "      <td>0.0</td>\n",
       "      <td>0.0</td>\n",
       "      <td>0.0</td>\n",
       "    </tr>\n",
       "    <tr>\n",
       "      <th>nm0000035</th>\n",
       "      <td>352439.0</td>\n",
       "      <td>1082839.0</td>\n",
       "      <td>0.0</td>\n",
       "      <td>134678.0</td>\n",
       "      <td>543020.0</td>\n",
       "      <td>249822.0</td>\n",
       "      <td>309629.0</td>\n",
       "      <td>13505.0</td>\n",
       "      <td>185838.0</td>\n",
       "      <td>1101160.0</td>\n",
       "      <td>...</td>\n",
       "      <td>11078.0</td>\n",
       "      <td>4488.0</td>\n",
       "      <td>0.0</td>\n",
       "      <td>0.0</td>\n",
       "      <td>0.0</td>\n",
       "      <td>0.0</td>\n",
       "      <td>0.0</td>\n",
       "      <td>0.0</td>\n",
       "      <td>0.0</td>\n",
       "      <td>0.0</td>\n",
       "    </tr>\n",
       "  </tbody>\n",
       "</table>\n",
       "<p>5 rows × 21 columns</p>\n",
       "</div>"
      ],
      "text/plain": [
       "year              2000       2001      2002      2003      2004      2005  \\\n",
       "imdb_name_id                                                                \n",
       "nm0000002          0.0        0.0       0.0  134971.0   34274.0       0.0   \n",
       "nm0000008          0.0   119173.0       0.0       0.0       0.0       0.0   \n",
       "nm0000025     121916.0   144777.0  174104.0       0.0       0.0       0.0   \n",
       "nm0000032          0.0     7731.0       0.0     200.0       0.0       0.0   \n",
       "nm0000035     352439.0  1082839.0       0.0  134678.0  543020.0  249822.0   \n",
       "\n",
       "year              2006     2007      2008       2009  ...     2011    2012  \\\n",
       "imdb_name_id                                          ...                    \n",
       "nm0000002          0.0   5171.0       0.0        0.0  ...      0.0  4411.0   \n",
       "nm0000008          0.0      0.0       0.0        0.0  ...      0.0     0.0   \n",
       "nm0000025          0.0      0.0       0.0        0.0  ...      0.0     0.0   \n",
       "nm0000032          0.0      0.0       0.0        0.0  ...      0.0     0.0   \n",
       "nm0000035     309629.0  13505.0  185838.0  1101160.0  ...  11078.0  4488.0   \n",
       "\n",
       "year          2013  2014  2015  2016  2017  2018  2019  2020  \n",
       "imdb_name_id                                                  \n",
       "nm0000002      0.0   0.0   0.0   0.0   0.0   0.0   0.0   0.0  \n",
       "nm0000008      0.0   0.0   0.0   0.0   0.0   0.0   0.0   0.0  \n",
       "nm0000025      0.0   0.0   0.0   0.0   0.0   0.0   0.0   0.0  \n",
       "nm0000032      0.0   0.0   0.0   0.0   0.0   0.0   0.0   0.0  \n",
       "nm0000035      0.0   0.0   0.0   0.0   0.0   0.0   0.0   0.0  \n",
       "\n",
       "[5 rows x 21 columns]"
      ]
     },
     "execution_count": 138,
     "metadata": {},
     "output_type": "execute_result"
    }
   ],
   "source": [
    "# Reemplazamos \"TV Movie 2019\" por 2019 para que no quede ningun año con letras\n",
    "data_join_participantes = data_join_participantes.replace(\"TV Movie 2019\", 2019)\n",
    "# Ponemos int como formato en la coumna \"year\"\n",
    "data_join_participantes = data_join_participantes.astype({\"year\": int})\n",
    "# Creamos Pivot Table con la cantidad de votos recibido por participante en distintos años, por la cantidad de votos de las peliculas en las que participo\n",
    "pivot_table_votes = data_join_participantes.pivot_table('votes', index='imdb_name_id', columns='year',aggfunc=np.sum)\n",
    "# Creamos Pivot Table que remplaza los nan por ceros\n",
    "votes_sin_nan = pivot_table_votes.fillna(0)\n",
    "# Creamos Pivot Table que luego va a contener en cada año el acumulado de votos para cada participante de años anteriores\n",
    "acumulates_votes = votes_sin_nan\n",
    "# Desechamos los años que no nos interesa tener informacion de acumulacion de votos a años anteriores\n",
    "acumulates_votes = acumulates_votes.drop([1911,1912,1913,1914,1915,1916,1917,1918,1919,1920,1921,1922,1923,1924,1925,1926,1927,1928,1929,1930,1931,1932,1933,1934,\n",
    "                                          1935,1936,1937,1938,1939,1940,1941,1942,1943,1944,1945,1946,1947,1948,1949,1950,1951,1952,1953,1954,1955,1956,1957,1958,\n",
    "                                          1959,1960,1961,1962,1963,1964,1965,1966,1967,1968,1969,1970,1971,1972,1973,1974,1975,1976,1977,1978,1979,1980,1981,1982,\n",
    "                                          1983,1984,1985,1986,1987,1988,1989,1990,1991,1992,1993,1994,1995,1996,1997,1998,1999], axis=1)\n",
    "acumulates_votes.head(5)"
   ]
  },
  {
   "cell_type": "code",
   "execution_count": 139,
   "id": "confirmed-backup",
   "metadata": {},
   "outputs": [
    {
     "data": {
      "text/html": [
       "<div>\n",
       "<style scoped>\n",
       "    .dataframe tbody tr th:only-of-type {\n",
       "        vertical-align: middle;\n",
       "    }\n",
       "\n",
       "    .dataframe tbody tr th {\n",
       "        vertical-align: top;\n",
       "    }\n",
       "\n",
       "    .dataframe thead th {\n",
       "        text-align: right;\n",
       "    }\n",
       "</style>\n",
       "<table border=\"1\" class=\"dataframe\">\n",
       "  <thead>\n",
       "    <tr style=\"text-align: right;\">\n",
       "      <th>year</th>\n",
       "      <th>2000</th>\n",
       "      <th>2001</th>\n",
       "      <th>2002</th>\n",
       "      <th>2003</th>\n",
       "      <th>2004</th>\n",
       "      <th>2005</th>\n",
       "      <th>2006</th>\n",
       "      <th>2007</th>\n",
       "      <th>2008</th>\n",
       "      <th>2009</th>\n",
       "      <th>...</th>\n",
       "      <th>2011</th>\n",
       "      <th>2012</th>\n",
       "      <th>2013</th>\n",
       "      <th>2014</th>\n",
       "      <th>2015</th>\n",
       "      <th>2016</th>\n",
       "      <th>2017</th>\n",
       "      <th>2018</th>\n",
       "      <th>2019</th>\n",
       "      <th>2020</th>\n",
       "    </tr>\n",
       "    <tr>\n",
       "      <th>imdb_name_id</th>\n",
       "      <th></th>\n",
       "      <th></th>\n",
       "      <th></th>\n",
       "      <th></th>\n",
       "      <th></th>\n",
       "      <th></th>\n",
       "      <th></th>\n",
       "      <th></th>\n",
       "      <th></th>\n",
       "      <th></th>\n",
       "      <th></th>\n",
       "      <th></th>\n",
       "      <th></th>\n",
       "      <th></th>\n",
       "      <th></th>\n",
       "      <th></th>\n",
       "      <th></th>\n",
       "      <th></th>\n",
       "      <th></th>\n",
       "      <th></th>\n",
       "      <th></th>\n",
       "    </tr>\n",
       "  </thead>\n",
       "  <tbody>\n",
       "    <tr>\n",
       "      <th>nm0000002</th>\n",
       "      <td>321854.0</td>\n",
       "      <td>321854.0</td>\n",
       "      <td>321854.0</td>\n",
       "      <td>456825.0</td>\n",
       "      <td>491099.0</td>\n",
       "      <td>491099.0</td>\n",
       "      <td>491099.0</td>\n",
       "      <td>496270.0</td>\n",
       "      <td>496270.0</td>\n",
       "      <td>496270.0</td>\n",
       "      <td>...</td>\n",
       "      <td>496270.0</td>\n",
       "      <td>500681.0</td>\n",
       "      <td>500681.0</td>\n",
       "      <td>500681.0</td>\n",
       "      <td>500681.0</td>\n",
       "      <td>500681.0</td>\n",
       "      <td>500681.0</td>\n",
       "      <td>500681.0</td>\n",
       "      <td>500681.0</td>\n",
       "      <td>500681.0</td>\n",
       "    </tr>\n",
       "    <tr>\n",
       "      <th>nm0000008</th>\n",
       "      <td>2863555.0</td>\n",
       "      <td>2982728.0</td>\n",
       "      <td>2982728.0</td>\n",
       "      <td>2982728.0</td>\n",
       "      <td>2982728.0</td>\n",
       "      <td>2982728.0</td>\n",
       "      <td>2982728.0</td>\n",
       "      <td>2982728.0</td>\n",
       "      <td>2982728.0</td>\n",
       "      <td>2982728.0</td>\n",
       "      <td>...</td>\n",
       "      <td>2982728.0</td>\n",
       "      <td>2982728.0</td>\n",
       "      <td>2982728.0</td>\n",
       "      <td>2982728.0</td>\n",
       "      <td>2982728.0</td>\n",
       "      <td>2982728.0</td>\n",
       "      <td>2982728.0</td>\n",
       "      <td>2982728.0</td>\n",
       "      <td>2982728.0</td>\n",
       "      <td>2982728.0</td>\n",
       "    </tr>\n",
       "    <tr>\n",
       "      <th>nm0000025</th>\n",
       "      <td>4241057.0</td>\n",
       "      <td>4385834.0</td>\n",
       "      <td>4559938.0</td>\n",
       "      <td>4559938.0</td>\n",
       "      <td>4559938.0</td>\n",
       "      <td>4559938.0</td>\n",
       "      <td>4559938.0</td>\n",
       "      <td>4559938.0</td>\n",
       "      <td>4559938.0</td>\n",
       "      <td>4559938.0</td>\n",
       "      <td>...</td>\n",
       "      <td>4559938.0</td>\n",
       "      <td>4559938.0</td>\n",
       "      <td>4559938.0</td>\n",
       "      <td>4559938.0</td>\n",
       "      <td>4559938.0</td>\n",
       "      <td>4559938.0</td>\n",
       "      <td>4559938.0</td>\n",
       "      <td>4559938.0</td>\n",
       "      <td>4559938.0</td>\n",
       "      <td>4559938.0</td>\n",
       "    </tr>\n",
       "    <tr>\n",
       "      <th>nm0000032</th>\n",
       "      <td>791171.0</td>\n",
       "      <td>798902.0</td>\n",
       "      <td>798902.0</td>\n",
       "      <td>799102.0</td>\n",
       "      <td>799102.0</td>\n",
       "      <td>799102.0</td>\n",
       "      <td>799102.0</td>\n",
       "      <td>799102.0</td>\n",
       "      <td>799102.0</td>\n",
       "      <td>799102.0</td>\n",
       "      <td>...</td>\n",
       "      <td>799102.0</td>\n",
       "      <td>799102.0</td>\n",
       "      <td>799102.0</td>\n",
       "      <td>799102.0</td>\n",
       "      <td>799102.0</td>\n",
       "      <td>799102.0</td>\n",
       "      <td>799102.0</td>\n",
       "      <td>799102.0</td>\n",
       "      <td>799102.0</td>\n",
       "      <td>799102.0</td>\n",
       "    </tr>\n",
       "    <tr>\n",
       "      <th>nm0000035</th>\n",
       "      <td>3314844.0</td>\n",
       "      <td>4397683.0</td>\n",
       "      <td>4397683.0</td>\n",
       "      <td>4532361.0</td>\n",
       "      <td>5075381.0</td>\n",
       "      <td>5325203.0</td>\n",
       "      <td>5634832.0</td>\n",
       "      <td>5648337.0</td>\n",
       "      <td>5834175.0</td>\n",
       "      <td>6935335.0</td>\n",
       "      <td>...</td>\n",
       "      <td>6946413.0</td>\n",
       "      <td>6950901.0</td>\n",
       "      <td>6950901.0</td>\n",
       "      <td>6950901.0</td>\n",
       "      <td>6950901.0</td>\n",
       "      <td>6950901.0</td>\n",
       "      <td>6950901.0</td>\n",
       "      <td>6950901.0</td>\n",
       "      <td>6950901.0</td>\n",
       "      <td>6950901.0</td>\n",
       "    </tr>\n",
       "  </tbody>\n",
       "</table>\n",
       "<p>5 rows × 21 columns</p>\n",
       "</div>"
      ],
      "text/plain": [
       "year               2000       2001       2002       2003       2004  \\\n",
       "imdb_name_id                                                          \n",
       "nm0000002      321854.0   321854.0   321854.0   456825.0   491099.0   \n",
       "nm0000008     2863555.0  2982728.0  2982728.0  2982728.0  2982728.0   \n",
       "nm0000025     4241057.0  4385834.0  4559938.0  4559938.0  4559938.0   \n",
       "nm0000032      791171.0   798902.0   798902.0   799102.0   799102.0   \n",
       "nm0000035     3314844.0  4397683.0  4397683.0  4532361.0  5075381.0   \n",
       "\n",
       "year               2005       2006       2007       2008       2009  ...  \\\n",
       "imdb_name_id                                                         ...   \n",
       "nm0000002      491099.0   491099.0   496270.0   496270.0   496270.0  ...   \n",
       "nm0000008     2982728.0  2982728.0  2982728.0  2982728.0  2982728.0  ...   \n",
       "nm0000025     4559938.0  4559938.0  4559938.0  4559938.0  4559938.0  ...   \n",
       "nm0000032      799102.0   799102.0   799102.0   799102.0   799102.0  ...   \n",
       "nm0000035     5325203.0  5634832.0  5648337.0  5834175.0  6935335.0  ...   \n",
       "\n",
       "year               2011       2012       2013       2014       2015  \\\n",
       "imdb_name_id                                                          \n",
       "nm0000002      496270.0   500681.0   500681.0   500681.0   500681.0   \n",
       "nm0000008     2982728.0  2982728.0  2982728.0  2982728.0  2982728.0   \n",
       "nm0000025     4559938.0  4559938.0  4559938.0  4559938.0  4559938.0   \n",
       "nm0000032      799102.0   799102.0   799102.0   799102.0   799102.0   \n",
       "nm0000035     6946413.0  6950901.0  6950901.0  6950901.0  6950901.0   \n",
       "\n",
       "year               2016       2017       2018       2019       2020  \n",
       "imdb_name_id                                                         \n",
       "nm0000002      500681.0   500681.0   500681.0   500681.0   500681.0  \n",
       "nm0000008     2982728.0  2982728.0  2982728.0  2982728.0  2982728.0  \n",
       "nm0000025     4559938.0  4559938.0  4559938.0  4559938.0  4559938.0  \n",
       "nm0000032      799102.0   799102.0   799102.0   799102.0   799102.0  \n",
       "nm0000035     6950901.0  6950901.0  6950901.0  6950901.0  6950901.0  \n",
       "\n",
       "[5 rows x 21 columns]"
      ]
     },
     "execution_count": 139,
     "metadata": {},
     "output_type": "execute_result"
    }
   ],
   "source": [
    "# Ganeramos Pivot Table para obtener el acumulado de votos para cada participante en años anteriores al 2000\n",
    "votes_hasta_2000 = votes_sin_nan.drop([2000,2001,2002,2003,2004,2005,2006,2007,2008,2009,2010,2011,2012,2013,2014,2015,2016,2017,2018,2019,2020], axis=1)\n",
    "votes_hasta_2000.loc[:,'Total'] = votes_hasta_2000.sum(numeric_only=True, axis=1)\n",
    "# Obtenemos la cantidad de votos por participantes en todas la peliculas anteriores al año 2000\n",
    "acumulates_votes[2000] = votes_hasta_2000['Total']\n",
    "# Generamos el dataframe con la cantidad acmulada de votos por participantes en todas la peliculas anteriores al año que se indica\n",
    "for x in range(2001, 2021):\n",
    "    acumulates_votes[x] = acumulates_votes[x-1] + votes_sin_nan[x]\n",
    "acumulates_votes.head(5)"
   ]
  },
  {
   "cell_type": "code",
   "execution_count": 140,
   "id": "determined-raise",
   "metadata": {},
   "outputs": [
    {
     "data": {
      "text/html": [
       "<div>\n",
       "<style scoped>\n",
       "    .dataframe tbody tr th:only-of-type {\n",
       "        vertical-align: middle;\n",
       "    }\n",
       "\n",
       "    .dataframe tbody tr th {\n",
       "        vertical-align: top;\n",
       "    }\n",
       "\n",
       "    .dataframe thead th {\n",
       "        text-align: right;\n",
       "    }\n",
       "</style>\n",
       "<table border=\"1\" class=\"dataframe\">\n",
       "  <thead>\n",
       "    <tr style=\"text-align: right;\">\n",
       "      <th></th>\n",
       "      <th>2001</th>\n",
       "      <th>2002</th>\n",
       "      <th>2003</th>\n",
       "      <th>2004</th>\n",
       "      <th>2005</th>\n",
       "      <th>2006</th>\n",
       "      <th>2007</th>\n",
       "      <th>2008</th>\n",
       "      <th>2009</th>\n",
       "      <th>2010</th>\n",
       "      <th>...</th>\n",
       "      <th>2012</th>\n",
       "      <th>2013</th>\n",
       "      <th>2014</th>\n",
       "      <th>2015</th>\n",
       "      <th>2016</th>\n",
       "      <th>2017</th>\n",
       "      <th>2018</th>\n",
       "      <th>2019</th>\n",
       "      <th>2020</th>\n",
       "      <th>Total</th>\n",
       "    </tr>\n",
       "  </thead>\n",
       "  <tbody>\n",
       "    <tr>\n",
       "      <th>0</th>\n",
       "      <td>1217068.0</td>\n",
       "      <td>0.0</td>\n",
       "      <td>0.0</td>\n",
       "      <td>0.0</td>\n",
       "      <td>0.0</td>\n",
       "      <td>0.0</td>\n",
       "      <td>0.0</td>\n",
       "      <td>0.0</td>\n",
       "      <td>0.0</td>\n",
       "      <td>0.0</td>\n",
       "      <td>...</td>\n",
       "      <td>0.0</td>\n",
       "      <td>0.0</td>\n",
       "      <td>0.0</td>\n",
       "      <td>0.0</td>\n",
       "      <td>0.0</td>\n",
       "      <td>0.0</td>\n",
       "      <td>0.0</td>\n",
       "      <td>0.0</td>\n",
       "      <td>0.0</td>\n",
       "      <td>1217068.0</td>\n",
       "    </tr>\n",
       "    <tr>\n",
       "      <th>1</th>\n",
       "      <td>278029.0</td>\n",
       "      <td>0.0</td>\n",
       "      <td>0.0</td>\n",
       "      <td>0.0</td>\n",
       "      <td>0.0</td>\n",
       "      <td>0.0</td>\n",
       "      <td>0.0</td>\n",
       "      <td>0.0</td>\n",
       "      <td>0.0</td>\n",
       "      <td>0.0</td>\n",
       "      <td>...</td>\n",
       "      <td>0.0</td>\n",
       "      <td>0.0</td>\n",
       "      <td>0.0</td>\n",
       "      <td>0.0</td>\n",
       "      <td>0.0</td>\n",
       "      <td>0.0</td>\n",
       "      <td>0.0</td>\n",
       "      <td>0.0</td>\n",
       "      <td>0.0</td>\n",
       "      <td>278029.0</td>\n",
       "    </tr>\n",
       "    <tr>\n",
       "      <th>2</th>\n",
       "      <td>193238.0</td>\n",
       "      <td>0.0</td>\n",
       "      <td>0.0</td>\n",
       "      <td>0.0</td>\n",
       "      <td>0.0</td>\n",
       "      <td>0.0</td>\n",
       "      <td>0.0</td>\n",
       "      <td>0.0</td>\n",
       "      <td>0.0</td>\n",
       "      <td>0.0</td>\n",
       "      <td>...</td>\n",
       "      <td>0.0</td>\n",
       "      <td>0.0</td>\n",
       "      <td>0.0</td>\n",
       "      <td>0.0</td>\n",
       "      <td>0.0</td>\n",
       "      <td>0.0</td>\n",
       "      <td>0.0</td>\n",
       "      <td>0.0</td>\n",
       "      <td>0.0</td>\n",
       "      <td>193238.0</td>\n",
       "    </tr>\n",
       "    <tr>\n",
       "      <th>3</th>\n",
       "      <td>195033.0</td>\n",
       "      <td>0.0</td>\n",
       "      <td>0.0</td>\n",
       "      <td>0.0</td>\n",
       "      <td>0.0</td>\n",
       "      <td>0.0</td>\n",
       "      <td>0.0</td>\n",
       "      <td>0.0</td>\n",
       "      <td>0.0</td>\n",
       "      <td>0.0</td>\n",
       "      <td>...</td>\n",
       "      <td>0.0</td>\n",
       "      <td>0.0</td>\n",
       "      <td>0.0</td>\n",
       "      <td>0.0</td>\n",
       "      <td>0.0</td>\n",
       "      <td>0.0</td>\n",
       "      <td>0.0</td>\n",
       "      <td>0.0</td>\n",
       "      <td>0.0</td>\n",
       "      <td>195033.0</td>\n",
       "    </tr>\n",
       "    <tr>\n",
       "      <th>4</th>\n",
       "      <td>369672.0</td>\n",
       "      <td>0.0</td>\n",
       "      <td>0.0</td>\n",
       "      <td>0.0</td>\n",
       "      <td>0.0</td>\n",
       "      <td>0.0</td>\n",
       "      <td>0.0</td>\n",
       "      <td>0.0</td>\n",
       "      <td>0.0</td>\n",
       "      <td>0.0</td>\n",
       "      <td>...</td>\n",
       "      <td>0.0</td>\n",
       "      <td>0.0</td>\n",
       "      <td>0.0</td>\n",
       "      <td>0.0</td>\n",
       "      <td>0.0</td>\n",
       "      <td>0.0</td>\n",
       "      <td>0.0</td>\n",
       "      <td>0.0</td>\n",
       "      <td>0.0</td>\n",
       "      <td>369672.0</td>\n",
       "    </tr>\n",
       "  </tbody>\n",
       "</table>\n",
       "<p>5 rows × 21 columns</p>\n",
       "</div>"
      ],
      "text/plain": [
       "        2001  2002  2003  2004  2005  2006  2007  2008  2009  2010  ...  2012  \\\n",
       "0  1217068.0   0.0   0.0   0.0   0.0   0.0   0.0   0.0   0.0   0.0  ...   0.0   \n",
       "1   278029.0   0.0   0.0   0.0   0.0   0.0   0.0   0.0   0.0   0.0  ...   0.0   \n",
       "2   193238.0   0.0   0.0   0.0   0.0   0.0   0.0   0.0   0.0   0.0  ...   0.0   \n",
       "3   195033.0   0.0   0.0   0.0   0.0   0.0   0.0   0.0   0.0   0.0  ...   0.0   \n",
       "4   369672.0   0.0   0.0   0.0   0.0   0.0   0.0   0.0   0.0   0.0  ...   0.0   \n",
       "\n",
       "   2013  2014  2015  2016  2017  2018  2019  2020      Total  \n",
       "0   0.0   0.0   0.0   0.0   0.0   0.0   0.0   0.0  1217068.0  \n",
       "1   0.0   0.0   0.0   0.0   0.0   0.0   0.0   0.0   278029.0  \n",
       "2   0.0   0.0   0.0   0.0   0.0   0.0   0.0   0.0   193238.0  \n",
       "3   0.0   0.0   0.0   0.0   0.0   0.0   0.0   0.0   195033.0  \n",
       "4   0.0   0.0   0.0   0.0   0.0   0.0   0.0   0.0   369672.0  \n",
       "\n",
       "[5 rows x 21 columns]"
      ]
     },
     "execution_count": 140,
     "metadata": {},
     "output_type": "execute_result"
    }
   ],
   "source": [
    "# Ponemos int como formato en la coumna \"year\"\n",
    "data_join_peliculas = data_join_peliculas.astype({\"year\": int})\n",
    "# Generamos dummies para poder agregar la cantidad de votos acumulados correspondientes a cada participante en el año que corresponda a cada pelicula\n",
    "dummies_years_data_join_peliculas = pd.get_dummies(data_join_peliculas['year'], drop_first=False)\n",
    "# Obtenemos la tabla a utilizar para poder agregar la informacion correpondiente a la cantidad de votos acumulados\n",
    "acumulates_votes2 = pd.merge(data_join_peliculas['imdb_name_id'], acumulates_votes, on=\"imdb_name_id\",how='left')\n",
    "# Generamos tabla para hacer el join con \"data_join_peliculas\" con la informacion correpondiente a la cantidad de votos acumulados\n",
    "votos_acumulados_anteriores = dummies_years_data_join_peliculas\n",
    "# Multiplicamos las dummies del año de la pelicula con \"acumulates_votes2\" para obtener el valor correspondiente en la tabla data_join_peliculas\n",
    "for x in range(2001, 2021):\n",
    "    votos_acumulados_anteriores[x] = dummies_years_data_join_peliculas[x]*acumulates_votes2[x]\n",
    "votos_acumulados_anteriores.loc[:,'Total'] = votos_acumulados_anteriores.sum(numeric_only=True, axis=1)\n",
    "votos_acumulados_anteriores.head(5)"
   ]
  },
  {
   "cell_type": "code",
   "execution_count": 141,
   "id": "acute-provincial",
   "metadata": {},
   "outputs": [
    {
     "data": {
      "text/html": [
       "<div>\n",
       "<style scoped>\n",
       "    .dataframe tbody tr th:only-of-type {\n",
       "        vertical-align: middle;\n",
       "    }\n",
       "\n",
       "    .dataframe tbody tr th {\n",
       "        vertical-align: top;\n",
       "    }\n",
       "\n",
       "    .dataframe thead th {\n",
       "        text-align: right;\n",
       "    }\n",
       "</style>\n",
       "<table border=\"1\" class=\"dataframe\">\n",
       "  <thead>\n",
       "    <tr style=\"text-align: right;\">\n",
       "      <th></th>\n",
       "      <th>imdb_title_id</th>\n",
       "      <th>ordering</th>\n",
       "      <th>imdb_name_id</th>\n",
       "      <th>category</th>\n",
       "      <th>year</th>\n",
       "      <th>avg_vote</th>\n",
       "      <th>votes</th>\n",
       "      <th>sum_votes</th>\n",
       "      <th>acu_votes</th>\n",
       "    </tr>\n",
       "  </thead>\n",
       "  <tbody>\n",
       "    <tr>\n",
       "      <th>0</th>\n",
       "      <td>tt0035423</td>\n",
       "      <td>1</td>\n",
       "      <td>nm0000212</td>\n",
       "      <td>actress</td>\n",
       "      <td>2001</td>\n",
       "      <td>6.4</td>\n",
       "      <td>77852.0</td>\n",
       "      <td>498252.8</td>\n",
       "      <td>1217068.0</td>\n",
       "    </tr>\n",
       "    <tr>\n",
       "      <th>1</th>\n",
       "      <td>tt0035423</td>\n",
       "      <td>2</td>\n",
       "      <td>nm0413168</td>\n",
       "      <td>actor</td>\n",
       "      <td>2001</td>\n",
       "      <td>6.4</td>\n",
       "      <td>77852.0</td>\n",
       "      <td>498252.8</td>\n",
       "      <td>278029.0</td>\n",
       "    </tr>\n",
       "    <tr>\n",
       "      <th>2</th>\n",
       "      <td>tt0035423</td>\n",
       "      <td>3</td>\n",
       "      <td>nm0000630</td>\n",
       "      <td>actor</td>\n",
       "      <td>2001</td>\n",
       "      <td>6.4</td>\n",
       "      <td>77852.0</td>\n",
       "      <td>498252.8</td>\n",
       "      <td>193238.0</td>\n",
       "    </tr>\n",
       "    <tr>\n",
       "      <th>3</th>\n",
       "      <td>tt0035423</td>\n",
       "      <td>4</td>\n",
       "      <td>nm0005227</td>\n",
       "      <td>actor</td>\n",
       "      <td>2001</td>\n",
       "      <td>6.4</td>\n",
       "      <td>77852.0</td>\n",
       "      <td>498252.8</td>\n",
       "      <td>195033.0</td>\n",
       "    </tr>\n",
       "    <tr>\n",
       "      <th>4</th>\n",
       "      <td>tt0035423</td>\n",
       "      <td>5</td>\n",
       "      <td>nm0003506</td>\n",
       "      <td>director</td>\n",
       "      <td>2001</td>\n",
       "      <td>6.4</td>\n",
       "      <td>77852.0</td>\n",
       "      <td>498252.8</td>\n",
       "      <td>369672.0</td>\n",
       "    </tr>\n",
       "  </tbody>\n",
       "</table>\n",
       "</div>"
      ],
      "text/plain": [
       "  imdb_title_id  ordering imdb_name_id  category  year  avg_vote    votes  \\\n",
       "0     tt0035423         1    nm0000212   actress  2001       6.4  77852.0   \n",
       "1     tt0035423         2    nm0413168     actor  2001       6.4  77852.0   \n",
       "2     tt0035423         3    nm0000630     actor  2001       6.4  77852.0   \n",
       "3     tt0035423         4    nm0005227     actor  2001       6.4  77852.0   \n",
       "4     tt0035423         5    nm0003506  director  2001       6.4  77852.0   \n",
       "\n",
       "   sum_votes  acu_votes  \n",
       "0   498252.8  1217068.0  \n",
       "1   498252.8   278029.0  \n",
       "2   498252.8   193238.0  \n",
       "3   498252.8   195033.0  \n",
       "4   498252.8   369672.0  "
      ]
     },
     "execution_count": 141,
     "metadata": {},
     "output_type": "execute_result"
    }
   ],
   "source": [
    "# Agregamos el acumulado de cantidad de votos en años anteriores de participantes a \"data_join_peliculas\" \n",
    "data_join_peliculas['acu_votes'] = votos_acumulados_anteriores['Total']\n",
    "data_join_peliculas.head(5)"
   ]
  },
  {
   "cell_type": "code",
   "execution_count": 142,
   "id": "stable-knife",
   "metadata": {},
   "outputs": [
    {
     "data": {
      "text/html": [
       "<div>\n",
       "<style scoped>\n",
       "    .dataframe tbody tr th:only-of-type {\n",
       "        vertical-align: middle;\n",
       "    }\n",
       "\n",
       "    .dataframe tbody tr th {\n",
       "        vertical-align: top;\n",
       "    }\n",
       "\n",
       "    .dataframe thead th {\n",
       "        text-align: right;\n",
       "    }\n",
       "</style>\n",
       "<table border=\"1\" class=\"dataframe\">\n",
       "  <thead>\n",
       "    <tr style=\"text-align: right;\">\n",
       "      <th>year</th>\n",
       "      <th>2000</th>\n",
       "      <th>2001</th>\n",
       "      <th>2002</th>\n",
       "      <th>2003</th>\n",
       "      <th>2004</th>\n",
       "      <th>2005</th>\n",
       "      <th>2006</th>\n",
       "      <th>2007</th>\n",
       "      <th>2008</th>\n",
       "      <th>2009</th>\n",
       "      <th>...</th>\n",
       "      <th>2011</th>\n",
       "      <th>2012</th>\n",
       "      <th>2013</th>\n",
       "      <th>2014</th>\n",
       "      <th>2015</th>\n",
       "      <th>2016</th>\n",
       "      <th>2017</th>\n",
       "      <th>2018</th>\n",
       "      <th>2019</th>\n",
       "      <th>2020</th>\n",
       "    </tr>\n",
       "    <tr>\n",
       "      <th>imdb_name_id</th>\n",
       "      <th></th>\n",
       "      <th></th>\n",
       "      <th></th>\n",
       "      <th></th>\n",
       "      <th></th>\n",
       "      <th></th>\n",
       "      <th></th>\n",
       "      <th></th>\n",
       "      <th></th>\n",
       "      <th></th>\n",
       "      <th></th>\n",
       "      <th></th>\n",
       "      <th></th>\n",
       "      <th></th>\n",
       "      <th></th>\n",
       "      <th></th>\n",
       "      <th></th>\n",
       "      <th></th>\n",
       "      <th></th>\n",
       "      <th></th>\n",
       "      <th></th>\n",
       "    </tr>\n",
       "  </thead>\n",
       "  <tbody>\n",
       "    <tr>\n",
       "      <th>nm0000002</th>\n",
       "      <td>0.0</td>\n",
       "      <td>0.0</td>\n",
       "      <td>0.0</td>\n",
       "      <td>1079768.0</td>\n",
       "      <td>209071.4</td>\n",
       "      <td>0.0</td>\n",
       "      <td>0.0</td>\n",
       "      <td>29991.8</td>\n",
       "      <td>0.0</td>\n",
       "      <td>0.0</td>\n",
       "      <td>...</td>\n",
       "      <td>0.0</td>\n",
       "      <td>23819.4</td>\n",
       "      <td>0.0</td>\n",
       "      <td>0.0</td>\n",
       "      <td>0.0</td>\n",
       "      <td>0.0</td>\n",
       "      <td>0.0</td>\n",
       "      <td>0.0</td>\n",
       "      <td>0.0</td>\n",
       "      <td>0.0</td>\n",
       "    </tr>\n",
       "    <tr>\n",
       "      <th>nm0000008</th>\n",
       "      <td>0.0</td>\n",
       "      <td>810376.4</td>\n",
       "      <td>0.0</td>\n",
       "      <td>0.0</td>\n",
       "      <td>0.0</td>\n",
       "      <td>0.0</td>\n",
       "      <td>0.0</td>\n",
       "      <td>0.0</td>\n",
       "      <td>0.0</td>\n",
       "      <td>0.0</td>\n",
       "      <td>...</td>\n",
       "      <td>0.0</td>\n",
       "      <td>0.0</td>\n",
       "      <td>0.0</td>\n",
       "      <td>0.0</td>\n",
       "      <td>0.0</td>\n",
       "      <td>0.0</td>\n",
       "      <td>0.0</td>\n",
       "      <td>0.0</td>\n",
       "      <td>0.0</td>\n",
       "      <td>0.0</td>\n",
       "    </tr>\n",
       "    <tr>\n",
       "      <th>nm0000025</th>\n",
       "      <td>707112.8</td>\n",
       "      <td>968470.8</td>\n",
       "      <td>1114265.6</td>\n",
       "      <td>0.0</td>\n",
       "      <td>0.0</td>\n",
       "      <td>0.0</td>\n",
       "      <td>0.0</td>\n",
       "      <td>0.0</td>\n",
       "      <td>0.0</td>\n",
       "      <td>0.0</td>\n",
       "      <td>...</td>\n",
       "      <td>0.0</td>\n",
       "      <td>0.0</td>\n",
       "      <td>0.0</td>\n",
       "      <td>0.0</td>\n",
       "      <td>0.0</td>\n",
       "      <td>0.0</td>\n",
       "      <td>0.0</td>\n",
       "      <td>0.0</td>\n",
       "      <td>0.0</td>\n",
       "      <td>0.0</td>\n",
       "    </tr>\n",
       "    <tr>\n",
       "      <th>nm0000032</th>\n",
       "      <td>0.0</td>\n",
       "      <td>36335.7</td>\n",
       "      <td>0.0</td>\n",
       "      <td>1320.0</td>\n",
       "      <td>0.0</td>\n",
       "      <td>0.0</td>\n",
       "      <td>0.0</td>\n",
       "      <td>0.0</td>\n",
       "      <td>0.0</td>\n",
       "      <td>0.0</td>\n",
       "      <td>...</td>\n",
       "      <td>0.0</td>\n",
       "      <td>0.0</td>\n",
       "      <td>0.0</td>\n",
       "      <td>0.0</td>\n",
       "      <td>0.0</td>\n",
       "      <td>0.0</td>\n",
       "      <td>0.0</td>\n",
       "      <td>0.0</td>\n",
       "      <td>0.0</td>\n",
       "      <td>0.0</td>\n",
       "    </tr>\n",
       "    <tr>\n",
       "      <th>nm0000035</th>\n",
       "      <td>2215922.4</td>\n",
       "      <td>8715951.4</td>\n",
       "      <td>0.0</td>\n",
       "      <td>954786.6</td>\n",
       "      <td>3821077.8</td>\n",
       "      <td>1617314.0</td>\n",
       "      <td>2377659.8</td>\n",
       "      <td>85081.5</td>\n",
       "      <td>1449536.4</td>\n",
       "      <td>8589048.0</td>\n",
       "      <td>...</td>\n",
       "      <td>74222.6</td>\n",
       "      <td>29620.8</td>\n",
       "      <td>0.0</td>\n",
       "      <td>0.0</td>\n",
       "      <td>0.0</td>\n",
       "      <td>0.0</td>\n",
       "      <td>0.0</td>\n",
       "      <td>0.0</td>\n",
       "      <td>0.0</td>\n",
       "      <td>0.0</td>\n",
       "    </tr>\n",
       "  </tbody>\n",
       "</table>\n",
       "<p>5 rows × 21 columns</p>\n",
       "</div>"
      ],
      "text/plain": [
       "year               2000       2001       2002       2003       2004  \\\n",
       "imdb_name_id                                                          \n",
       "nm0000002           0.0        0.0        0.0  1079768.0   209071.4   \n",
       "nm0000008           0.0   810376.4        0.0        0.0        0.0   \n",
       "nm0000025      707112.8   968470.8  1114265.6        0.0        0.0   \n",
       "nm0000032           0.0    36335.7        0.0     1320.0        0.0   \n",
       "nm0000035     2215922.4  8715951.4        0.0   954786.6  3821077.8   \n",
       "\n",
       "year               2005       2006     2007       2008       2009  ...  \\\n",
       "imdb_name_id                                                       ...   \n",
       "nm0000002           0.0        0.0  29991.8        0.0        0.0  ...   \n",
       "nm0000008           0.0        0.0      0.0        0.0        0.0  ...   \n",
       "nm0000025           0.0        0.0      0.0        0.0        0.0  ...   \n",
       "nm0000032           0.0        0.0      0.0        0.0        0.0  ...   \n",
       "nm0000035     1617314.0  2377659.8  85081.5  1449536.4  8589048.0  ...   \n",
       "\n",
       "year             2011     2012  2013  2014  2015  2016  2017  2018  2019  2020  \n",
       "imdb_name_id                                                                    \n",
       "nm0000002         0.0  23819.4   0.0   0.0   0.0   0.0   0.0   0.0   0.0   0.0  \n",
       "nm0000008         0.0      0.0   0.0   0.0   0.0   0.0   0.0   0.0   0.0   0.0  \n",
       "nm0000025         0.0      0.0   0.0   0.0   0.0   0.0   0.0   0.0   0.0   0.0  \n",
       "nm0000032         0.0      0.0   0.0   0.0   0.0   0.0   0.0   0.0   0.0   0.0  \n",
       "nm0000035     74222.6  29620.8   0.0   0.0   0.0   0.0   0.0   0.0   0.0   0.0  \n",
       "\n",
       "[5 rows x 21 columns]"
      ]
     },
     "execution_count": 142,
     "metadata": {},
     "output_type": "execute_result"
    }
   ],
   "source": [
    "# Creamos Pivot Table con la sumatoria de votos recibido por participante en distintos años, por la sumatoria de votos de las peliculas en las que participo\n",
    "pivot_table_sum_votes = data_join_participantes.pivot_table('sum_votes', index='imdb_name_id', columns='year',aggfunc=np.sum)\n",
    "# Creamos Pivot Table que remplaza los nan por ceros\n",
    "sum_votes_sin_nan = pivot_table_sum_votes.fillna(0)\n",
    "# Creamos Pivot Table que luego va a contener en cada año la sumatoria de votos para cada participante de años anteriores\n",
    "acumulates_sum_votes = sum_votes_sin_nan\n",
    "# Desechamos los años que no nos interesa tener informacion de acumulacion de votos a años anteriores\n",
    "acumulates_sum_votes = acumulates_sum_votes.drop([1911,1912,1913,1914,1915,1916,1917,1918,1919,1920,1921,1922,1923,1924,1925,1926,1927,1928,1929,1930,1931,1932,1933,1934,\n",
    "                                          1935,1936,1937,1938,1939,1940,1941,1942,1943,1944,1945,1946,1947,1948,1949,1950,1951,1952,1953,1954,1955,1956,1957,1958,\n",
    "                                          1959,1960,1961,1962,1963,1964,1965,1966,1967,1968,1969,1970,1971,1972,1973,1974,1975,1976,1977,1978,1979,1980,1981,1982,\n",
    "                                          1983,1984,1985,1986,1987,1988,1989,1990,1991,1992,1993,1994,1995,1996,1997,1998,1999], axis=1)\n",
    "acumulates_sum_votes.head(5)"
   ]
  },
  {
   "cell_type": "code",
   "execution_count": 143,
   "id": "hazardous-canyon",
   "metadata": {},
   "outputs": [
    {
     "data": {
      "text/html": [
       "<div>\n",
       "<style scoped>\n",
       "    .dataframe tbody tr th:only-of-type {\n",
       "        vertical-align: middle;\n",
       "    }\n",
       "\n",
       "    .dataframe tbody tr th {\n",
       "        vertical-align: top;\n",
       "    }\n",
       "\n",
       "    .dataframe thead th {\n",
       "        text-align: right;\n",
       "    }\n",
       "</style>\n",
       "<table border=\"1\" class=\"dataframe\">\n",
       "  <thead>\n",
       "    <tr style=\"text-align: right;\">\n",
       "      <th>year</th>\n",
       "      <th>2000</th>\n",
       "      <th>2001</th>\n",
       "      <th>2002</th>\n",
       "      <th>2003</th>\n",
       "      <th>2004</th>\n",
       "      <th>2005</th>\n",
       "      <th>2006</th>\n",
       "      <th>2007</th>\n",
       "      <th>2008</th>\n",
       "      <th>2009</th>\n",
       "      <th>...</th>\n",
       "      <th>2011</th>\n",
       "      <th>2012</th>\n",
       "      <th>2013</th>\n",
       "      <th>2014</th>\n",
       "      <th>2015</th>\n",
       "      <th>2016</th>\n",
       "      <th>2017</th>\n",
       "      <th>2018</th>\n",
       "      <th>2019</th>\n",
       "      <th>2020</th>\n",
       "    </tr>\n",
       "    <tr>\n",
       "      <th>imdb_name_id</th>\n",
       "      <th></th>\n",
       "      <th></th>\n",
       "      <th></th>\n",
       "      <th></th>\n",
       "      <th></th>\n",
       "      <th></th>\n",
       "      <th></th>\n",
       "      <th></th>\n",
       "      <th></th>\n",
       "      <th></th>\n",
       "      <th></th>\n",
       "      <th></th>\n",
       "      <th></th>\n",
       "      <th></th>\n",
       "      <th></th>\n",
       "      <th></th>\n",
       "      <th></th>\n",
       "      <th></th>\n",
       "      <th></th>\n",
       "      <th></th>\n",
       "      <th></th>\n",
       "    </tr>\n",
       "  </thead>\n",
       "  <tbody>\n",
       "    <tr>\n",
       "      <th>nm0000002</th>\n",
       "      <td>2389394.7</td>\n",
       "      <td>2389394.7</td>\n",
       "      <td>2389394.7</td>\n",
       "      <td>3469162.7</td>\n",
       "      <td>3678234.1</td>\n",
       "      <td>3678234.1</td>\n",
       "      <td>3678234.1</td>\n",
       "      <td>3708225.9</td>\n",
       "      <td>3708225.9</td>\n",
       "      <td>3708225.9</td>\n",
       "      <td>...</td>\n",
       "      <td>3708225.9</td>\n",
       "      <td>3732045.3</td>\n",
       "      <td>3732045.3</td>\n",
       "      <td>3732045.3</td>\n",
       "      <td>3732045.3</td>\n",
       "      <td>3732045.3</td>\n",
       "      <td>3732045.3</td>\n",
       "      <td>3732045.3</td>\n",
       "      <td>3732045.3</td>\n",
       "      <td>3732045.3</td>\n",
       "    </tr>\n",
       "    <tr>\n",
       "      <th>nm0000008</th>\n",
       "      <td>24505616.1</td>\n",
       "      <td>25315992.5</td>\n",
       "      <td>25315992.5</td>\n",
       "      <td>25315992.5</td>\n",
       "      <td>25315992.5</td>\n",
       "      <td>25315992.5</td>\n",
       "      <td>25315992.5</td>\n",
       "      <td>25315992.5</td>\n",
       "      <td>25315992.5</td>\n",
       "      <td>25315992.5</td>\n",
       "      <td>...</td>\n",
       "      <td>25315992.5</td>\n",
       "      <td>25315992.5</td>\n",
       "      <td>25315992.5</td>\n",
       "      <td>25315992.5</td>\n",
       "      <td>25315992.5</td>\n",
       "      <td>25315992.5</td>\n",
       "      <td>25315992.5</td>\n",
       "      <td>25315992.5</td>\n",
       "      <td>25315992.5</td>\n",
       "      <td>25315992.5</td>\n",
       "    </tr>\n",
       "    <tr>\n",
       "      <th>nm0000025</th>\n",
       "      <td>29659118.8</td>\n",
       "      <td>30627589.6</td>\n",
       "      <td>31741855.2</td>\n",
       "      <td>31741855.2</td>\n",
       "      <td>31741855.2</td>\n",
       "      <td>31741855.2</td>\n",
       "      <td>31741855.2</td>\n",
       "      <td>31741855.2</td>\n",
       "      <td>31741855.2</td>\n",
       "      <td>31741855.2</td>\n",
       "      <td>...</td>\n",
       "      <td>31741855.2</td>\n",
       "      <td>31741855.2</td>\n",
       "      <td>31741855.2</td>\n",
       "      <td>31741855.2</td>\n",
       "      <td>31741855.2</td>\n",
       "      <td>31741855.2</td>\n",
       "      <td>31741855.2</td>\n",
       "      <td>31741855.2</td>\n",
       "      <td>31741855.2</td>\n",
       "      <td>31741855.2</td>\n",
       "    </tr>\n",
       "    <tr>\n",
       "      <th>nm0000032</th>\n",
       "      <td>6005780.3</td>\n",
       "      <td>6042116.0</td>\n",
       "      <td>6042116.0</td>\n",
       "      <td>6043436.0</td>\n",
       "      <td>6043436.0</td>\n",
       "      <td>6043436.0</td>\n",
       "      <td>6043436.0</td>\n",
       "      <td>6043436.0</td>\n",
       "      <td>6043436.0</td>\n",
       "      <td>6043436.0</td>\n",
       "      <td>...</td>\n",
       "      <td>6043436.0</td>\n",
       "      <td>6043436.0</td>\n",
       "      <td>6043436.0</td>\n",
       "      <td>6043436.0</td>\n",
       "      <td>6043436.0</td>\n",
       "      <td>6043436.0</td>\n",
       "      <td>6043436.0</td>\n",
       "      <td>6043436.0</td>\n",
       "      <td>6043436.0</td>\n",
       "      <td>6043436.0</td>\n",
       "    </tr>\n",
       "    <tr>\n",
       "      <th>nm0000035</th>\n",
       "      <td>24868788.8</td>\n",
       "      <td>33584740.2</td>\n",
       "      <td>33584740.2</td>\n",
       "      <td>34539526.8</td>\n",
       "      <td>38360604.6</td>\n",
       "      <td>39977918.6</td>\n",
       "      <td>42355578.4</td>\n",
       "      <td>42440659.9</td>\n",
       "      <td>43890196.3</td>\n",
       "      <td>52479244.3</td>\n",
       "      <td>...</td>\n",
       "      <td>52553466.9</td>\n",
       "      <td>52583087.7</td>\n",
       "      <td>52583087.7</td>\n",
       "      <td>52583087.7</td>\n",
       "      <td>52583087.7</td>\n",
       "      <td>52583087.7</td>\n",
       "      <td>52583087.7</td>\n",
       "      <td>52583087.7</td>\n",
       "      <td>52583087.7</td>\n",
       "      <td>52583087.7</td>\n",
       "    </tr>\n",
       "  </tbody>\n",
       "</table>\n",
       "<p>5 rows × 21 columns</p>\n",
       "</div>"
      ],
      "text/plain": [
       "year                2000        2001        2002        2003        2004  \\\n",
       "imdb_name_id                                                               \n",
       "nm0000002      2389394.7   2389394.7   2389394.7   3469162.7   3678234.1   \n",
       "nm0000008     24505616.1  25315992.5  25315992.5  25315992.5  25315992.5   \n",
       "nm0000025     29659118.8  30627589.6  31741855.2  31741855.2  31741855.2   \n",
       "nm0000032      6005780.3   6042116.0   6042116.0   6043436.0   6043436.0   \n",
       "nm0000035     24868788.8  33584740.2  33584740.2  34539526.8  38360604.6   \n",
       "\n",
       "year                2005        2006        2007        2008        2009  ...  \\\n",
       "imdb_name_id                                                              ...   \n",
       "nm0000002      3678234.1   3678234.1   3708225.9   3708225.9   3708225.9  ...   \n",
       "nm0000008     25315992.5  25315992.5  25315992.5  25315992.5  25315992.5  ...   \n",
       "nm0000025     31741855.2  31741855.2  31741855.2  31741855.2  31741855.2  ...   \n",
       "nm0000032      6043436.0   6043436.0   6043436.0   6043436.0   6043436.0  ...   \n",
       "nm0000035     39977918.6  42355578.4  42440659.9  43890196.3  52479244.3  ...   \n",
       "\n",
       "year                2011        2012        2013        2014        2015  \\\n",
       "imdb_name_id                                                               \n",
       "nm0000002      3708225.9   3732045.3   3732045.3   3732045.3   3732045.3   \n",
       "nm0000008     25315992.5  25315992.5  25315992.5  25315992.5  25315992.5   \n",
       "nm0000025     31741855.2  31741855.2  31741855.2  31741855.2  31741855.2   \n",
       "nm0000032      6043436.0   6043436.0   6043436.0   6043436.0   6043436.0   \n",
       "nm0000035     52553466.9  52583087.7  52583087.7  52583087.7  52583087.7   \n",
       "\n",
       "year                2016        2017        2018        2019        2020  \n",
       "imdb_name_id                                                              \n",
       "nm0000002      3732045.3   3732045.3   3732045.3   3732045.3   3732045.3  \n",
       "nm0000008     25315992.5  25315992.5  25315992.5  25315992.5  25315992.5  \n",
       "nm0000025     31741855.2  31741855.2  31741855.2  31741855.2  31741855.2  \n",
       "nm0000032      6043436.0   6043436.0   6043436.0   6043436.0   6043436.0  \n",
       "nm0000035     52583087.7  52583087.7  52583087.7  52583087.7  52583087.7  \n",
       "\n",
       "[5 rows x 21 columns]"
      ]
     },
     "execution_count": 143,
     "metadata": {},
     "output_type": "execute_result"
    }
   ],
   "source": [
    "# Ganeramos Pivot Table para obtener la sumatoria de votos para cada participante en años anteriores al 2000\n",
    "sum_votes_hasta_2000 = sum_votes_sin_nan.drop([2000,2001,2002,2003,2004,2005,2006,2007,2008,2009,2010,2011,2012,2013,2014,2015,2016,2017,2018,2019,2020], axis=1)\n",
    "sum_votes_hasta_2000.loc[:,'Total'] = sum_votes_hasta_2000.sum(numeric_only=True, axis=1)\n",
    "# Obtenemos la sumatoria de votos por participantes en todas la peliculas anteriores al año 2000\n",
    "acumulates_sum_votes[2000] = sum_votes_hasta_2000['Total']\n",
    "# Generamos el dataframe con la sumatoria acmulada de votos por participantes en todas la peliculas anteriores al año que se indica\n",
    "for x in range(2001, 2021):\n",
    "    acumulates_sum_votes[x] = acumulates_sum_votes[x-1] + sum_votes_sin_nan[x]\n",
    "acumulates_sum_votes.head(5)"
   ]
  },
  {
   "cell_type": "code",
   "execution_count": 144,
   "id": "portuguese-thumb",
   "metadata": {},
   "outputs": [
    {
     "data": {
      "text/html": [
       "<div>\n",
       "<style scoped>\n",
       "    .dataframe tbody tr th:only-of-type {\n",
       "        vertical-align: middle;\n",
       "    }\n",
       "\n",
       "    .dataframe tbody tr th {\n",
       "        vertical-align: top;\n",
       "    }\n",
       "\n",
       "    .dataframe thead th {\n",
       "        text-align: right;\n",
       "    }\n",
       "</style>\n",
       "<table border=\"1\" class=\"dataframe\">\n",
       "  <thead>\n",
       "    <tr style=\"text-align: right;\">\n",
       "      <th></th>\n",
       "      <th>2001</th>\n",
       "      <th>2002</th>\n",
       "      <th>2003</th>\n",
       "      <th>2004</th>\n",
       "      <th>2005</th>\n",
       "      <th>2006</th>\n",
       "      <th>2007</th>\n",
       "      <th>2008</th>\n",
       "      <th>2009</th>\n",
       "      <th>2010</th>\n",
       "      <th>...</th>\n",
       "      <th>2012</th>\n",
       "      <th>2013</th>\n",
       "      <th>2014</th>\n",
       "      <th>2015</th>\n",
       "      <th>2016</th>\n",
       "      <th>2017</th>\n",
       "      <th>2018</th>\n",
       "      <th>2019</th>\n",
       "      <th>2020</th>\n",
       "      <th>Total</th>\n",
       "    </tr>\n",
       "  </thead>\n",
       "  <tbody>\n",
       "    <tr>\n",
       "      <th>0</th>\n",
       "      <td>8294364.8</td>\n",
       "      <td>0.0</td>\n",
       "      <td>0.0</td>\n",
       "      <td>0.0</td>\n",
       "      <td>0.0</td>\n",
       "      <td>0.0</td>\n",
       "      <td>0.0</td>\n",
       "      <td>0.0</td>\n",
       "      <td>0.0</td>\n",
       "      <td>0.0</td>\n",
       "      <td>...</td>\n",
       "      <td>0.0</td>\n",
       "      <td>0.0</td>\n",
       "      <td>0.0</td>\n",
       "      <td>0.0</td>\n",
       "      <td>0.0</td>\n",
       "      <td>0.0</td>\n",
       "      <td>0.0</td>\n",
       "      <td>0.0</td>\n",
       "      <td>0.0</td>\n",
       "      <td>8294364.8</td>\n",
       "    </tr>\n",
       "    <tr>\n",
       "      <th>1</th>\n",
       "      <td>1790128.5</td>\n",
       "      <td>0.0</td>\n",
       "      <td>0.0</td>\n",
       "      <td>0.0</td>\n",
       "      <td>0.0</td>\n",
       "      <td>0.0</td>\n",
       "      <td>0.0</td>\n",
       "      <td>0.0</td>\n",
       "      <td>0.0</td>\n",
       "      <td>0.0</td>\n",
       "      <td>...</td>\n",
       "      <td>0.0</td>\n",
       "      <td>0.0</td>\n",
       "      <td>0.0</td>\n",
       "      <td>0.0</td>\n",
       "      <td>0.0</td>\n",
       "      <td>0.0</td>\n",
       "      <td>0.0</td>\n",
       "      <td>0.0</td>\n",
       "      <td>0.0</td>\n",
       "      <td>1790128.5</td>\n",
       "    </tr>\n",
       "    <tr>\n",
       "      <th>2</th>\n",
       "      <td>1330998.9</td>\n",
       "      <td>0.0</td>\n",
       "      <td>0.0</td>\n",
       "      <td>0.0</td>\n",
       "      <td>0.0</td>\n",
       "      <td>0.0</td>\n",
       "      <td>0.0</td>\n",
       "      <td>0.0</td>\n",
       "      <td>0.0</td>\n",
       "      <td>0.0</td>\n",
       "      <td>...</td>\n",
       "      <td>0.0</td>\n",
       "      <td>0.0</td>\n",
       "      <td>0.0</td>\n",
       "      <td>0.0</td>\n",
       "      <td>0.0</td>\n",
       "      <td>0.0</td>\n",
       "      <td>0.0</td>\n",
       "      <td>0.0</td>\n",
       "      <td>0.0</td>\n",
       "      <td>1330998.9</td>\n",
       "    </tr>\n",
       "    <tr>\n",
       "      <th>3</th>\n",
       "      <td>1250233.2</td>\n",
       "      <td>0.0</td>\n",
       "      <td>0.0</td>\n",
       "      <td>0.0</td>\n",
       "      <td>0.0</td>\n",
       "      <td>0.0</td>\n",
       "      <td>0.0</td>\n",
       "      <td>0.0</td>\n",
       "      <td>0.0</td>\n",
       "      <td>0.0</td>\n",
       "      <td>...</td>\n",
       "      <td>0.0</td>\n",
       "      <td>0.0</td>\n",
       "      <td>0.0</td>\n",
       "      <td>0.0</td>\n",
       "      <td>0.0</td>\n",
       "      <td>0.0</td>\n",
       "      <td>0.0</td>\n",
       "      <td>0.0</td>\n",
       "      <td>0.0</td>\n",
       "      <td>1250233.2</td>\n",
       "    </tr>\n",
       "    <tr>\n",
       "      <th>4</th>\n",
       "      <td>2566928.4</td>\n",
       "      <td>0.0</td>\n",
       "      <td>0.0</td>\n",
       "      <td>0.0</td>\n",
       "      <td>0.0</td>\n",
       "      <td>0.0</td>\n",
       "      <td>0.0</td>\n",
       "      <td>0.0</td>\n",
       "      <td>0.0</td>\n",
       "      <td>0.0</td>\n",
       "      <td>...</td>\n",
       "      <td>0.0</td>\n",
       "      <td>0.0</td>\n",
       "      <td>0.0</td>\n",
       "      <td>0.0</td>\n",
       "      <td>0.0</td>\n",
       "      <td>0.0</td>\n",
       "      <td>0.0</td>\n",
       "      <td>0.0</td>\n",
       "      <td>0.0</td>\n",
       "      <td>2566928.4</td>\n",
       "    </tr>\n",
       "  </tbody>\n",
       "</table>\n",
       "<p>5 rows × 21 columns</p>\n",
       "</div>"
      ],
      "text/plain": [
       "        2001  2002  2003  2004  2005  2006  2007  2008  2009  2010  ...  2012  \\\n",
       "0  8294364.8   0.0   0.0   0.0   0.0   0.0   0.0   0.0   0.0   0.0  ...   0.0   \n",
       "1  1790128.5   0.0   0.0   0.0   0.0   0.0   0.0   0.0   0.0   0.0  ...   0.0   \n",
       "2  1330998.9   0.0   0.0   0.0   0.0   0.0   0.0   0.0   0.0   0.0  ...   0.0   \n",
       "3  1250233.2   0.0   0.0   0.0   0.0   0.0   0.0   0.0   0.0   0.0  ...   0.0   \n",
       "4  2566928.4   0.0   0.0   0.0   0.0   0.0   0.0   0.0   0.0   0.0  ...   0.0   \n",
       "\n",
       "   2013  2014  2015  2016  2017  2018  2019  2020      Total  \n",
       "0   0.0   0.0   0.0   0.0   0.0   0.0   0.0   0.0  8294364.8  \n",
       "1   0.0   0.0   0.0   0.0   0.0   0.0   0.0   0.0  1790128.5  \n",
       "2   0.0   0.0   0.0   0.0   0.0   0.0   0.0   0.0  1330998.9  \n",
       "3   0.0   0.0   0.0   0.0   0.0   0.0   0.0   0.0  1250233.2  \n",
       "4   0.0   0.0   0.0   0.0   0.0   0.0   0.0   0.0  2566928.4  \n",
       "\n",
       "[5 rows x 21 columns]"
      ]
     },
     "execution_count": 144,
     "metadata": {},
     "output_type": "execute_result"
    }
   ],
   "source": [
    "# Volvemos a utilizar los años en dummies\n",
    "dummies_years_data_join_peliculas = pd.get_dummies(data_join_peliculas['year'], drop_first=False)\n",
    "# Obtenemos la tabla a utilizar para poder agregar la informacion correpondiente a la smatoria de votos acumulados\n",
    "acumulates_sum_votes2 = pd.merge(data_join_peliculas['imdb_name_id'], acumulates_sum_votes, on=\"imdb_name_id\",how='left')\n",
    "# Generamos tabla para hacer el join con \"data_join_peliculas\" con la informacion correpondiente a la sumatoria de votos acumulados\n",
    "sum_votos_acumulados_anteriores = dummies_years_data_join_peliculas\n",
    "# Multiplicamos las dummies del año de la pelicula con \"acumulates_sum_votes2\" para obtener el valor correspondiente en la tabla data_join_peliculas\n",
    "for x in range(2001, 2021):\n",
    "    sum_votos_acumulados_anteriores[x] = dummies_years_data_join_peliculas[x]*acumulates_sum_votes2[x]\n",
    "sum_votos_acumulados_anteriores.loc[:,'Total'] = sum_votos_acumulados_anteriores.sum(numeric_only=True, axis=1)\n",
    "sum_votos_acumulados_anteriores.head(5)"
   ]
  },
  {
   "cell_type": "code",
   "execution_count": 145,
   "id": "white-nigeria",
   "metadata": {},
   "outputs": [
    {
     "data": {
      "text/html": [
       "<div>\n",
       "<style scoped>\n",
       "    .dataframe tbody tr th:only-of-type {\n",
       "        vertical-align: middle;\n",
       "    }\n",
       "\n",
       "    .dataframe tbody tr th {\n",
       "        vertical-align: top;\n",
       "    }\n",
       "\n",
       "    .dataframe thead th {\n",
       "        text-align: right;\n",
       "    }\n",
       "</style>\n",
       "<table border=\"1\" class=\"dataframe\">\n",
       "  <thead>\n",
       "    <tr style=\"text-align: right;\">\n",
       "      <th></th>\n",
       "      <th>imdb_title_id</th>\n",
       "      <th>ordering</th>\n",
       "      <th>imdb_name_id</th>\n",
       "      <th>category</th>\n",
       "      <th>year</th>\n",
       "      <th>avg_vote</th>\n",
       "      <th>votes</th>\n",
       "      <th>sum_votes</th>\n",
       "      <th>acu_votes</th>\n",
       "      <th>acu_sum_votes</th>\n",
       "      <th>acu_avg_votes</th>\n",
       "    </tr>\n",
       "  </thead>\n",
       "  <tbody>\n",
       "    <tr>\n",
       "      <th>0</th>\n",
       "      <td>tt0035423</td>\n",
       "      <td>1</td>\n",
       "      <td>nm0000212</td>\n",
       "      <td>actress</td>\n",
       "      <td>2001</td>\n",
       "      <td>6.4</td>\n",
       "      <td>77852.0</td>\n",
       "      <td>498252.8</td>\n",
       "      <td>1217068.0</td>\n",
       "      <td>8294364.8</td>\n",
       "      <td>6.815038</td>\n",
       "    </tr>\n",
       "    <tr>\n",
       "      <th>1</th>\n",
       "      <td>tt0035423</td>\n",
       "      <td>2</td>\n",
       "      <td>nm0413168</td>\n",
       "      <td>actor</td>\n",
       "      <td>2001</td>\n",
       "      <td>6.4</td>\n",
       "      <td>77852.0</td>\n",
       "      <td>498252.8</td>\n",
       "      <td>278029.0</td>\n",
       "      <td>1790128.5</td>\n",
       "      <td>6.438639</td>\n",
       "    </tr>\n",
       "    <tr>\n",
       "      <th>2</th>\n",
       "      <td>tt0035423</td>\n",
       "      <td>3</td>\n",
       "      <td>nm0000630</td>\n",
       "      <td>actor</td>\n",
       "      <td>2001</td>\n",
       "      <td>6.4</td>\n",
       "      <td>77852.0</td>\n",
       "      <td>498252.8</td>\n",
       "      <td>193238.0</td>\n",
       "      <td>1330998.9</td>\n",
       "      <td>6.887874</td>\n",
       "    </tr>\n",
       "    <tr>\n",
       "      <th>3</th>\n",
       "      <td>tt0035423</td>\n",
       "      <td>4</td>\n",
       "      <td>nm0005227</td>\n",
       "      <td>actor</td>\n",
       "      <td>2001</td>\n",
       "      <td>6.4</td>\n",
       "      <td>77852.0</td>\n",
       "      <td>498252.8</td>\n",
       "      <td>195033.0</td>\n",
       "      <td>1250233.2</td>\n",
       "      <td>6.410367</td>\n",
       "    </tr>\n",
       "    <tr>\n",
       "      <th>4</th>\n",
       "      <td>tt0035423</td>\n",
       "      <td>5</td>\n",
       "      <td>nm0003506</td>\n",
       "      <td>director</td>\n",
       "      <td>2001</td>\n",
       "      <td>6.4</td>\n",
       "      <td>77852.0</td>\n",
       "      <td>498252.8</td>\n",
       "      <td>369672.0</td>\n",
       "      <td>2566928.4</td>\n",
       "      <td>6.943800</td>\n",
       "    </tr>\n",
       "  </tbody>\n",
       "</table>\n",
       "</div>"
      ],
      "text/plain": [
       "  imdb_title_id  ordering imdb_name_id  category  year  avg_vote    votes  \\\n",
       "0     tt0035423         1    nm0000212   actress  2001       6.4  77852.0   \n",
       "1     tt0035423         2    nm0413168     actor  2001       6.4  77852.0   \n",
       "2     tt0035423         3    nm0000630     actor  2001       6.4  77852.0   \n",
       "3     tt0035423         4    nm0005227     actor  2001       6.4  77852.0   \n",
       "4     tt0035423         5    nm0003506  director  2001       6.4  77852.0   \n",
       "\n",
       "   sum_votes  acu_votes  acu_sum_votes  acu_avg_votes  \n",
       "0   498252.8  1217068.0      8294364.8       6.815038  \n",
       "1   498252.8   278029.0      1790128.5       6.438639  \n",
       "2   498252.8   193238.0      1330998.9       6.887874  \n",
       "3   498252.8   195033.0      1250233.2       6.410367  \n",
       "4   498252.8   369672.0      2566928.4       6.943800  "
      ]
     },
     "execution_count": 145,
     "metadata": {},
     "output_type": "execute_result"
    }
   ],
   "source": [
    "# Agregamos el acumulado de sumatoria de votos en años anteriores de participantes a \"data_join_peliculas\" \n",
    "data_join_peliculas['acu_sum_votes'] = sum_votos_acumulados_anteriores['Total']\n",
    "# Obtenemos la votacion promedio de peliculas de años anteriores para los participantes \n",
    "data_join_peliculas['acu_avg_votes'] = data_join_peliculas['acu_sum_votes']/data_join_peliculas['acu_votes']\n",
    "data_join_peliculas.head(5)"
   ]
  },
  {
   "cell_type": "code",
   "execution_count": 146,
   "id": "thirty-eligibility",
   "metadata": {},
   "outputs": [
    {
     "data": {
      "text/plain": [
       "category\n",
       "actor                  19468\n",
       "producer               14013\n",
       "writer                 12332\n",
       "actress                11539\n",
       "director                7997\n",
       "composer                4976\n",
       "cinematographer         3405\n",
       "editor                  1907\n",
       "production_designer      636\n",
       "self                      30\n",
       "archive_footage            7\n",
       "archive_sound              1\n",
       "Name: category, dtype: int64"
      ]
     },
     "execution_count": 146,
     "metadata": {},
     "output_type": "execute_result"
    }
   ],
   "source": [
    "# Observamos las categoria y cantidad de registros par los participantes \n",
    "category_group = data_join_peliculas.groupby('category').category.count().sort_values(ascending=False)\n",
    "category_group"
   ]
  },
  {
   "cell_type": "code",
   "execution_count": 147,
   "id": "popular-saudi",
   "metadata": {},
   "outputs": [
    {
     "name": "stdout",
     "output_type": "stream",
     "text": [
      "Hay 7700 que contienen informacion sobre su/s actor/es\n",
      "Hay 6755 que contienen informacion sobre su/s productor/es\n",
      "Hay 5970 que contienen informacion sobre su/s guinista/s\n",
      "Hay 7401 que contienen informacion sobre su/s director/es\n"
     ]
    }
   ],
   "source": [
    "# Obtenemos para las peliculas seleccionadas, cuantas tienen almenos un actor, director, productor o guionistaprint('De las',data.shape[0],'peliculas que seleccionamos:')\n",
    "mask_actor = data_join_peliculas['category'] == 'actor'\n",
    "mask_actress = data_join_peliculas['category'] == 'actress'\n",
    "mask_actor_or_actress = mask_actress|mask_actor\n",
    "actors = data_join_peliculas[mask_actor]\n",
    "actress = data_join_peliculas[mask_actress]\n",
    "actors_or_actress = data_join_peliculas[mask_actor_or_actress]\n",
    "actors_or_actress_peliculas_unicas = actors_or_actress.drop_duplicates(subset=[\"imdb_title_id\"], keep=\"first\")\n",
    "print('Hay',actors_or_actress_peliculas_unicas.shape[0],'que contienen informacion sobre su/s actor/es')\n",
    "producers = data_join_peliculas[data_join_peliculas['category'] == 'producer']\n",
    "producers_peliculas_unicas = producers.drop_duplicates(subset=[\"imdb_title_id\"], keep=\"first\")\n",
    "print('Hay',producers_peliculas_unicas.shape[0],'que contienen informacion sobre su/s productor/es')\n",
    "writers = data_join_peliculas[data_join_peliculas['category'] == 'writer']\n",
    "writers_peliculas_unicas = writers.drop_duplicates(subset=[\"imdb_title_id\"], keep=\"first\")\n",
    "print('Hay',writers_peliculas_unicas.shape[0],'que contienen informacion sobre su/s guinista/s')\n",
    "directors = data_join_peliculas[data_join_peliculas['category'] == 'director']\n",
    "directors_peliculas_unicas = directors.drop_duplicates(subset=[\"imdb_title_id\"], keep=\"first\")\n",
    "print('Hay',directors_peliculas_unicas.shape[0],'que contienen informacion sobre su/s director/es')"
   ]
  },
  {
   "cell_type": "code",
   "execution_count": 148,
   "id": "neural-force",
   "metadata": {},
   "outputs": [],
   "source": [
    "# Generamos la suma de votos acumulados de todo el elenco para cada pelicula\n",
    "actors_acu_votes_group = actors_or_actress.groupby('imdb_title_id').acu_votes.sum()\n",
    "# Generamos la suma de la sumatoria de votos acumulados de todo el elenco para cada pelicula\n",
    "actors_acu_sum_votes_group = actors_or_actress.groupby('imdb_title_id').acu_sum_votes.sum()\n",
    "# Generamos una variable con la cantidad de acotres y actrices para cada pelicula\n",
    "cant_actor_and_actress_group = actors_or_actress.groupby('imdb_title_id').imdb_name_id.count()\n",
    "# Generamos una variable con la cantidad de acotrespara cada pelicula\n",
    "cant_actors_group = actors.groupby('imdb_title_id').imdb_name_id.count()\n",
    "# Generamos una variable con la cantidad de actrices para cada pelicula\n",
    "cant_actress_group = actress.groupby('imdb_title_id').imdb_name_id.count()"
   ]
  },
  {
   "cell_type": "code",
   "execution_count": 149,
   "id": "recognized-chapter",
   "metadata": {},
   "outputs": [],
   "source": [
    "# Agregamos a nuestro dataframe data la suma de la cantidad de votos anteriores correspondiente al elenco y desechamos las peliculas que no contienen informacion\n",
    "data = pd.merge(data, actors_acu_votes_group, on=\"imdb_title_id\",how='inner')\n",
    "data.rename(columns={'acu_votes':'acu_votes_actors'},inplace=True)\n",
    "# Agregamos la suma de la sumatoria de votos anteriores correspondiente al elenco \n",
    "data = pd.merge(data, actors_acu_sum_votes_group, on=\"imdb_title_id\",how='left')\n",
    "data.rename(columns={'acu_sum_votes':'acu_sum_votes_actors'},inplace=True)\n",
    "# Agregamos una variable con el voto promedios de todos los votos acumulados de peliculas en las que participo el elenco\n",
    "data['avg_acu_votes_actors'] = data['acu_sum_votes_actors']/data['acu_votes_actors']\n",
    "# Agregamos la cantidad de actores y actrices del elenco en cada pelicula\n",
    "data = pd.merge(data, cant_actor_and_actress_group, on=\"imdb_title_id\",how='left')\n",
    "data.rename(columns={'imdb_name_id':'cant_elenco'},inplace=True)\n",
    "# Agregamos la cantidad de actores del elenco en cada pelicula\n",
    "data = pd.merge(data, cant_actors_group, on=\"imdb_title_id\",how='left')\n",
    "data.rename(columns={'imdb_name_id':'actores'},inplace=True)\n",
    "# Agregamos la cantidad de actrices del elenco en cada pelicula\n",
    "data = pd.merge(data, cant_actress_group, on=\"imdb_title_id\",how='left')\n",
    "data.rename(columns={'imdb_name_id':'actrices'},inplace=True)\n",
    "# Agregamos el ratio de mujeres en el elenco en cada pelicula\n",
    "data['mujeres_elenco'] = data['actrices']/data['cant_elenco'] \n",
    "data.mujeres_elenco.fillna(0, inplace = True)"
   ]
  },
  {
   "cell_type": "code",
   "execution_count": 150,
   "id": "concerned-oasis",
   "metadata": {},
   "outputs": [],
   "source": [
    "# Generamos la suma de votos acumulados de todos los directores para cada pelicula\n",
    "directors_acu_votes_group = directors.groupby('imdb_title_id').acu_votes.sum()\n",
    "# Generamos la suma de la sumatoria de votos acumulados de todos los directores para cada pelicula\n",
    "directors_acu_sum_votes_group = directors.groupby('imdb_title_id').acu_sum_votes.sum()\n",
    "# Generamos una variable con la cantidad de directores para cada pelicula\n",
    "cant_directors_group = directors.groupby('imdb_title_id').imdb_name_id.count()"
   ]
  },
  {
   "cell_type": "code",
   "execution_count": 151,
   "id": "average-divide",
   "metadata": {},
   "outputs": [],
   "source": [
    "# Agregamos a nuestro dataframe data la suma de la cantidad de votos anteriores correspondiente a directores y desechamos las peliculas que no contienen informacion\n",
    "data = pd.merge(data, directors_acu_votes_group, on=\"imdb_title_id\",how='inner')\n",
    "data.rename(columns={'acu_votes':'acu_votes_directors'},inplace=True)\n",
    "# Agregamos la suma de la sumatoria de votos anteriores correspondiente a los directores\n",
    "data = pd.merge(data, directors_acu_sum_votes_group, on=\"imdb_title_id\",how='left')\n",
    "data.rename(columns={'acu_sum_votes':'acu_sum_votes_directors'},inplace=True)\n",
    "# Agregamos una variable con el voto promedios de todos los votos acumulados de peliculas en las que participo algun director\n",
    "data['avg_acu_votes_directors'] = data['acu_sum_votes_directors']/data['acu_votes_directors']\n",
    "# Agregamos la cantidad de directores en cada pelicula\n",
    "data = pd.merge(data, cant_directors_group, on=\"imdb_title_id\",how='left')\n",
    "data.rename(columns={'imdb_name_id':'cant_directores'},inplace=True)"
   ]
  },
  {
   "cell_type": "code",
   "execution_count": 152,
   "id": "medium-occasion",
   "metadata": {},
   "outputs": [
    {
     "data": {
      "text/html": [
       "<div>\n",
       "<style scoped>\n",
       "    .dataframe tbody tr th:only-of-type {\n",
       "        vertical-align: middle;\n",
       "    }\n",
       "\n",
       "    .dataframe tbody tr th {\n",
       "        vertical-align: top;\n",
       "    }\n",
       "\n",
       "    .dataframe thead th {\n",
       "        text-align: right;\n",
       "    }\n",
       "</style>\n",
       "<table border=\"1\" class=\"dataframe\">\n",
       "  <thead>\n",
       "    <tr style=\"text-align: right;\">\n",
       "      <th></th>\n",
       "      <th>imdb_title_id</th>\n",
       "      <th>title</th>\n",
       "      <th>original_title</th>\n",
       "      <th>year</th>\n",
       "      <th>genre</th>\n",
       "      <th>duration</th>\n",
       "      <th>language</th>\n",
       "      <th>director</th>\n",
       "      <th>writer</th>\n",
       "      <th>production_company</th>\n",
       "      <th>...</th>\n",
       "      <th>spring</th>\n",
       "      <th>summer</th>\n",
       "      <th>autumn</th>\n",
       "      <th>acu_votes_actors</th>\n",
       "      <th>avg_acu_votes_actors</th>\n",
       "      <th>cant_elenco</th>\n",
       "      <th>mujeres_elenco</th>\n",
       "      <th>acu_votes_directors</th>\n",
       "      <th>avg_acu_votes_directors</th>\n",
       "      <th>cant_directores</th>\n",
       "    </tr>\n",
       "  </thead>\n",
       "  <tbody>\n",
       "    <tr>\n",
       "      <th>0</th>\n",
       "      <td>tt0035423</td>\n",
       "      <td>Kate &amp; Leopold</td>\n",
       "      <td>Kate &amp; Leopold</td>\n",
       "      <td>2001</td>\n",
       "      <td>Comedy, Fantasy, Romance</td>\n",
       "      <td>118</td>\n",
       "      <td>English, French</td>\n",
       "      <td>James Mangold</td>\n",
       "      <td>Steven Rogers, James Mangold</td>\n",
       "      <td>Konrad Pictures</td>\n",
       "      <td>...</td>\n",
       "      <td>0</td>\n",
       "      <td>0</td>\n",
       "      <td>0</td>\n",
       "      <td>1883368.0</td>\n",
       "      <td>6.725040</td>\n",
       "      <td>4</td>\n",
       "      <td>0.25</td>\n",
       "      <td>369672.0</td>\n",
       "      <td>6.943800</td>\n",
       "      <td>1</td>\n",
       "    </tr>\n",
       "    <tr>\n",
       "      <th>1</th>\n",
       "      <td>tt0118589</td>\n",
       "      <td>Glitter</td>\n",
       "      <td>Glitter</td>\n",
       "      <td>2001</td>\n",
       "      <td>Drama, Music, Romance</td>\n",
       "      <td>104</td>\n",
       "      <td>English</td>\n",
       "      <td>Vondie Curtis-Hall</td>\n",
       "      <td>Cheryl L. West, Kate Lanier</td>\n",
       "      <td>Twentieth Century Fox</td>\n",
       "      <td>...</td>\n",
       "      <td>0</td>\n",
       "      <td>0</td>\n",
       "      <td>1</td>\n",
       "      <td>91428.0</td>\n",
       "      <td>2.429943</td>\n",
       "      <td>4</td>\n",
       "      <td>0.50</td>\n",
       "      <td>36255.0</td>\n",
       "      <td>4.109039</td>\n",
       "      <td>1</td>\n",
       "    </tr>\n",
       "    <tr>\n",
       "      <th>2</th>\n",
       "      <td>tt0120667</td>\n",
       "      <td>I Fantastici 4</td>\n",
       "      <td>Fantastic Four</td>\n",
       "      <td>2005</td>\n",
       "      <td>Action, Adventure, Fantasy</td>\n",
       "      <td>106</td>\n",
       "      <td>English</td>\n",
       "      <td>Tim Story</td>\n",
       "      <td>Mark Frost, Michael France</td>\n",
       "      <td>Twentieth Century Fox</td>\n",
       "      <td>...</td>\n",
       "      <td>0</td>\n",
       "      <td>1</td>\n",
       "      <td>0</td>\n",
       "      <td>2536021.0</td>\n",
       "      <td>6.451394</td>\n",
       "      <td>4</td>\n",
       "      <td>0.25</td>\n",
       "      <td>376543.0</td>\n",
       "      <td>5.620098</td>\n",
       "      <td>1</td>\n",
       "    </tr>\n",
       "    <tr>\n",
       "      <th>3</th>\n",
       "      <td>tt0120679</td>\n",
       "      <td>Frida</td>\n",
       "      <td>Frida</td>\n",
       "      <td>2002</td>\n",
       "      <td>Biography, Drama, Romance</td>\n",
       "      <td>123</td>\n",
       "      <td>English, French, Russian</td>\n",
       "      <td>Julie Taymor</td>\n",
       "      <td>Hayden Herrera, Clancy Sigal</td>\n",
       "      <td>Handprint Entertainment</td>\n",
       "      <td>...</td>\n",
       "      <td>0</td>\n",
       "      <td>0</td>\n",
       "      <td>0</td>\n",
       "      <td>1248558.0</td>\n",
       "      <td>6.681328</td>\n",
       "      <td>4</td>\n",
       "      <td>0.50</td>\n",
       "      <td>99121.0</td>\n",
       "      <td>7.341190</td>\n",
       "      <td>1</td>\n",
       "    </tr>\n",
       "    <tr>\n",
       "      <th>4</th>\n",
       "      <td>tt0120681</td>\n",
       "      <td>La vera storia di Jack lo Squartatore</td>\n",
       "      <td>From Hell</td>\n",
       "      <td>2001</td>\n",
       "      <td>Horror, Mystery, Thriller</td>\n",
       "      <td>122</td>\n",
       "      <td>English</td>\n",
       "      <td>Albert Hughes, Allen Hughes</td>\n",
       "      <td>Alan Moore, Eddie Campbell</td>\n",
       "      <td>Twentieth Century Fox</td>\n",
       "      <td>...</td>\n",
       "      <td>0</td>\n",
       "      <td>0</td>\n",
       "      <td>0</td>\n",
       "      <td>4324996.0</td>\n",
       "      <td>7.288223</td>\n",
       "      <td>4</td>\n",
       "      <td>0.25</td>\n",
       "      <td>429042.0</td>\n",
       "      <td>6.973805</td>\n",
       "      <td>2</td>\n",
       "    </tr>\n",
       "  </tbody>\n",
       "</table>\n",
       "<p>5 rows × 33 columns</p>\n",
       "</div>"
      ],
      "text/plain": [
       "  imdb_title_id                                  title  original_title  year  \\\n",
       "0     tt0035423                         Kate & Leopold  Kate & Leopold  2001   \n",
       "1     tt0118589                                Glitter         Glitter  2001   \n",
       "2     tt0120667                         I Fantastici 4  Fantastic Four  2005   \n",
       "3     tt0120679                                  Frida           Frida  2002   \n",
       "4     tt0120681  La vera storia di Jack lo Squartatore       From Hell  2001   \n",
       "\n",
       "                        genre  duration                  language  \\\n",
       "0    Comedy, Fantasy, Romance       118           English, French   \n",
       "1       Drama, Music, Romance       104                   English   \n",
       "2  Action, Adventure, Fantasy       106                   English   \n",
       "3   Biography, Drama, Romance       123  English, French, Russian   \n",
       "4   Horror, Mystery, Thriller       122                   English   \n",
       "\n",
       "                      director                        writer  \\\n",
       "0                James Mangold  Steven Rogers, James Mangold   \n",
       "1           Vondie Curtis-Hall   Cheryl L. West, Kate Lanier   \n",
       "2                    Tim Story    Mark Frost, Michael France   \n",
       "3                 Julie Taymor  Hayden Herrera, Clancy Sigal   \n",
       "4  Albert Hughes, Allen Hughes    Alan Moore, Eddie Campbell   \n",
       "\n",
       "        production_company  ... spring summer  autumn  acu_votes_actors  \\\n",
       "0          Konrad Pictures  ...      0      0       0         1883368.0   \n",
       "1    Twentieth Century Fox  ...      0      0       1           91428.0   \n",
       "2    Twentieth Century Fox  ...      0      1       0         2536021.0   \n",
       "3  Handprint Entertainment  ...      0      0       0         1248558.0   \n",
       "4    Twentieth Century Fox  ...      0      0       0         4324996.0   \n",
       "\n",
       "  avg_acu_votes_actors cant_elenco  mujeres_elenco  acu_votes_directors  \\\n",
       "0             6.725040           4            0.25             369672.0   \n",
       "1             2.429943           4            0.50              36255.0   \n",
       "2             6.451394           4            0.25             376543.0   \n",
       "3             6.681328           4            0.50              99121.0   \n",
       "4             7.288223           4            0.25             429042.0   \n",
       "\n",
       "   avg_acu_votes_directors  cant_directores  \n",
       "0                 6.943800                1  \n",
       "1                 4.109039                1  \n",
       "2                 5.620098                1  \n",
       "3                 7.341190                1  \n",
       "4                 6.973805                2  \n",
       "\n",
       "[5 rows x 33 columns]"
      ]
     },
     "execution_count": 152,
     "metadata": {},
     "output_type": "execute_result"
    }
   ],
   "source": [
    "data = data.drop(['acu_sum_votes_actors','actores','actrices','acu_sum_votes_directors'], axis=1)\n",
    "data.head(5)"
   ]
  },
  {
   "cell_type": "markdown",
   "id": "collaborative-youth",
   "metadata": {},
   "source": [
    "#### Distribucion de avg_acu_votes_actors"
   ]
  },
  {
   "cell_type": "code",
   "execution_count": 153,
   "id": "frank-primary",
   "metadata": {},
   "outputs": [
    {
     "data": {
      "image/png": "[encoded data removed]",
      "text/plain": [
       "<Figure size 432x288 with 1 Axes>"
      ]
     },
     "metadata": {},
     "output_type": "display_data"
    }
   ],
   "source": [
    "fig_restore = plt.figure()\n",
    "ax_restore = plt.axes()\n",
    "ax_restore.hist(data.avg_acu_votes_actors);"
   ]
  },
  {
   "cell_type": "markdown",
   "id": "verified-words",
   "metadata": {},
   "source": [
    "#### Distribucion de avg_acu_votes_directors"
   ]
  },
  {
   "cell_type": "code",
   "execution_count": 154,
   "id": "adaptive-accountability",
   "metadata": {},
   "outputs": [
    {
     "data": {
      "image/png": "[encoded data removed]",
      "text/plain": [
       "<Figure size 432x288 with 1 Axes>"
      ]
     },
     "metadata": {},
     "output_type": "display_data"
    }
   ],
   "source": [
    "fig_restore = plt.figure()\n",
    "ax_restore = plt.axes()\n",
    "ax_restore.hist(data.avg_acu_votes_directors);"
   ]
  },
  {
   "cell_type": "markdown",
   "id": "leading-horizon",
   "metadata": {},
   "source": [
    "#### Distribucion de acu_votes_actors"
   ]
  },
  {
   "cell_type": "code",
   "execution_count": 155,
   "id": "premium-anderson",
   "metadata": {},
   "outputs": [
    {
     "data": {
      "image/png": "[encoded data removed]",
      "text/plain": [
       "<Figure size 432x288 with 1 Axes>"
      ]
     },
     "metadata": {},
     "output_type": "display_data"
    }
   ],
   "source": [
    "fig_restore = plt.figure()\n",
    "ax_restore = plt.axes()\n",
    "plt.xlim(xmin=0, xmax =20000000)\n",
    "plt.ylim(ymin=0, ymax = 4000)\n",
    "ax_restore.hist(data.acu_votes_actors, bins=40);"
   ]
  },
  {
   "cell_type": "markdown",
   "id": "hourly-designer",
   "metadata": {},
   "source": [
    "#### Distribucion de acu_votes_directors"
   ]
  },
  {
   "cell_type": "code",
   "execution_count": 156,
   "id": "every-percentage",
   "metadata": {},
   "outputs": [
    {
     "data": {
      "image/png": "[encoded data removed]",
      "text/plain": [
       "<Figure size 432x288 with 1 Axes>"
      ]
     },
     "metadata": {},
     "output_type": "display_data"
    }
   ],
   "source": [
    "fig_restore = plt.figure()\n",
    "ax_restore = plt.axes()\n",
    "plt.xlim(xmin=0, xmax =4000000)\n",
    "plt.ylim(ymin=0, ymax = 6000)\n",
    "ax_restore.hist(data.acu_votes_directors, bins=50);"
   ]
  },
  {
   "cell_type": "markdown",
   "id": "apparent-enclosure",
   "metadata": {},
   "source": [
    "<a id=\"section_genero\"></a>\n",
    "\n",
    "### Genero\n",
    "\n",
    "[volver a TOC](#section_toc)"
   ]
  },
  {
   "cell_type": "code",
   "execution_count": 157,
   "id": "operating-rally",
   "metadata": {},
   "outputs": [],
   "source": [
    "#Trabajmos sobre la feature genre. \n",
    "genre_str=data.genre.str\n",
    "genre_separado = genre_str.split(',', expand=True)"
   ]
  },
  {
   "cell_type": "code",
   "execution_count": 158,
   "id": "crazy-harmony",
   "metadata": {},
   "outputs": [
    {
     "data": {
      "text/html": [
       "<div>\n",
       "<style scoped>\n",
       "    .dataframe tbody tr th:only-of-type {\n",
       "        vertical-align: middle;\n",
       "    }\n",
       "\n",
       "    .dataframe tbody tr th {\n",
       "        vertical-align: top;\n",
       "    }\n",
       "\n",
       "    .dataframe thead th {\n",
       "        text-align: right;\n",
       "    }\n",
       "</style>\n",
       "<table border=\"1\" class=\"dataframe\">\n",
       "  <thead>\n",
       "    <tr style=\"text-align: right;\">\n",
       "      <th></th>\n",
       "      <th>0</th>\n",
       "      <th>1</th>\n",
       "      <th>2</th>\n",
       "    </tr>\n",
       "  </thead>\n",
       "  <tbody>\n",
       "    <tr>\n",
       "      <th>0</th>\n",
       "      <td>Comedy</td>\n",
       "      <td>Fantasy</td>\n",
       "      <td>Romance</td>\n",
       "    </tr>\n",
       "    <tr>\n",
       "      <th>1</th>\n",
       "      <td>Drama</td>\n",
       "      <td>Music</td>\n",
       "      <td>Romance</td>\n",
       "    </tr>\n",
       "    <tr>\n",
       "      <th>2</th>\n",
       "      <td>Action</td>\n",
       "      <td>Adventure</td>\n",
       "      <td>Fantasy</td>\n",
       "    </tr>\n",
       "    <tr>\n",
       "      <th>3</th>\n",
       "      <td>Biography</td>\n",
       "      <td>Drama</td>\n",
       "      <td>Romance</td>\n",
       "    </tr>\n",
       "    <tr>\n",
       "      <th>4</th>\n",
       "      <td>Horror</td>\n",
       "      <td>Mystery</td>\n",
       "      <td>Thriller</td>\n",
       "    </tr>\n",
       "    <tr>\n",
       "      <th>...</th>\n",
       "      <td>...</td>\n",
       "      <td>...</td>\n",
       "      <td>...</td>\n",
       "    </tr>\n",
       "    <tr>\n",
       "      <th>7394</th>\n",
       "      <td>Drama</td>\n",
       "      <td>None</td>\n",
       "      <td>None</td>\n",
       "    </tr>\n",
       "    <tr>\n",
       "      <th>7395</th>\n",
       "      <td>Biography</td>\n",
       "      <td>Drama</td>\n",
       "      <td>Music</td>\n",
       "    </tr>\n",
       "    <tr>\n",
       "      <th>7396</th>\n",
       "      <td>Comedy</td>\n",
       "      <td>Drama</td>\n",
       "      <td>None</td>\n",
       "    </tr>\n",
       "    <tr>\n",
       "      <th>7397</th>\n",
       "      <td>Drama</td>\n",
       "      <td>Horror</td>\n",
       "      <td>Romance</td>\n",
       "    </tr>\n",
       "    <tr>\n",
       "      <th>7398</th>\n",
       "      <td>Comedy</td>\n",
       "      <td>Drama</td>\n",
       "      <td>None</td>\n",
       "    </tr>\n",
       "  </tbody>\n",
       "</table>\n",
       "<p>7399 rows × 3 columns</p>\n",
       "</div>"
      ],
      "text/plain": [
       "              0           1          2\n",
       "0        Comedy     Fantasy    Romance\n",
       "1         Drama       Music    Romance\n",
       "2        Action   Adventure    Fantasy\n",
       "3     Biography       Drama    Romance\n",
       "4        Horror     Mystery   Thriller\n",
       "...         ...         ...        ...\n",
       "7394      Drama        None       None\n",
       "7395  Biography       Drama      Music\n",
       "7396     Comedy       Drama       None\n",
       "7397      Drama      Horror    Romance\n",
       "7398     Comedy       Drama       None\n",
       "\n",
       "[7399 rows x 3 columns]"
      ]
     },
     "execution_count": 158,
     "metadata": {},
     "output_type": "execute_result"
    }
   ],
   "source": [
    "genre_separado"
   ]
  },
  {
   "cell_type": "code",
   "execution_count": 159,
   "id": "buried-brooklyn",
   "metadata": {},
   "outputs": [],
   "source": [
    "genre_separado.rename(columns={0:'first_genre'}, inplace=True)"
   ]
  },
  {
   "cell_type": "code",
   "execution_count": 160,
   "id": "alien-hospital",
   "metadata": {},
   "outputs": [],
   "source": [
    "#nos quedamos con los primeros generos\n",
    "genre_separado= genre_separado.first_genre"
   ]
  },
  {
   "cell_type": "code",
   "execution_count": 161,
   "id": "threaded-storage",
   "metadata": {},
   "outputs": [
    {
     "data": {
      "text/plain": [
       "Comedy       0.256656\n",
       "Drama        0.246114\n",
       "Action       0.202325\n",
       "Crime        0.065955\n",
       "Biography    0.055683\n",
       "Animation    0.053386\n",
       "Horror       0.047169\n",
       "Adventure    0.045952\n",
       "Thriller     0.007569\n",
       "Fantasy      0.005001\n",
       "Family       0.003784\n",
       "Mystery      0.003784\n",
       "Romance      0.002433\n",
       "Sci-Fi       0.001352\n",
       "Musical      0.000811\n",
       "History      0.000541\n",
       "Music        0.000541\n",
       "War          0.000541\n",
       "Sport        0.000270\n",
       "Western      0.000135\n",
       "Name: first_genre, dtype: float64"
      ]
     },
     "execution_count": 161,
     "metadata": {},
     "output_type": "execute_result"
    }
   ],
   "source": [
    "#A pesar de que hay peliculas que cuentan con más de un género, se cumple la lógica de cuales son los géneros más populares.\n",
    "#Comedy, Drama y Action abarcan el 70% de los registros.\n",
    "genre_separado.value_counts(normalize=True)"
   ]
  },
  {
   "cell_type": "code",
   "execution_count": 162,
   "id": "handed-realtor",
   "metadata": {},
   "outputs": [],
   "source": [
    "#Generamos las dummies\n",
    "genre_dummy= pd.get_dummies(genre_separado)"
   ]
  },
  {
   "cell_type": "code",
   "execution_count": 163,
   "id": "guilty-teens",
   "metadata": {},
   "outputs": [],
   "source": [
    "#Creamos una nueva variable que sea la combinacion del 30% del total, formado por los generos menos populares.\n",
    "genre_dummy['others_genres']= genre_dummy['Crime'] + genre_dummy['Biography'] + genre_dummy['Animation'] + genre_dummy['Horror'] + genre_dummy['Adventure'] + genre_dummy['Thriller'] + genre_dummy['Fantasy'] + genre_dummy['Family']+genre_dummy['Mystery'] + genre_dummy['Romance'] + genre_dummy['Sci-Fi']+ genre_dummy['Musical'] + genre_dummy['Music'] + genre_dummy['War'] + genre_dummy['History'] + genre_dummy['Sport'] + genre_dummy['Western']"
   ]
  },
  {
   "cell_type": "code",
   "execution_count": 164,
   "id": "large-bahamas",
   "metadata": {},
   "outputs": [],
   "source": [
    "#Dropeamos los géneros que conforman ahora la columna 'others_genres'.\n",
    "genre_dummy= genre_dummy.drop(['Crime', 'Biography', 'Animation', 'Horror', 'Adventure', 'Thriller', 'Fantasy',\n",
    "                               'Family', 'Mystery', 'Romance', 'Sci-Fi', 'Musical', 'Music', 'War', 'History', 'Sport', 'Western'], axis=1)"
   ]
  },
  {
   "cell_type": "code",
   "execution_count": 165,
   "id": "destroyed-assets",
   "metadata": {},
   "outputs": [
    {
     "data": {
      "text/plain": [
       "1899"
      ]
     },
     "execution_count": 165,
     "metadata": {},
     "output_type": "execute_result"
    }
   ],
   "source": [
    "#Nos fijamos que se siga cumpliendo la misma proporcion vista antes.\n",
    "genre_dummy.Comedy.sum()"
   ]
  },
  {
   "cell_type": "code",
   "execution_count": 166,
   "id": "embedded-boost",
   "metadata": {},
   "outputs": [
    {
     "data": {
      "text/plain": [
       "1497"
      ]
     },
     "execution_count": 166,
     "metadata": {},
     "output_type": "execute_result"
    }
   ],
   "source": [
    "genre_dummy.Action.sum()"
   ]
  },
  {
   "cell_type": "code",
   "execution_count": 167,
   "id": "sitting-temperature",
   "metadata": {},
   "outputs": [
    {
     "data": {
      "text/plain": [
       "1821"
      ]
     },
     "execution_count": 167,
     "metadata": {},
     "output_type": "execute_result"
    }
   ],
   "source": [
    "genre_dummy.Drama.sum()"
   ]
  },
  {
   "cell_type": "code",
   "execution_count": 168,
   "id": "alive-celebration",
   "metadata": {},
   "outputs": [
    {
     "data": {
      "text/plain": [
       "2182"
      ]
     },
     "execution_count": 168,
     "metadata": {},
     "output_type": "execute_result"
    }
   ],
   "source": [
    "genre_dummy.others_genres.sum()"
   ]
  },
  {
   "cell_type": "code",
   "execution_count": 169,
   "id": "packed-notebook",
   "metadata": {},
   "outputs": [],
   "source": [
    "#dropeamos la primer columna para no tener luego problema de multicolinealidad.\n",
    "genre_dummy=genre_dummy.drop(['Action'], axis=1)"
   ]
  },
  {
   "cell_type": "code",
   "execution_count": 170,
   "id": "southeast-wonder",
   "metadata": {},
   "outputs": [],
   "source": [
    "#Unimos lo trabajado en la feature 'Genre' al dataframe original.\n",
    "data= pd.concat([data, genre_dummy], axis=1)"
   ]
  },
  {
   "cell_type": "markdown",
   "id": "mexican-colony",
   "metadata": {},
   "source": [
    "#### Volvemos a fijarnos la proporción de nulos de nuestras features."
   ]
  },
  {
   "cell_type": "code",
   "execution_count": 171,
   "id": "illegal-eugene",
   "metadata": {},
   "outputs": [
    {
     "data": {
      "image/png": "[encoded data removed]",
      "text/plain": [
       "<Figure size 432x288 with 1 Axes>"
      ]
     },
     "metadata": {},
     "output_type": "display_data"
    }
   ],
   "source": [
    "def mostrar_nulos(df):\n",
    "    \n",
    "    nulos = df.isnull().sum() / len(df)\n",
    "    nulos = nulos[nulos > 0]\n",
    "    nulos.sort_values(inplace=True)\n",
    "    \n",
    "    nulos = nulos.to_frame()\n",
    "    nulos.columns = ['total']\n",
    "    nulos.index.names = ['variable']\n",
    "    nulos['variable'] = nulos.index\n",
    "    # ploteo\n",
    "    sns.set(style=\"whitegrid\", color_codes=True)\n",
    "    sns.barplot(x='variable', y='total', data=nulos)\n",
    "    plt.xticks(rotation = 90)\n",
    "    plt.show()\n",
    "mostrar_nulos(data)"
   ]
  },
  {
   "cell_type": "markdown",
   "id": "extra-directory",
   "metadata": {},
   "source": [
    "<a id=\"section_heatmap\"></a>\n",
    "\n",
    "### Heatmap\n",
    "\n",
    "[volver a TOC](#section_toc)"
   ]
  },
  {
   "cell_type": "code",
   "execution_count": 172,
   "id": "correct-bundle",
   "metadata": {},
   "outputs": [],
   "source": [
    "#Dropeamos las variables que no formarán parte de nuestros modelos.\n",
    "data=data.drop(['reviews_from_users', 'reviews_from_critics', 'description', 'production_company','title', 'language', 'writer', 'imdb_title_id', 'original_title', 'year', 'genre', 'director', 'actors', 'avg_vote', 'votes',\n",
    "                       'worlwide_gross_income', 'wwgi_$', 'budget','cant_elenco'], axis=1)"
   ]
  },
  {
   "cell_type": "code",
   "execution_count": 173,
   "id": "pharmaceutical-craft",
   "metadata": {},
   "outputs": [
    {
     "data": {
      "text/plain": [
       "<AxesSubplot:>"
      ]
     },
     "execution_count": 173,
     "metadata": {},
     "output_type": "execute_result"
    },
    {
     "data": {
      "image/png": "[encoded data removed]",
      "text/plain": [
       "<Figure size 360x648 with 2 Axes>"
      ]
     },
     "metadata": {},
     "output_type": "display_data"
    }
   ],
   "source": [
    "# Vemos la relación de nuestra target con las feautures\n",
    "plt.figure(figsize=(5,9))\n",
    "sns.heatmap(data.corr()[['markup']], annot=True)"
   ]
  },
  {
   "cell_type": "markdown",
   "id": "lyric-organizer",
   "metadata": {},
   "source": [
    "#### Como podemos observar son 5 las features con mayor correlacion con la variable target, estas son: budget_$, USA, Europe, acu_votes_directors, avg_acu_votes_directors"
   ]
  },
  {
   "cell_type": "markdown",
   "id": "structured-camping",
   "metadata": {},
   "source": [
    "<a id=\"section_target_final\"></a>\n",
    "\n",
    "## Discretización del Target\n",
    "\n",
    "[volver a TOC](#section_toc)"
   ]
  },
  {
   "cell_type": "code",
   "execution_count": 174,
   "id": "suited-accordance",
   "metadata": {},
   "outputs": [
    {
     "data": {
      "image/png": "[encoded data removed]",
      "text/plain": [
       "<Figure size 864x576 with 1 Axes>"
      ]
     },
     "metadata": {},
     "output_type": "display_data"
    }
   ],
   "source": [
    "fig, ax = plt.subplots(figsize=(12,8))\n",
    "\n",
    "N, bins, patches = ax.hist(data['markup'], bins=100, edgecolor='white', linewidth=1)\n",
    "\n",
    "for i in range(0,3):\n",
    "    patches[i].set_facecolor('#bf7375')\n",
    "    \n",
    "for i in range(3, len(patches)):\n",
    "    patches[i].set_facecolor('#86bf91')\n",
    "\n",
    "    \n",
    "# Remove title\n",
    "ax.set_title(\"Distribución películas según markup (2001-2020)\", pad=15, weight='bold', size=14)\n",
    "\n",
    "# Set x-axis label\n",
    "ax.set_xlabel(\"Markup\", labelpad=20, weight='bold', size=12)\n",
    "\n",
    "# Set y-axis label\n",
    "ax.set_ylabel(\"cantidad\", labelpad=20, weight='bold', size=12)\n",
    "ax.figsize=(12,8)\n",
    "plt.xlim(xmin=0, xmax =8)\n",
    "\n",
    "plt.show()"
   ]
  },
  {
   "cell_type": "markdown",
   "id": "indonesian-ordering",
   "metadata": {},
   "source": [
    "#### . Los valores que estan en rojo son peliculas que sus ingresos no superaron sus costos\n",
    "#### . Los valores verdes lograron un ROI (return on investment) superior al 50%"
   ]
  },
  {
   "cell_type": "code",
   "execution_count": 175,
   "id": "laughing-better",
   "metadata": {},
   "outputs": [
    {
     "data": {
      "text/plain": [
       "mala inversion     0.654548\n",
       "buena inversion    0.345452\n",
       "Name: markup, dtype: float64"
      ]
     },
     "execution_count": 175,
     "metadata": {},
     "output_type": "execute_result"
    }
   ],
   "source": [
    "# Agregamos una nueva columna con los valores \"mala inversion\" o \"buena inversion\"\n",
    "bins = (0, 1.5, 100)\n",
    "group_labels = ['mala inversion', 'buena inversion']\n",
    "A_categories_labels = pd.cut(data.markup, bins, right = True, include_lowest = True, labels = group_labels)\n",
    "A_categories_labels.value_counts(normalize= True)"
   ]
  },
  {
   "cell_type": "code",
   "execution_count": 176,
   "id": "permanent-thriller",
   "metadata": {},
   "outputs": [],
   "source": [
    "# Agregamos la nueva columna al dataset\n",
    "data['markup'] = A_categories_labels"
   ]
  },
  {
   "cell_type": "code",
   "execution_count": 177,
   "id": "refined-phone",
   "metadata": {},
   "outputs": [
    {
     "data": {
      "text/html": [
       "<div>\n",
       "<style scoped>\n",
       "    .dataframe tbody tr th:only-of-type {\n",
       "        vertical-align: middle;\n",
       "    }\n",
       "\n",
       "    .dataframe tbody tr th {\n",
       "        vertical-align: top;\n",
       "    }\n",
       "\n",
       "    .dataframe thead th {\n",
       "        text-align: right;\n",
       "    }\n",
       "</style>\n",
       "<table border=\"1\" class=\"dataframe\">\n",
       "  <thead>\n",
       "    <tr style=\"text-align: right;\">\n",
       "      <th></th>\n",
       "      <th>buena inversion</th>\n",
       "    </tr>\n",
       "  </thead>\n",
       "  <tbody>\n",
       "    <tr>\n",
       "      <th>0</th>\n",
       "      <td>1</td>\n",
       "    </tr>\n",
       "    <tr>\n",
       "      <th>1</th>\n",
       "      <td>0</td>\n",
       "    </tr>\n",
       "    <tr>\n",
       "      <th>2</th>\n",
       "      <td>1</td>\n",
       "    </tr>\n",
       "    <tr>\n",
       "      <th>3</th>\n",
       "      <td>1</td>\n",
       "    </tr>\n",
       "    <tr>\n",
       "      <th>4</th>\n",
       "      <td>1</td>\n",
       "    </tr>\n",
       "  </tbody>\n",
       "</table>\n",
       "</div>"
      ],
      "text/plain": [
       "   buena inversion\n",
       "0                1\n",
       "1                0\n",
       "2                1\n",
       "3                1\n",
       "4                1"
      ]
     },
     "execution_count": 177,
     "metadata": {},
     "output_type": "execute_result"
    }
   ],
   "source": [
    "dummies_markup= pd.get_dummies(data['markup'], drop_first=True)\n",
    "dummies_markup.head()"
   ]
  },
  {
   "cell_type": "code",
   "execution_count": 178,
   "id": "collected-mumbai",
   "metadata": {},
   "outputs": [
    {
     "name": "stdout",
     "output_type": "stream",
     "text": [
      "<class 'pandas.core.frame.DataFrame'>\n",
      "Int64Index: 7399 entries, 0 to 7398\n",
      "Data columns (total 18 columns):\n",
      " #   Column                   Non-Null Count  Dtype   \n",
      "---  ------                   --------------  -----   \n",
      " 0   duration                 7399 non-null   int64   \n",
      " 1   budget_$                 7399 non-null   float64 \n",
      " 2   markup                   7399 non-null   category\n",
      " 3   USA                      7399 non-null   uint8   \n",
      " 4   Europe                   7399 non-null   uint8   \n",
      " 5   spring                   7399 non-null   uint8   \n",
      " 6   summer                   7399 non-null   uint8   \n",
      " 7   autumn                   7399 non-null   uint8   \n",
      " 8   acu_votes_actors         7399 non-null   float64 \n",
      " 9   avg_acu_votes_actors     7399 non-null   float64 \n",
      " 10  mujeres_elenco           7399 non-null   float64 \n",
      " 11  acu_votes_directors      7399 non-null   float64 \n",
      " 12  avg_acu_votes_directors  7399 non-null   float64 \n",
      " 13  cant_directores          7399 non-null   int64   \n",
      " 14  Comedy                   7399 non-null   uint8   \n",
      " 15  Drama                    7399 non-null   uint8   \n",
      " 16  others_genres            7399 non-null   uint8   \n",
      " 17  buena inversion          7399 non-null   uint8   \n",
      "dtypes: category(1), float64(6), int64(2), uint8(9)\n",
      "memory usage: 592.6 KB\n"
     ]
    }
   ],
   "source": [
    "# Unimos los dataframes\n",
    "data = pd.concat([data, dummies_markup], axis=1)\n",
    "data.info ()"
   ]
  },
  {
   "cell_type": "code",
   "execution_count": 179,
   "id": "centered-compound",
   "metadata": {},
   "outputs": [],
   "source": [
    "data= data.drop('markup',axis=1)"
   ]
  },
  {
   "cell_type": "markdown",
   "id": "hired-danger",
   "metadata": {},
   "source": [
    "<a id=\"section_modelos\"></a>\n",
    "\n",
    "## Modelos de Clasificación Pipelines\n",
    "\n",
    "[volver a TOC](#section_toc)"
   ]
  },
  {
   "cell_type": "code",
   "execution_count": 180,
   "id": "sporting-flash",
   "metadata": {},
   "outputs": [],
   "source": [
    "#Separamos las features y target en train y test.\n",
    "X = data.drop(['buena inversion'], axis=1)\n",
    "y = data['buena inversion']\n",
    "\n",
    "X_train, X_test_final, y_train, y_test_final=train_test_split(X,y,test_size=0.3, random_state=159, stratify=y)"
   ]
  },
  {
   "cell_type": "code",
   "execution_count": 181,
   "id": "patent-despite",
   "metadata": {},
   "outputs": [
    {
     "data": {
      "text/plain": [
       "0    0.654567\n",
       "1    0.345433\n",
       "Name: buena inversion, dtype: float64"
      ]
     },
     "execution_count": 181,
     "metadata": {},
     "output_type": "execute_result"
    }
   ],
   "source": [
    "#Observamos que \"mala inversion\" en nuestra variable target ocupa el aprox el 70%, haciendo de este un problema con clases desbalanceadas.\n",
    "y_train.value_counts(normalize=True)"
   ]
  },
  {
   "cell_type": "markdown",
   "id": "alternative-blanket",
   "metadata": {},
   "source": [
    "<a id=\"section_smotenc\"></a>\n",
    "\n",
    "### SMOTENC\n",
    "\n",
    "[volver a TOC](#section_toc)"
   ]
  },
  {
   "cell_type": "code",
   "execution_count": 182,
   "id": "imperial-oriental",
   "metadata": {},
   "outputs": [],
   "source": [
    "#Como nuestro target esta desbalanceado procederemos a balancearlo haciendo un oversampling con SMOTENC.\n",
    "smote=SMOTENC(categorical_features=[1, 2, 4, 5, 6, 7, 8],sampling_strategy='minority',random_state=159);\n",
    "\n",
    "X_train_sm,y_train_sm = smote.fit_resample(X_train,y_train);\n"
   ]
  },
  {
   "cell_type": "code",
   "execution_count": 183,
   "id": "foreign-defeat",
   "metadata": {},
   "outputs": [
    {
     "data": {
      "text/plain": [
       "0    3390\n",
       "1    3390\n",
       "Name: buena inversion, dtype: int64"
      ]
     },
     "execution_count": 183,
     "metadata": {},
     "output_type": "execute_result"
    }
   ],
   "source": [
    "y_train_sm.value_counts()"
   ]
  },
  {
   "cell_type": "code",
   "execution_count": 184,
   "id": "adult-software",
   "metadata": {},
   "outputs": [
    {
     "data": {
      "text/plain": [
       "0    1453\n",
       "1     767\n",
       "Name: buena inversion, dtype: int64"
      ]
     },
     "execution_count": 184,
     "metadata": {},
     "output_type": "execute_result"
    }
   ],
   "source": [
    "y_test_final.value_counts()"
   ]
  },
  {
   "cell_type": "markdown",
   "id": "wireless-environment",
   "metadata": {},
   "source": [
    "#### Vamos a correr modelos base como KNN o Regresión Logística, asi tambien modelos robustos como RandomForest o XGBoost.\n",
    "#### El que nos arroje un mejor score lo utllizaremos con los datos de validación."
   ]
  },
  {
   "cell_type": "markdown",
   "id": "exclusive-fraud",
   "metadata": {},
   "source": [
    "<a id=\"section_knn\"></a>\n",
    "\n",
    "### KNN\n",
    "\n",
    "[volver a TOC](#section_toc)"
   ]
  },
  {
   "cell_type": "code",
   "execution_count": 185,
   "id": "widespread-license",
   "metadata": {},
   "outputs": [],
   "source": [
    "folds=StratifiedKFold(n_splits=5,shuffle=True, random_state=42)"
   ]
  },
  {
   "cell_type": "code",
   "execution_count": 186,
   "id": "artistic-token",
   "metadata": {},
   "outputs": [],
   "source": [
    "pipeline_1 = Pipeline([('scaler', StandardScaler()), \n",
    "                     ('knn', KNeighborsClassifier())])\n",
    "\n",
    "parameters_1 = {'scaler':[StandardScaler(), MinMaxScaler(),None],\n",
    "              'knn__n_neighbors':range(2,4,6),\n",
    "              'knn__weights':['uniform','distance'],}"
   ]
  },
  {
   "cell_type": "code",
   "execution_count": 187,
   "id": "permanent-findings",
   "metadata": {},
   "outputs": [
    {
     "data": {
      "text/plain": [
       "GridSearchCV(cv=StratifiedKFold(n_splits=5, random_state=42, shuffle=True),\n",
       "             estimator=Pipeline(steps=[('scaler', StandardScaler()),\n",
       "                                       ('knn', KNeighborsClassifier())]),\n",
       "             param_grid={'knn__n_neighbors': range(2, 4, 6),\n",
       "                         'knn__weights': ['uniform', 'distance'],\n",
       "                         'scaler': [StandardScaler(), MinMaxScaler(), None]},\n",
       "             scoring='precision')"
      ]
     },
     "execution_count": 187,
     "metadata": {},
     "output_type": "execute_result"
    }
   ],
   "source": [
    "grid_1 = GridSearchCV(pipeline_1, parameters_1, cv=folds, scoring='precision')\n",
    "grid_1.fit(X_train_sm,y_train_sm)"
   ]
  },
  {
   "cell_type": "code",
   "execution_count": 188,
   "id": "proper-teaching",
   "metadata": {},
   "outputs": [
    {
     "name": "stdout",
     "output_type": "stream",
     "text": [
      "Score:  0.7819251805109384\n"
     ]
    },
    {
     "data": {
      "text/plain": [
       "Pipeline(steps=[('scaler', MinMaxScaler()),\n",
       "                ('knn', KNeighborsClassifier(n_neighbors=2))])"
      ]
     },
     "execution_count": 188,
     "metadata": {},
     "output_type": "execute_result"
    }
   ],
   "source": [
    "print('Score: ',grid_1.best_score_)\n",
    "grid_1.best_estimator_"
   ]
  },
  {
   "cell_type": "markdown",
   "id": "friendly-award",
   "metadata": {},
   "source": [
    "<a id=\"section_rl\"></a>\n",
    "\n",
    "### Regresión Logistica\n",
    "\n",
    "[volver a TOC](#section_toc)"
   ]
  },
  {
   "cell_type": "code",
   "execution_count": 189,
   "id": "backed-skirt",
   "metadata": {},
   "outputs": [],
   "source": [
    "pipeline_2 = Pipeline([('scaler', StandardScaler()), \n",
    "                     ('log', LogisticRegression(solver='liblinear'))])\n",
    "\n",
    "parameters_2 = {'scaler':[StandardScaler(), MinMaxScaler(),None],\n",
    "              'log__penalty': ['l1', 'l2'],\n",
    "              'log__C': [0.01, 0.1, 1, 10, 100],}"
   ]
  },
  {
   "cell_type": "code",
   "execution_count": 190,
   "id": "brave-ensemble",
   "metadata": {},
   "outputs": [
    {
     "data": {
      "text/plain": [
       "GridSearchCV(cv=StratifiedKFold(n_splits=5, random_state=42, shuffle=True),\n",
       "             estimator=Pipeline(steps=[('scaler', StandardScaler()),\n",
       "                                       ('log',\n",
       "                                        LogisticRegression(solver='liblinear'))]),\n",
       "             param_grid={'log__C': [0.01, 0.1, 1, 10, 100],\n",
       "                         'log__penalty': ['l1', 'l2'],\n",
       "                         'scaler': [StandardScaler(), MinMaxScaler(), None]},\n",
       "             scoring='precision')"
      ]
     },
     "execution_count": 190,
     "metadata": {},
     "output_type": "execute_result"
    }
   ],
   "source": [
    "grid_2 = GridSearchCV(pipeline_2, parameters_2, cv=folds, scoring='precision')\n",
    "grid_2.fit(X_train_sm,y_train_sm)"
   ]
  },
  {
   "cell_type": "code",
   "execution_count": 191,
   "id": "requested-destination",
   "metadata": {},
   "outputs": [
    {
     "name": "stdout",
     "output_type": "stream",
     "text": [
      "Score:  0.7450336802504772\n"
     ]
    },
    {
     "data": {
      "text/plain": [
       "Pipeline(steps=[('scaler', None),\n",
       "                ('log',\n",
       "                 LogisticRegression(C=10, penalty='l1', solver='liblinear'))])"
      ]
     },
     "execution_count": 191,
     "metadata": {},
     "output_type": "execute_result"
    }
   ],
   "source": [
    "print('Score: ',grid_2.best_score_)\n",
    "grid_2.best_estimator_"
   ]
  },
  {
   "cell_type": "code",
   "execution_count": 192,
   "id": "historic-orlando",
   "metadata": {},
   "outputs": [],
   "source": [
    "# Probamos modificando los valores de C\n",
    "pipeline_3 = Pipeline([('scaler', StandardScaler()), \n",
    "                     ('log', LogisticRegression(solver='liblinear'))])\n",
    "\n",
    "parameters_3 = {'scaler':[StandardScaler(), MinMaxScaler(),None],\n",
    "              'log__penalty': ['l1', 'l2'],\n",
    "              'log__C': [0.08, 0.09, 0.1, 0.11, 0.12],}\n"
   ]
  },
  {
   "cell_type": "code",
   "execution_count": 193,
   "id": "intellectual-shanghai",
   "metadata": {},
   "outputs": [
    {
     "data": {
      "text/plain": [
       "GridSearchCV(cv=StratifiedKFold(n_splits=5, random_state=42, shuffle=True),\n",
       "             estimator=Pipeline(steps=[('scaler', StandardScaler()),\n",
       "                                       ('log',\n",
       "                                        LogisticRegression(solver='liblinear'))]),\n",
       "             param_grid={'log__C': [0.08, 0.09, 0.1, 0.11, 0.12],\n",
       "                         'log__penalty': ['l1', 'l2'],\n",
       "                         'scaler': [StandardScaler(), MinMaxScaler(), None]},\n",
       "             scoring='precision')"
      ]
     },
     "execution_count": 193,
     "metadata": {},
     "output_type": "execute_result"
    }
   ],
   "source": [
    "grid_3 = GridSearchCV(pipeline_3, parameters_3, cv=folds, scoring='precision')\n",
    "grid_3.fit(X_train_sm,y_train_sm)"
   ]
  },
  {
   "cell_type": "code",
   "execution_count": 194,
   "id": "geographic-casino",
   "metadata": {},
   "outputs": [
    {
     "name": "stdout",
     "output_type": "stream",
     "text": [
      "Score:  0.7444716103107644\n"
     ]
    },
    {
     "data": {
      "text/plain": [
       "Pipeline(steps=[('scaler', StandardScaler()),\n",
       "                ('log',\n",
       "                 LogisticRegression(C=0.12, penalty='l1', solver='liblinear'))])"
      ]
     },
     "execution_count": 194,
     "metadata": {},
     "output_type": "execute_result"
    }
   ],
   "source": [
    "print('Score: ',grid_3.best_score_)\n",
    "grid_3.best_estimator_"
   ]
  },
  {
   "cell_type": "markdown",
   "id": "intellectual-separate",
   "metadata": {},
   "source": [
    "Pipeline + preprocesamiento + DecisionTrees"
   ]
  },
  {
   "cell_type": "markdown",
   "id": "aggressive-chance",
   "metadata": {},
   "source": [
    "<a id=\"section_dt\"></a>\n",
    "\n",
    "### Decision Trees\n",
    "\n",
    "[volver a TOC](#section_toc)"
   ]
  },
  {
   "cell_type": "code",
   "execution_count": 195,
   "id": "fifth-endorsement",
   "metadata": {},
   "outputs": [],
   "source": [
    "pipeline_4 = Pipeline([('scaler', StandardScaler()), \n",
    "                     ('tree',DecisionTreeClassifier(random_state=159))])\n",
    "\n",
    "parameters_4 = {'scaler':[StandardScaler(), MinMaxScaler(),None],\n",
    "              'tree__criterion': ['gini', 'entropy'],\n",
    "              'tree__max_depth': [5, 25, 50, 75, 100],\n",
    "             'tree__max_features': [5,10,15,20]}"
   ]
  },
  {
   "cell_type": "code",
   "execution_count": 196,
   "id": "supreme-audio",
   "metadata": {},
   "outputs": [
    {
     "data": {
      "text/plain": [
       "GridSearchCV(cv=StratifiedKFold(n_splits=5, random_state=42, shuffle=True),\n",
       "             estimator=Pipeline(steps=[('scaler', StandardScaler()),\n",
       "                                       ('tree',\n",
       "                                        DecisionTreeClassifier(random_state=159))]),\n",
       "             param_grid={'scaler': [StandardScaler(), MinMaxScaler(), None],\n",
       "                         'tree__criterion': ['gini', 'entropy'],\n",
       "                         'tree__max_depth': [5, 25, 50, 75, 100],\n",
       "                         'tree__max_features': [5, 10, 15, 20]},\n",
       "             scoring='precision')"
      ]
     },
     "execution_count": 196,
     "metadata": {},
     "output_type": "execute_result"
    }
   ],
   "source": [
    "grid_4 = GridSearchCV(pipeline_4, parameters_4, cv=folds, scoring='precision')\n",
    "grid_4.fit(X_train_sm,y_train_sm)"
   ]
  },
  {
   "cell_type": "code",
   "execution_count": 197,
   "id": "ancient-employment",
   "metadata": {},
   "outputs": [
    {
     "name": "stdout",
     "output_type": "stream",
     "text": [
      "Score:  0.7413436179873452\n"
     ]
    },
    {
     "data": {
      "text/plain": [
       "Pipeline(steps=[('scaler', StandardScaler()),\n",
       "                ('tree',\n",
       "                 DecisionTreeClassifier(max_depth=5, max_features=5,\n",
       "                                        random_state=159))])"
      ]
     },
     "execution_count": 197,
     "metadata": {},
     "output_type": "execute_result"
    }
   ],
   "source": [
    "print('Score: ',grid_4.best_score_)\n",
    "grid_4.best_estimator_"
   ]
  },
  {
   "cell_type": "code",
   "execution_count": 198,
   "id": "compressed-compromise",
   "metadata": {},
   "outputs": [],
   "source": [
    "# Probamos con distintos valores de profudnidad y de features a utlizar.\n",
    "pipeline_5 = Pipeline([('scaler', StandardScaler()), \n",
    "                     ('tree',DecisionTreeClassifier(random_state=159))])\n",
    "\n",
    "parameters_5 = {'scaler':[StandardScaler(), MinMaxScaler(),None],\n",
    "              'tree__criterion': ['gini', 'entropy'],\n",
    "              'tree__max_depth': [35, 40, 50, 60, 65],\n",
    "             'tree__max_features': [5, 7, 9, 11, 13, 15]}"
   ]
  },
  {
   "cell_type": "code",
   "execution_count": 199,
   "id": "realistic-carry",
   "metadata": {},
   "outputs": [
    {
     "data": {
      "text/plain": [
       "GridSearchCV(cv=StratifiedKFold(n_splits=5, random_state=42, shuffle=True),\n",
       "             estimator=Pipeline(steps=[('scaler', StandardScaler()),\n",
       "                                       ('tree',\n",
       "                                        DecisionTreeClassifier(random_state=159))]),\n",
       "             param_grid={'scaler': [StandardScaler(), MinMaxScaler(), None],\n",
       "                         'tree__criterion': ['gini', 'entropy'],\n",
       "                         'tree__max_depth': [35, 40, 50, 60, 65],\n",
       "                         'tree__max_features': [5, 7, 9, 11, 13, 15]},\n",
       "             scoring='precision')"
      ]
     },
     "execution_count": 199,
     "metadata": {},
     "output_type": "execute_result"
    }
   ],
   "source": [
    "grid_5 = GridSearchCV(pipeline_5, parameters_5, cv=folds, scoring='precision')\n",
    "grid_5.fit(X_train_sm,y_train_sm)"
   ]
  },
  {
   "cell_type": "code",
   "execution_count": 200,
   "id": "therapeutic-counter",
   "metadata": {},
   "outputs": [
    {
     "name": "stdout",
     "output_type": "stream",
     "text": [
      "Score:  0.7188743953867004\n"
     ]
    },
    {
     "data": {
      "text/plain": [
       "Pipeline(steps=[('scaler', None),\n",
       "                ('tree',\n",
       "                 DecisionTreeClassifier(max_depth=35, max_features=9,\n",
       "                                        random_state=159))])"
      ]
     },
     "execution_count": 200,
     "metadata": {},
     "output_type": "execute_result"
    }
   ],
   "source": [
    "# Vemos que vuelve a elegir los mismos hiperparámetros que antes\n",
    "print('Score: ',grid_5.best_score_)\n",
    "grid_5.best_estimator_"
   ]
  },
  {
   "cell_type": "markdown",
   "id": "efficient-heading",
   "metadata": {},
   "source": [
    "<a id=\"section_random_forest\"></a>\n",
    "\n",
    "### Random Forest\n",
    "\n",
    "[volver a TOC](#section_toc)"
   ]
  },
  {
   "cell_type": "code",
   "execution_count": 201,
   "id": "prescribed-government",
   "metadata": {},
   "outputs": [],
   "source": [
    "pipeline_6 = Pipeline([('scaler', StandardScaler()), \n",
    "                     ('RFC',RandomForestClassifier(random_state=159))])\n",
    "\n",
    "parameters_6 = {'scaler':[StandardScaler(), MinMaxScaler(),None],\n",
    "              'RFC__n_estimators': [200, 400, 600, 800],\n",
    "              'RFC__max_samples': [0.3, 0.5, 0.7],\n",
    "                'RFC__bootstrap':[True, False],\n",
    "             'RFC__max_features': [10,12,14, 15, 17, 18, 20],\n",
    "               'RFC__max_depth':[5, 10, 15]}"
   ]
  },
  {
   "cell_type": "code",
   "execution_count": null,
   "id": "technical-orleans",
   "metadata": {},
   "outputs": [],
   "source": [
    "random_search_1 = RandomizedSearchCV(pipeline_6, parameters_6, n_iter=50, cv=folds, scoring='precision', n_jobs=-1)\n",
    "random_search_1.fit(X_train_sm, y_train_sm)"
   ]
  },
  {
   "cell_type": "code",
   "execution_count": null,
   "id": "daily-breakfast",
   "metadata": {},
   "outputs": [],
   "source": [
    "print('Score: ',random_search_1.best_score_)\n",
    "random_search_1.best_estimator_"
   ]
  },
  {
   "cell_type": "code",
   "execution_count": null,
   "id": "upper-posting",
   "metadata": {},
   "outputs": [],
   "source": [
    "pipeline_7 = Pipeline([('scaler', StandardScaler()), \n",
    "                     ('RFC',RandomForestClassifier(random_state=159))])\n",
    "\n",
    "parameters_7 = {'scaler':[StandardScaler(), MinMaxScaler(),None],\n",
    "              'RFC__n_estimators': [100, 200, 300],\n",
    "              'RFC__max_samples': [0.6, 0.7, 0.8],\n",
    "                'RFC__bootstrap':[True, False],\n",
    "             'RFC__max_features': [14, 15, 16],\n",
    "               'RFC__max_depth':[15, 30]}"
   ]
  },
  {
   "cell_type": "code",
   "execution_count": null,
   "id": "unlike-guard",
   "metadata": {},
   "outputs": [],
   "source": [
    "grid_6 = GridSearchCV(pipeline_7, parameters_7, cv=folds, scoring='precision', n_jobs=-1)\n",
    "grid_6.fit(X_train_sm,y_train_sm)"
   ]
  },
  {
   "cell_type": "code",
   "execution_count": null,
   "id": "different-edition",
   "metadata": {},
   "outputs": [],
   "source": [
    "print('Score: ',grid_6.best_score_)\n",
    "grid_6.best_estimator_"
   ]
  },
  {
   "cell_type": "markdown",
   "id": "assisted-choir",
   "metadata": {},
   "source": [
    "<a id=\"section_xgb\"></a>\n",
    "\n",
    "### XGBoost\n",
    "\n",
    "[volver a TOC](#section_toc)"
   ]
  },
  {
   "cell_type": "code",
   "execution_count": 203,
   "id": "declared-search",
   "metadata": {
    "colab": {},
    "colab_type": "code",
    "id": "Gmhx9Sy1Cfnk"
   },
   "outputs": [],
   "source": [
    "pipeline_8 = Pipeline([('scaler', StandardScaler()), \n",
    "                     ('XGB',XGBClassifier(random_state=159))])\n",
    "parameters_8 = {\n",
    "    'XGB__n_estimators': [400,500,600],      # Number of boosted trees to fit.\n",
    "    'XGB__max_depth': [4, 5, 6],            # Maximum tree depth for base learners.\n",
    "    'XGB__learning_rate': [0.1, 0.2, 0.5],      # Boosting learning rate (xgb’s “eta”)\n",
    "}"
   ]
  },
  {
   "cell_type": "code",
   "execution_count": 204,
   "id": "meaningful-handbook",
   "metadata": {},
   "outputs": [
    {
     "name": "stdout",
     "output_type": "stream",
     "text": [
      "[23:00:00] WARNING: ..\\src\\learner.cc:1095: Starting in XGBoost 1.3.0, the default evaluation metric used with the objective 'binary:logistic' was changed from 'error' to 'logloss'. Explicitly set eval_metric if you'd like to restore the old behavior.\n"
     ]
    },
    {
     "data": {
      "text/plain": [
       "GridSearchCV(cv=StratifiedKFold(n_splits=5, random_state=42, shuffle=True),\n",
       "             estimator=Pipeline(steps=[('scaler', StandardScaler()),\n",
       "                                       ('XGB',\n",
       "                                        XGBClassifier(base_score=None,\n",
       "                                                      booster=None,\n",
       "                                                      colsample_bylevel=None,\n",
       "                                                      colsample_bynode=None,\n",
       "                                                      colsample_bytree=None,\n",
       "                                                      gamma=None, gpu_id=None,\n",
       "                                                      importance_type='gain',\n",
       "                                                      interaction_constraints=None,\n",
       "                                                      learning_rate=None,\n",
       "                                                      max_delta_st...\n",
       "                                                      monotone_constraints=None,\n",
       "                                                      n_estimators=100,\n",
       "                                                      n_jobs=None,\n",
       "                                                      num_parallel_tree=None,\n",
       "                                                      random_state=159,\n",
       "                                                      reg_alpha=None,\n",
       "                                                      reg_lambda=None,\n",
       "                                                      scale_pos_weight=None,\n",
       "                                                      subsample=None,\n",
       "                                                      tree_method=None,\n",
       "                                                      validate_parameters=None,\n",
       "                                                      verbosity=None))]),\n",
       "             n_jobs=-1,\n",
       "             param_grid={'XGB__learning_rate': [0.1, 0.2, 0.5],\n",
       "                         'XGB__max_depth': [4, 5, 6],\n",
       "                         'XGB__n_estimators': [400, 500, 600]},\n",
       "             scoring='precision')"
      ]
     },
     "execution_count": 204,
     "metadata": {},
     "output_type": "execute_result"
    }
   ],
   "source": [
    "grid_8 = GridSearchCV(pipeline_8, parameters_8, cv=folds, scoring='precision', n_jobs=-1)\n",
    "grid_8.fit(X_train_sm,y_train_sm)"
   ]
  },
  {
   "cell_type": "code",
   "execution_count": 205,
   "id": "seventh-journalism",
   "metadata": {},
   "outputs": [
    {
     "name": "stdout",
     "output_type": "stream",
     "text": [
      "Score:  0.798826002897964\n"
     ]
    },
    {
     "data": {
      "text/plain": [
       "Pipeline(steps=[('scaler', StandardScaler()),\n",
       "                ('XGB',\n",
       "                 XGBClassifier(base_score=0.5, booster='gbtree',\n",
       "                               colsample_bylevel=1, colsample_bynode=1,\n",
       "                               colsample_bytree=1, gamma=0, gpu_id=-1,\n",
       "                               importance_type='gain',\n",
       "                               interaction_constraints='', learning_rate=0.2,\n",
       "                               max_delta_step=0, max_depth=5,\n",
       "                               min_child_weight=1, missing=nan,\n",
       "                               monotone_constraints='()', n_estimators=400,\n",
       "                               n_jobs=8, num_parallel_tree=1, random_state=159,\n",
       "                               reg_alpha=0, reg_lambda=1, scale_pos_weight=1,\n",
       "                               subsample=1, tree_method='exact',\n",
       "                               validate_parameters=1, verbosity=None))])"
      ]
     },
     "execution_count": 205,
     "metadata": {},
     "output_type": "execute_result"
    }
   ],
   "source": [
    "print('Score: ',grid_8.best_score_)\n",
    "grid_8.best_estimator_"
   ]
  },
  {
   "cell_type": "code",
   "execution_count": 206,
   "id": "positive-afternoon",
   "metadata": {},
   "outputs": [],
   "source": [
    "#Correrla cuadno hayamos elegido el mejor modelo\n",
    "\n",
    "# definimos una función para mostrar los resultados\n",
    "def mostrar_resultados(y_test, pred_y):\n",
    "    conf_matrix = confusion_matrix(y_test, pred_y); \n",
    "    \n",
    "    plt.figure(figsize=(5, 3))\n",
    "    sns.heatmap(conf_matrix,  annot=True, fmt=\"d\");\n",
    "    plt.title(\"Confusion matrix\"); plt.ylabel('True class'); plt.xlabel('Predicted class')\n",
    "    plt.show()\n",
    "\n",
    "    print(\"METRICS\")\n",
    "    print (classification_report(y_test, pred_y))"
   ]
  },
  {
   "cell_type": "code",
   "execution_count": 207,
   "id": "corresponding-drink",
   "metadata": {},
   "outputs": [
    {
     "data": {
      "image/png": "[encoded data removed]",
      "text/plain": [
       "<Figure size 360x216 with 2 Axes>"
      ]
     },
     "metadata": {},
     "output_type": "display_data"
    },
    {
     "name": "stdout",
     "output_type": "stream",
     "text": [
      "METRICS\n",
      "              precision    recall  f1-score   support\n",
      "\n",
      "           0       0.79      0.80      0.80      1453\n",
      "           1       0.62      0.60      0.61       767\n",
      "\n",
      "    accuracy                           0.73      2220\n",
      "   macro avg       0.71      0.70      0.70      2220\n",
      "weighted avg       0.73      0.73      0.73      2220\n",
      "\n"
     ]
    }
   ],
   "source": [
    "mostrar_resultados(y_test_final, grid_8.best_estimator_.predict(X_test_final))"
   ]
  },
  {
   "cell_type": "markdown",
   "id": "broad-processing",
   "metadata": {},
   "source": [
    "#### LLegamos a una precision de 0.6 con nuestro mejor modelo, ahora probamos modificando el umbral teniendo en cuenta el trade-off Precision-Recall."
   ]
  },
  {
   "cell_type": "code",
   "execution_count": 208,
   "id": "invalid-planner",
   "metadata": {},
   "outputs": [],
   "source": [
    "y_pred_proba_grid_8 = grid_8.best_estimator_.predict_proba(X_test_final)"
   ]
  },
  {
   "cell_type": "code",
   "execution_count": 209,
   "id": "portable-organic",
   "metadata": {},
   "outputs": [],
   "source": [
    "y_probs_logit_left= y_pred_proba_grid_8[:,1]"
   ]
  },
  {
   "cell_type": "code",
   "execution_count": 210,
   "id": "preliminary-antique",
   "metadata": {},
   "outputs": [
    {
     "data": {
      "text/plain": [
       "array([0, 0, 1, ..., 0, 0, 0])"
      ]
     },
     "execution_count": 210,
     "metadata": {},
     "output_type": "execute_result"
    }
   ],
   "source": [
    "y_pred_logit=(y_probs_logit_left > 0.77).astype(int)\n",
    "y_pred_logit"
   ]
  },
  {
   "cell_type": "code",
   "execution_count": 232,
   "id": "banner-writer",
   "metadata": {},
   "outputs": [
    {
     "data": {
      "image/png": "[encoded data removed]",
      "text/plain": [
       "<Figure size 360x216 with 2 Axes>"
      ]
     },
     "metadata": {},
     "output_type": "display_data"
    },
    {
     "name": "stdout",
     "output_type": "stream",
     "text": [
      "METRICS\n",
      "              precision    recall  f1-score   support\n",
      "\n",
      "           0       0.73      0.92      0.81      1453\n",
      "           1       0.69      0.36      0.47       767\n",
      "\n",
      "    accuracy                           0.72      2220\n",
      "   macro avg       0.71      0.64      0.64      2220\n",
      "weighted avg       0.72      0.72      0.69      2220\n",
      "\n"
     ]
    }
   ],
   "source": [
    "mostrar_resultados(y_test_final, y_pred_logit)"
   ]
  },
  {
   "cell_type": "markdown",
   "id": "aware-relief",
   "metadata": {},
   "source": [
    "#### Consideramos optimo el aumento de la Precision hasta 0.7 a costa de una baja sensible en el Recall.\n",
    "#### Ya que nos parece más importante que de las peliculas que el algoritmo clasifica como buena inversion, realmente lo sean.\n"
   ]
  },
  {
   "cell_type": "markdown",
   "id": "breathing-praise",
   "metadata": {},
   "source": [
    "<a id=\"section_rc_auc\"></a>\n",
    "\n",
    "### Roc Curve y AUC\n",
    "\n",
    "[volver a TOC](#section_toc)"
   ]
  },
  {
   "cell_type": "code",
   "execution_count": 212,
   "id": "brief-dubai",
   "metadata": {},
   "outputs": [],
   "source": [
    "fpr_log,tpr_log,thr_log = roc_curve(y_test_final,grid_8.best_estimator_.predict_proba(X_test_final)[:,1])"
   ]
  },
  {
   "cell_type": "code",
   "execution_count": 213,
   "id": "checked-ballot",
   "metadata": {},
   "outputs": [
    {
     "data": {
      "image/png": "[encoded data removed]",
      "text/plain": [
       "<Figure size 432x288 with 1 Axes>"
      ]
     },
     "metadata": {},
     "output_type": "display_data"
    }
   ],
   "source": [
    "df = pd.DataFrame(dict(fpr=fpr_log, tpr=tpr_log, thr = thr_log))\n",
    "\n",
    "plt.axis([0, 1.01, 0, 1.01])\n",
    "plt.xlabel('1 - Specificty'); plt.ylabel('TPR / Sensitivity'); plt.title('ROC Curve')\n",
    "plt.plot(df['fpr'],df['tpr'])\n",
    "plt.plot(np.arange(0,1, step =0.01), np.arange(0,1, step =0.01))\n",
    "plt.show()"
   ]
  },
  {
   "cell_type": "code",
   "execution_count": 214,
   "id": "quick-anatomy",
   "metadata": {},
   "outputs": [
    {
     "name": "stdout",
     "output_type": "stream",
     "text": [
      "AUC= 0.7996529232779189\n"
     ]
    }
   ],
   "source": [
    "print('AUC=', auc(fpr_log, tpr_log))"
   ]
  },
  {
   "cell_type": "markdown",
   "id": "moving-midnight",
   "metadata": {},
   "source": [
    "<a id=\"section_rfe\"></a>\n",
    "\n",
    "### Recursive Feature Elimination with Cross Validation\n",
    "\n",
    "[volver a TOC](#section_toc)"
   ]
  },
  {
   "cell_type": "code",
   "execution_count": 215,
   "id": "basic-peeing",
   "metadata": {},
   "outputs": [],
   "source": [
    "scaler= StandardScaler()\n",
    "X_sc= scaler.fit_transform(X)"
   ]
  },
  {
   "cell_type": "code",
   "execution_count": 216,
   "id": "surprised-qatar",
   "metadata": {},
   "outputs": [
    {
     "name": "stdout",
     "output_type": "stream",
     "text": [
      "             Attribute Name  Ranking  Support\n",
      "0                  duration        1     True\n",
      "1                  budget_$        1     True\n",
      "2                       USA        1     True\n",
      "3                    Europe        1     True\n",
      "4                    spring        1     True\n",
      "6                    autumn        1     True\n",
      "7          acu_votes_actors        1     True\n",
      "8      avg_acu_votes_actors        1     True\n",
      "9            mujeres_elenco        1     True\n",
      "10      acu_votes_directors        1     True\n",
      "11  avg_acu_votes_directors        1     True\n",
      "12          cant_directores        1     True\n",
      "13                   Comedy        1     True\n",
      "14                    Drama        1     True\n",
      "15            others_genres        1     True\n",
      "5                    summer        2    False\n"
     ]
    }
   ],
   "source": [
    "estimator =XGBClassifier(random_state=159,\n",
    "                        n_estimators=600,\n",
    "                        max_depth=6,\n",
    "                        learning_rate=0.1,\n",
    "                        eval_metric='mlogloss',\n",
    "                        n_jobs=4)\n",
    "kf = StratifiedKFold(n_splits = 5, shuffle = True)\n",
    "\n",
    "rfecv = RFECV(estimator, cv=kf, step = 1)\n",
    "rfecv.fit(X_sc, y)\n",
    "\n",
    "scores = pd.DataFrame()\n",
    "scores[\"Attribute Name\"] = X.columns; scores[\"Ranking\"] = rfecv.ranking_; scores[\"Support\"] = rfecv.support_\n",
    "\n",
    "print(scores.sort_values('Ranking'))\n"
   ]
  },
  {
   "cell_type": "markdown",
   "id": "immediate-fleece",
   "metadata": {},
   "source": [
    "#### Habiendo hecho recursive feature elimination con cross validation, el algoritmo concluyó que todas las features deben participar en el modelo."
   ]
  },
  {
   "cell_type": "markdown",
   "id": "portable-yorkshire",
   "metadata": {},
   "source": [
    "<a id=\"section_pickle\"></a>\n",
    "\n",
    "## Pickle\n",
    "\n",
    "[volver a TOC](#section_toc)"
   ]
  },
  {
   "cell_type": "code",
   "execution_count": 249,
   "id": "broad-arlington",
   "metadata": {},
   "outputs": [],
   "source": [
    "with open('../modelo_entrenado.pkl', 'wb') as modelo_entrenado:\n",
    "    pickle.dump(grid_8.best_estimator_, modelo_entrenado)"
   ]
  },
  {
   "cell_type": "code",
   "execution_count": 250,
   "id": "electoral-poland",
   "metadata": {},
   "outputs": [],
   "source": [
    "with open('../modelo_entrenado.pkl', 'rb') as modelo_entrenado:\n",
    "    modelo_entrenado_from_disk = pickle.load(modelo_entrenado)"
   ]
  },
  {
   "cell_type": "code",
   "execution_count": 251,
   "id": "endangered-spank",
   "metadata": {},
   "outputs": [
    {
     "data": {
      "text/plain": [
       "Pipeline(steps=[('scaler', StandardScaler()),\n",
       "                ('XGB',\n",
       "                 XGBClassifier(base_score=0.5, booster='gbtree',\n",
       "                               colsample_bylevel=1, colsample_bynode=1,\n",
       "                               colsample_bytree=1, gamma=0, gpu_id=-1,\n",
       "                               importance_type='gain',\n",
       "                               interaction_constraints='', learning_rate=0.2,\n",
       "                               max_delta_step=0, max_depth=5,\n",
       "                               min_child_weight=1, missing=nan,\n",
       "                               monotone_constraints='()', n_estimators=400,\n",
       "                               n_jobs=8, num_parallel_tree=1, random_state=159,\n",
       "                               reg_alpha=0, reg_lambda=1, scale_pos_weight=1,\n",
       "                               subsample=1, tree_method='exact',\n",
       "                               validate_parameters=1, verbosity=None))])"
      ]
     },
     "metadata": {},
     "output_type": "display_data"
    }
   ],
   "source": [
    "display(modelo_entrenado_from_disk)"
   ]
  },
  {
   "cell_type": "code",
   "execution_count": null,
   "id": "surprised-stanford",
   "metadata": {},
   "outputs": [],
   "source": []
  }
 ],
 "metadata": {
  "kernelspec": {
   "display_name": "Python 3",
   "language": "python",
   "name": "python3"
  },
  "language_info": {
   "codemirror_mode": {
    "name": "ipython",
    "version": 3
   },
   "file_extension": ".py",
   "mimetype": "text/x-python",
   "name": "python",
   "nbconvert_exporter": "python",
   "pygments_lexer": "ipython3",
   "version": "3.8.5"
  }
 },
 "nbformat": 4,
 "nbformat_minor": 5
}
